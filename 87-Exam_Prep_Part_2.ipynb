{
 "cells": [
  {
   "cell_type": "markdown",
   "metadata": {
    "id": "muVZuGtM3-Kp"
   },
   "source": [
    "# **Theory**\n",
    "\n",
    "Basic Coding Practices\n",
    "\n",
    "PEP 8, also known as the Style Guide for Python Code, is a set of guidelines that define the coding conventions for Python. Following these guidelines improves the readability, maintainability, and consistency of your Python code. Here are some key aspects of PEP 8:\n",
    "\n",
    "**Whitespace**: Use 4 spaces for indentation. Avoid mixing tabs and spaces.\n",
    "\n",
    "**Line Length:** Aim for a maximum of 79 characters per line. Use line continuation characters (\\) for longer lines when necessary.\n",
    "\n",
    "**Naming Conventions**:\n",
    "* Use lowercase with underscores for variable and function names (e.g., total_cost, calculate_area).\n",
    "* Use CamelCase for class names (e.g., MyClass).\n",
    "* Use constants in ALL_CAPS with underscores (e.g., MAX_VALUE).\n",
    "\n",
    "**Comments**: Use clear and concise comments to explain complex code sections.\n",
    "\n",
    "**Docstrings**: Document functions and classes using docstrings.\n",
    "\n",
    "### Example"
   ]
  },
  {
   "cell_type": "code",
   "execution_count": null,
   "metadata": {
    "colab": {
     "base_uri": "https://localhost:8080/"
    },
    "id": "bD3iJvdES4_F",
    "outputId": "e6fc4393-f25c-4d03-cfb6-eb4d86448c08"
   },
   "outputs": [
    {
     "name": "stdout",
     "output_type": "stream",
     "text": [
      "90\n"
     ]
    }
   ],
   "source": [
    "total_price = 100\n",
    "Discount = 10  # Wrong capitalization\n",
    "price_after_discount = total_price - Discount\n",
    "\n",
    "# Long line exceeding 79 characters\n",
    "long_variable_name = \"This is a very long variable name that makes the code hard to read\"\n",
    "\n",
    "# Unclear comment\n",
    "print(price_after_discount)  # Shows the discounted price"
   ]
  },
  {
   "cell_type": "code",
   "execution_count": null,
   "metadata": {
    "colab": {
     "base_uri": "https://localhost:8080/"
    },
    "id": "0HH2wGSy5YaA",
    "outputId": "f9050d0d-0545-4cdd-ad0a-2d2f020b2519"
   },
   "outputs": [
    {
     "name": "stdout",
     "output_type": "stream",
     "text": [
      "90\n"
     ]
    }
   ],
   "source": [
    "total_price = 100\n",
    "discount = 10  # Consistent naming convention\n",
    "\n",
    "price_after_discount = total_price - discount\n",
    "\n",
    "# Line breaks for readability\n",
    "long_variable_name = (\n",
    "    \"This is a very long variable name that makes the code \"\n",
    "    \"more readable by breaking it into multiple lines\"\n",
    ")\n",
    "\n",
    "# Clear and concise comment\n",
    "print(price_after_discount)  # Prints the price after applying the discount\n"
   ]
  },
  {
   "cell_type": "markdown",
   "metadata": {
    "id": "y9jUB3jE5_ol"
   },
   "source": [
    "**Something Cool**"
   ]
  },
  {
   "cell_type": "code",
   "execution_count": null,
   "metadata": {
    "colab": {
     "base_uri": "https://localhost:8080/"
    },
    "id": "Jvx4gZMg5cUy",
    "outputId": "36153d1c-2a05-474e-ff94-31185209bd62"
   },
   "outputs": [
    {
     "name": "stdout",
     "output_type": "stream",
     "text": [
      "Requirement already satisfied: flake8 in /usr/local/lib/python3.10/dist-packages (7.0.0)\n",
      "Requirement already satisfied: pycodestyle_magic in /usr/local/lib/python3.10/dist-packages (0.5)\n",
      "Requirement already satisfied: mccabe<0.8.0,>=0.7.0 in /usr/local/lib/python3.10/dist-packages (from flake8) (0.7.0)\n",
      "Requirement already satisfied: pycodestyle<2.12.0,>=2.11.0 in /usr/local/lib/python3.10/dist-packages (from flake8) (2.11.1)\n",
      "Requirement already satisfied: pyflakes<3.3.0,>=3.2.0 in /usr/local/lib/python3.10/dist-packages (from flake8) (3.2.0)\n"
     ]
    }
   ],
   "source": [
    "pip install flake8 pycodestyle_magic"
   ]
  },
  {
   "cell_type": "code",
   "execution_count": null,
   "metadata": {
    "id": "LRvS-iXR54DJ"
   },
   "outputs": [],
   "source": [
    "%load_ext pycodestyle_magic"
   ]
  },
  {
   "cell_type": "code",
   "execution_count": null,
   "metadata": {
    "id": "AjMdFJuL6iaX"
   },
   "outputs": [],
   "source": [
    "%pycodestyle_on"
   ]
  },
  {
   "cell_type": "markdown",
   "metadata": {
    "id": "xkgF6K-A6lKl"
   },
   "source": [
    "### Testing"
   ]
  },
  {
   "cell_type": "code",
   "execution_count": null,
   "metadata": {
    "colab": {
     "base_uri": "https://localhost:8080/"
    },
    "id": "KPtYngWs6i--",
    "outputId": "2c338211-d8f9-48eb-c1a9-ea80856c870f"
   },
   "outputs": [
    {
     "name": "stderr",
     "output_type": "stream",
     "text": [
      "INFO:pycodestyle:6:80: E501 line too long (89 > 79 characters)\n"
     ]
    },
    {
     "name": "stdout",
     "output_type": "stream",
     "text": [
      "90\n"
     ]
    }
   ],
   "source": [
    "total_price = 100\n",
    "Discount = 10  # Wrong capitalization\n",
    "price_after_discount = total_price - Discount\n",
    "\n",
    "# Long line exceeding 79 characters\n",
    "long_variable_name = \"This is a very long variable name that makes the code hard to read\"\n",
    "\n",
    "# Unclear comment\n",
    "print(price_after_discount)  # Shows the discounted price"
   ]
  },
  {
   "cell_type": "markdown",
   "metadata": {
    "id": "1VhVZvUp651W"
   },
   "source": [
    "# Basic (Data Types and Containers)"
   ]
  },
  {
   "cell_type": "code",
   "execution_count": null,
   "metadata": {
    "colab": {
     "base_uri": "https://localhost:8080/"
    },
    "id": "762PPX-76oRe",
    "outputId": "fd1409de-03ef-4b89-b7c3-2f402955ede9"
   },
   "outputs": [
    {
     "name": "stdout",
     "output_type": "stream",
     "text": [
      "2 <class 'int'>\n"
     ]
    }
   ],
   "source": [
    "a = 2\n",
    "print(a, type(a))"
   ]
  },
  {
   "cell_type": "code",
   "execution_count": null,
   "metadata": {
    "colab": {
     "base_uri": "https://localhost:8080/"
    },
    "id": "Iqz74ZKS-Hag",
    "outputId": "caf07be0-0d74-4673-8ca9-9b24cba418c3"
   },
   "outputs": [
    {
     "name": "stdout",
     "output_type": "stream",
     "text": [
      "3.4 <class 'float'>\n"
     ]
    }
   ],
   "source": [
    "b = 3.4\n",
    "print(b, type(b))"
   ]
  },
  {
   "cell_type": "code",
   "execution_count": null,
   "metadata": {
    "colab": {
     "base_uri": "https://localhost:8080/"
    },
    "id": "Q84Dtr9A-GpE",
    "outputId": "e5362ef1-4dd7-44c6-e103-834ffbf39788"
   },
   "outputs": [
    {
     "name": "stdout",
     "output_type": "stream",
     "text": [
      "Magical string <class 'str'>\n"
     ]
    }
   ],
   "source": [
    "c = \"Magical string\"\n",
    "print(c, type(c))"
   ]
  },
  {
   "cell_type": "code",
   "execution_count": null,
   "metadata": {
    "colab": {
     "base_uri": "https://localhost:8080/"
    },
    "id": "zeGV6xdC-Xfs",
    "outputId": "078e86aa-c64d-4c8a-a9f1-88fce51faa93"
   },
   "outputs": [
    {
     "data": {
      "text/plain": [
       "['Magical', 'string']"
      ]
     },
     "execution_count": 10,
     "metadata": {},
     "output_type": "execute_result"
    }
   ],
   "source": [
    "c.split(\" \")"
   ]
  },
  {
   "cell_type": "code",
   "execution_count": null,
   "metadata": {
    "colab": {
     "base_uri": "https://localhost:8080/",
     "height": 35
    },
    "id": "Em5S7uLJ-d_D",
    "outputId": "497423bc-a9ed-4942-836c-abd0e71c6ca9"
   },
   "outputs": [
    {
     "data": {
      "application/vnd.google.colaboratory.intrinsic+json": {
       "type": "string"
      },
      "text/plain": [
       "'Magical string'"
      ]
     },
     "execution_count": 11,
     "metadata": {},
     "output_type": "execute_result"
    }
   ],
   "source": [
    "c"
   ]
  },
  {
   "cell_type": "code",
   "execution_count": null,
   "metadata": {
    "colab": {
     "base_uri": "https://localhost:8080/"
    },
    "id": "sGhWu7yw-nSc",
    "outputId": "268eb621-d30f-4f12-e33f-b4a3eb78ce82"
   },
   "outputs": [
    {
     "name": "stdout",
     "output_type": "stream",
     "text": [
      "Magical string cool\n"
     ]
    }
   ],
   "source": [
    "d = c + \" cool\"\n",
    "print(d)"
   ]
  },
  {
   "cell_type": "markdown",
   "metadata": {
    "id": "WEYmLvGL_CFJ"
   },
   "source": [
    "### Some Theory\n",
    "\n",
    "* Python as strings are immutable. Trying to do so will result in a TypeError\n",
    "* Python doesn't provide a built-in mutable string type.\n",
    "* String slicing: Extract parts of the original string and combine them with the desired modifications.\n",
    "* String concatenation: Concatenate the original string with modified parts or user input.\n",
    "* String methods: Use built-in methods like replace, upper, lower, etc., to perform specific modifications and create a new string with the results.\n",
    "\n",
    "####Immutable:\n",
    "An object is considered immutable if its state or value cannot be modified after it is created. Any attempt to change the object will result in a new object being created with the desired modifications, while the original object remains unchanged. This ensures data integrity and avoids accidental modifications.\n",
    "\n",
    "####Mutable:\n",
    "A mutable object, on the other hand, can be modified after its creation. Its internal state or value can be changed, often through methods or operations provided by the object itself. This allows for flexibility and dynamic updates, but it's important to be mindful of potential side effects and ensure planned modifications."
   ]
  },
  {
   "cell_type": "markdown",
   "metadata": {
    "id": "LEP2dpZg_xg-"
   },
   "source": [
    "### Containers\n",
    "\n",
    "#### List\n",
    "\n",
    "Which one will run\n",
    "```python\n",
    "s = [1,2,\"hello\"],[4,5]\n",
    "s = [[1,2,\"hello\"],[4,5]]\n",
    "```"
   ]
  },
  {
   "cell_type": "code",
   "execution_count": null,
   "metadata": {
    "id": "XsFxQazPpvL6"
   },
   "outputs": [],
   "source": [
    "s = [1,2,\"hello\"],[4,5]"
   ]
  },
  {
   "cell_type": "code",
   "execution_count": null,
   "metadata": {
    "id": "1LoCNkLep9zS"
   },
   "outputs": [],
   "source": [
    "s,a = [1,2,\"hello\"],[4,5]"
   ]
  },
  {
   "cell_type": "code",
   "execution_count": null,
   "metadata": {
    "colab": {
     "base_uri": "https://localhost:8080/"
    },
    "id": "A7FLR_UYp_2z",
    "outputId": "95d9cc5b-0719-4160-c7be-4284d06300d3"
   },
   "outputs": [
    {
     "data": {
      "text/plain": [
       "[1, 2, 'hello']"
      ]
     },
     "execution_count": 41,
     "metadata": {},
     "output_type": "execute_result"
    }
   ],
   "source": [
    "s"
   ]
  },
  {
   "cell_type": "code",
   "execution_count": null,
   "metadata": {
    "colab": {
     "base_uri": "https://localhost:8080/"
    },
    "id": "fdspSdT0qBSa",
    "outputId": "b5c63d7a-77df-4ed2-e3e9-2f2b36942fba"
   },
   "outputs": [
    {
     "data": {
      "text/plain": [
       "[4, 5]"
      ]
     },
     "execution_count": 42,
     "metadata": {},
     "output_type": "execute_result"
    }
   ],
   "source": [
    "a"
   ]
  },
  {
   "cell_type": "code",
   "execution_count": null,
   "metadata": {
    "colab": {
     "base_uri": "https://localhost:8080/"
    },
    "id": "xhDr-k_yp0LC",
    "outputId": "b7c5c62f-1312-42a7-96bd-acc17694c63a"
   },
   "outputs": [
    {
     "data": {
      "text/plain": [
       "([1, 2, 'hello'], [4, 5])"
      ]
     },
     "execution_count": 39,
     "metadata": {},
     "output_type": "execute_result"
    }
   ],
   "source": [
    "s"
   ]
  },
  {
   "cell_type": "code",
   "execution_count": null,
   "metadata": {
    "id": "Ja3I1jMu_2Cq"
   },
   "outputs": [],
   "source": [
    "s = [[1, 2, \"hello\"], [4, 56]]"
   ]
  },
  {
   "cell_type": "code",
   "execution_count": null,
   "metadata": {
    "colab": {
     "base_uri": "https://localhost:8080/"
    },
    "id": "mPSMgcbTqFTc",
    "outputId": "b3dd82cb-5019-4776-8e70-274da4538b13"
   },
   "outputs": [
    {
     "data": {
      "text/plain": [
       "[[1, 2, 'hello'], [4, 56]]"
      ]
     },
     "execution_count": 44,
     "metadata": {},
     "output_type": "execute_result"
    }
   ],
   "source": [
    "s"
   ]
  },
  {
   "cell_type": "code",
   "execution_count": null,
   "metadata": {
    "colab": {
     "base_uri": "https://localhost:8080/"
    },
    "id": "fF37w3t8_-id",
    "outputId": "f552cb3a-c74d-4bc9-b6de-41bb10bd52bf"
   },
   "outputs": [
    {
     "data": {
      "text/plain": [
       "[4, 56]"
      ]
     },
     "execution_count": 45,
     "metadata": {},
     "output_type": "execute_result"
    }
   ],
   "source": [
    "s[1]"
   ]
  },
  {
   "cell_type": "code",
   "execution_count": null,
   "metadata": {
    "colab": {
     "base_uri": "https://localhost:8080/"
    },
    "id": "A64T5bG8AUrY",
    "outputId": "1868c0c0-1676-4eac-9d29-8a09da9544f2"
   },
   "outputs": [
    {
     "data": {
      "text/plain": [
       "56"
      ]
     },
     "execution_count": 15,
     "metadata": {},
     "output_type": "execute_result"
    }
   ],
   "source": [
    "s[1][1]"
   ]
  },
  {
   "cell_type": "code",
   "execution_count": null,
   "metadata": {
    "colab": {
     "base_uri": "https://localhost:8080/",
     "height": 144
    },
    "id": "0jgER-acAbK1",
    "outputId": "be836e01-17bf-4c06-f9bd-0ad758f856f7"
   },
   "outputs": [
    {
     "ename": "TypeError",
     "evalue": "'int' object is not subscriptable",
     "output_type": "error",
     "traceback": [
      "\u001b[0;31m---------------------------------------------------------------------------\u001b[0m",
      "\u001b[0;31mTypeError\u001b[0m                                 Traceback (most recent call last)",
      "\u001b[0;32m<ipython-input-16-701242f55c99>\u001b[0m in \u001b[0;36m<cell line: 1>\u001b[0;34m()\u001b[0m\n\u001b[0;32m----> 1\u001b[0;31m \u001b[0ms\u001b[0m\u001b[0;34m[\u001b[0m\u001b[0;36m1\u001b[0m\u001b[0;34m]\u001b[0m\u001b[0;34m[\u001b[0m\u001b[0;36m1\u001b[0m\u001b[0;34m]\u001b[0m\u001b[0;34m[\u001b[0m\u001b[0;36m0\u001b[0m\u001b[0;34m]\u001b[0m\u001b[0;34m\u001b[0m\u001b[0;34m\u001b[0m\u001b[0m\n\u001b[0m",
      "\u001b[0;31mTypeError\u001b[0m: 'int' object is not subscriptable"
     ]
    }
   ],
   "source": [
    "s[1][1][0]"
   ]
  },
  {
   "cell_type": "code",
   "execution_count": null,
   "metadata": {
    "colab": {
     "base_uri": "https://localhost:8080/",
     "height": 35
    },
    "id": "c3rl4EjDAlHP",
    "outputId": "a268775a-6d08-4412-ed3a-16159ad3097f"
   },
   "outputs": [
    {
     "data": {
      "application/vnd.google.colaboratory.intrinsic+json": {
       "type": "string"
      },
      "text/plain": [
       "'h'"
      ]
     },
     "execution_count": 17,
     "metadata": {},
     "output_type": "execute_result"
    }
   ],
   "source": [
    "s[0][2][0]"
   ]
  },
  {
   "cell_type": "markdown",
   "metadata": {
    "id": "aJ-UBNgtBAla"
   },
   "source": [
    "#### **\"Subscriptable\"** refers to an object or data type that allows you to access individual elements within it using the subscript operator []\n",
    "\n",
    "Why Strings Are Subscriptable?\n",
    "\n",
    "Strings are essentially sequences of characters. Think of them like a little box where each character occupies a specific slot with an assigned index (position number starting from 0).  The subscript operator [] lets you extract individual characters based on their index.\n",
    "\n",
    "#### **Storing datatypes string vs int**\n",
    "* Hello (5 memory points)\n",
    "\n",
    "0x68 0x65 0x6C 0x6C 0x6F\n",
    "\n",
    "* 12345 (1 memory point)\n",
    "\n",
    "0x3039\n",
    "\n"
   ]
  },
  {
   "cell_type": "markdown",
   "metadata": {
    "id": "I7Qnf9LWCIUa"
   },
   "source": [
    "#### Tuples"
   ]
  },
  {
   "cell_type": "code",
   "execution_count": null,
   "metadata": {
    "colab": {
     "base_uri": "https://localhost:8080/",
     "height": 198
    },
    "id": "bLm2Sl8lCG39",
    "outputId": "3b259bdb-3ed8-4ebd-982c-5bd643ef9017"
   },
   "outputs": [
    {
     "name": "stdout",
     "output_type": "stream",
     "text": [
      "(1, 2, 3) <class 'tuple'>\n"
     ]
    },
    {
     "ename": "TypeError",
     "evalue": "'tuple' object is not callable",
     "output_type": "error",
     "traceback": [
      "\u001b[0;31m---------------------------------------------------------------------------\u001b[0m",
      "\u001b[0;31mTypeError\u001b[0m                                 Traceback (most recent call last)",
      "\u001b[0;32m<ipython-input-18-e0a77233b8d8>\u001b[0m in \u001b[0;36m<cell line: 3>\u001b[0;34m()\u001b[0m\n\u001b[1;32m      1\u001b[0m \u001b[0mt\u001b[0m \u001b[0;34m=\u001b[0m \u001b[0;34m(\u001b[0m\u001b[0;36m1\u001b[0m\u001b[0;34m,\u001b[0m \u001b[0;36m2\u001b[0m\u001b[0;34m,\u001b[0m \u001b[0;36m3\u001b[0m\u001b[0;34m)\u001b[0m\u001b[0;34m\u001b[0m\u001b[0;34m\u001b[0m\u001b[0m\n\u001b[1;32m      2\u001b[0m \u001b[0mprint\u001b[0m\u001b[0;34m(\u001b[0m\u001b[0mt\u001b[0m\u001b[0;34m,\u001b[0m \u001b[0mtype\u001b[0m\u001b[0;34m(\u001b[0m\u001b[0mt\u001b[0m\u001b[0;34m)\u001b[0m\u001b[0;34m)\u001b[0m\u001b[0;34m\u001b[0m\u001b[0;34m\u001b[0m\u001b[0m\n\u001b[0;32m----> 3\u001b[0;31m \u001b[0mt\u001b[0m\u001b[0;34m(\u001b[0m\u001b[0;36m1\u001b[0m\u001b[0;34m)\u001b[0m\u001b[0;34m\u001b[0m\u001b[0;34m\u001b[0m\u001b[0m\n\u001b[0m",
      "\u001b[0;31mTypeError\u001b[0m: 'tuple' object is not callable"
     ]
    }
   ],
   "source": [
    "t = (1, 2, 3)\n",
    "print(t, type(t))\n",
    "t(1)"
   ]
  },
  {
   "cell_type": "markdown",
   "metadata": {
    "id": "tbXQNyCpCjVs"
   },
   "source": [
    "**Tuples** in Python are immutable sequences, meaning they store a collection of values that cannot be changed after creation. They are specifically designed to hold data and are not meant to be executed like regular functions"
   ]
  },
  {
   "cell_type": "code",
   "execution_count": null,
   "metadata": {
    "colab": {
     "base_uri": "https://localhost:8080/"
    },
    "id": "FEafbHFPCpb_",
    "outputId": "f71e4e0b-d853-4900-c1dc-30cba0a34cf2"
   },
   "outputs": [
    {
     "name": "stdout",
     "output_type": "stream",
     "text": [
      "10\n",
      "apple\n"
     ]
    }
   ],
   "source": [
    "my_tuple = (10, 20, \"apple\")\n",
    "print(my_tuple[0])   # first_element will be 10\n",
    "print(my_tuple[-1])  # last_element will be \"apple\""
   ]
  },
  {
   "cell_type": "code",
   "execution_count": null,
   "metadata": {
    "colab": {
     "base_uri": "https://localhost:8080/"
    },
    "id": "sGskNSw2DkR8",
    "outputId": "f162938f-57ff-4390-cb80-83c366c1b8e7"
   },
   "outputs": [
    {
     "name": "stdout",
     "output_type": "stream",
     "text": [
      "apple\n",
      "banana\n",
      "orange\n"
     ]
    }
   ],
   "source": [
    "fruits = (\"apple\", \"banana\", \"orange\")\n",
    "for fruit in fruits:\n",
    "    print(fruit)  # This will print each fruit on a new line"
   ]
  },
  {
   "cell_type": "code",
   "execution_count": null,
   "metadata": {
    "colab": {
     "base_uri": "https://localhost:8080/"
    },
    "id": "8pn-t6l0DpKK",
    "outputId": "df28060b-1a0b-41d0-fc49-6d34c8c89ed9"
   },
   "outputs": [
    {
     "name": "stdout",
     "output_type": "stream",
     "text": [
      "Alice Bob Charlie\n"
     ]
    }
   ],
   "source": [
    "names = (\"Alice\", \"Bob\", \"Charlie\")\n",
    "first_name, second_name, third_name = names  # Unpack elements\n",
    "print(first_name, second_name, third_name)  # Output: Alice Bob Charlie"
   ]
  },
  {
   "cell_type": "markdown",
   "metadata": {
    "id": "Pc2Qa78c7Awh"
   },
   "source": [
    "# Lambdas\n",
    "\n",
    "Lambda functions, also known as anonymous functions, offer a concise way to define small, single-expression functions in Python\n",
    "\n",
    "**Syntax**\n",
    "```python\n",
    "lambda arguments: expression\n",
    "```\n",
    "* arguments: Comma-separated list of input parameters (can be omitted if no arguments are needed).\n",
    "* expression: The function body, which is a single expression that is evaluated and returned.\n",
    "\n"
   ]
  },
  {
   "cell_type": "code",
   "execution_count": null,
   "metadata": {
    "colab": {
     "base_uri": "https://localhost:8080/"
    },
    "id": "oaUAjnh076sP",
    "outputId": "ab3435f5-12b8-4864-8a54-5780e36f9dea"
   },
   "outputs": [
    {
     "name": "stderr",
     "output_type": "stream",
     "text": [
      "INFO:pycodestyle:3:3: E111 indentation is not a multiple of 4\n",
      "INFO:pycodestyle:6:1: E305 expected 2 blank lines after class or function definition, found 1\n",
      "INFO:pycodestyle:6:1: E731 do not assign a lambda expression, use a def\n",
      "INFO:pycodestyle:13:1: W391 blank line at end of file\n"
     ]
    },
    {
     "name": "stdout",
     "output_type": "stream",
     "text": [
      "25 25\n"
     ]
    }
   ],
   "source": [
    "# Regular function\n",
    "def square(x):\n",
    "  return x * x\n",
    "\n",
    "# Equivalent lambda function\n",
    "square_lambda = lambda x: x * x\n",
    "\n",
    "# Calling both functions\n",
    "result1 = square(5)\n",
    "result2 = square_lambda(5)\n",
    "\n",
    "print(result1, result2)  # Output: 25 25\n"
   ]
  },
  {
   "cell_type": "markdown",
   "metadata": {
    "id": "9Yst38eU8C6_"
   },
   "source": [
    "### Key Characteristics:\n",
    "\n",
    "* **Anonymous**: Lambdas don't have a name, making them suitable for quick, one-time use cases.\n",
    "* **Single Expression:** They can only contain a single expression, limiting their complexity.\n",
    "* **Return Value:** The expression within the lambda is evaluated and returned as the function's output.\n",
    "* **Arguments**: They can take any number of arguments, similar to regular functions\n",
    "\n",
    "### Advantages:\n",
    "\n",
    "* **Conciseness**: Lambdas offer a concise way to write short functions, improving code readability in certain situations.\n",
    "* **Readability**: They can improve code readability when used within functions or expressions where a short, inline function makes sense.\n",
    "\n",
    "### When to Use Lambdas:\n",
    "\n",
    "* **Simple, one-time calculations:** When you need a short, self-contained calculation within a larger expression.\n",
    "* **Sorting and filtering**: Lambdas are commonly used as arguments to functions like sort and filter to define custom sorting or filtering criteria.\n",
    "* **Callback functions:** When you need to pass a small function as an argument to another function, a lambda can be a concise solution.\n",
    "\n",
    "### When to Avoid Lambdas:\n",
    "\n",
    "* **Complex Functionality:** For complex operations or reusable code, regular functions offer better structure and maintainability.\n",
    "* **Overuse**: Overusing lambdas can make code less readable and harder to understand."
   ]
  },
  {
   "cell_type": "markdown",
   "metadata": {
    "id": "wr8OljG4D_EU"
   },
   "source": [
    "### Loops\n",
    "\n",
    "Recursion is a programming technique where a function calls itself. This allows for the repetitive execution of a task, often breaking down a problem into smaller sub-problems. All functions require a base condition.\n",
    "\n",
    "**Base condition:** This is a critical part of a recursive function that serves as the stopping point. It defines the simplest case where the function no longer needs to call itself and can return a result directly.\n",
    "\n",
    "```python\n",
    "def factorial(n):  # Missing base condition\n",
    "    return n * factorial(n - 1)\n",
    "\n",
    "factorial(5)  # This will result in an infinite loop\n",
    "```\n"
   ]
  },
  {
   "cell_type": "code",
   "execution_count": null,
   "metadata": {
    "colab": {
     "base_uri": "https://localhost:8080/"
    },
    "id": "YgwAerVe77Vp",
    "outputId": "7d92e2dc-2fcc-45cc-ac32-ac72c8c3a2c8"
   },
   "outputs": [
    {
     "data": {
      "text/plain": [
       "120"
      ]
     },
     "execution_count": 23,
     "metadata": {},
     "output_type": "execute_result"
    },
    {
     "name": "stderr",
     "output_type": "stream",
     "text": [
      "INFO:pycodestyle:7:1: E305 expected 2 blank lines after class or function definition, found 1\n",
      "INFO:pycodestyle:8:1: W391 blank line at end of file\n"
     ]
    }
   ],
   "source": [
    "def factorial(n):\n",
    "    if n == 0:  # Base condition: n = 0\n",
    "        return 1\n",
    "    else:\n",
    "        return n * factorial(n - 1)\n",
    "\n",
    "factorial(5)  # This will now correctly return 120\n"
   ]
  },
  {
   "cell_type": "code",
   "execution_count": null,
   "metadata": {
    "colab": {
     "base_uri": "https://localhost:8080/",
     "height": 305
    },
    "id": "cl2pVoVFEgEZ",
    "outputId": "eb989f83-6df7-4ccf-a538-1e0c644197d3"
   },
   "outputs": [
    {
     "name": "stdout",
     "output_type": "stream",
     "text": [
      "0\n",
      "1\n",
      "2\n",
      "3\n",
      "4\n",
      "5\n",
      "6\n",
      "7\n",
      "8\n",
      "9\n",
      "Press 'q' to quit: q\n"
     ]
    },
    {
     "ename": "SyntaxError",
     "evalue": "'break' outside loop (<ipython-input-46-74ee76875db5>, line 9)",
     "output_type": "error",
     "traceback": [
      "\u001b[0;36m  File \u001b[0;32m\"<ipython-input-46-74ee76875db5>\"\u001b[0;36m, line \u001b[0;32m9\u001b[0m\n\u001b[0;31m    break\u001b[0m\n\u001b[0m    ^\u001b[0m\n\u001b[0;31mSyntaxError\u001b[0m\u001b[0;31m:\u001b[0m 'break' outside loop\n"
     ]
    }
   ],
   "source": [
    "# This will cause the error\n",
    "for i in range(int(10.5)):  # Trying to use a float as the end argument in range()\n",
    "    print(i)\n",
    "\n",
    "\n",
    "# Added a way to break the loop\n",
    "user_input = input(\"Press 'q' to quit: \")\n",
    "if user_input == 'q':\n",
    "    break"
   ]
  },
  {
   "cell_type": "markdown",
   "metadata": {
    "id": "M1TyjE8lGU8w"
   },
   "source": [
    "### OOP\n",
    "\n",
    "\n",
    "In Object-Oriented Programming (OOP), instantiation refers to the process of creating a specific instance of a class. This instance, often called an object, is a concrete realization of the blueprint defined by the class.\n",
    "\n",
    "1. Class: A class acts as a blueprint or template that defines the properties (attributes) and behaviors (methods) that objects of that class will share. It holds the general characteristics of a group of similar objects.\n",
    "\n",
    "2. Instance (Object): An object is a specific example of a class. It holds its own set of data (attribute values) and can perform actions based on the methods defined in the class. Think of it as a real-world object, like a car, that has specific attributes (color, model) and functionalities (accelerate, brake).\n",
    "\n",
    "3. Instantiation: This process involves creating an object from a class. Imagine building a car from the blueprint (class). The process of instantiation takes the class's blueprint and creates a new, unique object (car) with its own properties and behaviors.\n",
    "\n",
    "**How Instantiation Works:**\n",
    "\n",
    "In most programming languages, instantiation is typically done using a specific keyword or syntax. For example, in Python, you use the new keyword to create an object from a class:"
   ]
  },
  {
   "cell_type": "code",
   "execution_count": null,
   "metadata": {
    "colab": {
     "base_uri": "https://localhost:8080/"
    },
    "id": "_a12YT7xFOS7",
    "outputId": "86b907f2-7203-4c84-9316-2fbbb67bacf3"
   },
   "outputs": [
    {
     "name": "stdout",
     "output_type": "stream",
     "text": [
      "The car's color is red.\n",
      "Tesla Model S is accelerating!\n"
     ]
    }
   ],
   "source": [
    "class Car:\n",
    "    def __init__(self, color, model):  # Constructor (optional)\n",
    "        self.color = color\n",
    "        self.model = model\n",
    "\n",
    "    def accelerate(self):\n",
    "        print(f\"{self.model} is accelerating!\")\n",
    "\n",
    "# Instantiation: Creating an object (car) from the Car class\n",
    "my_car = Car(\"red\", \"Tesla Model S\")\n",
    "\n",
    "# Accessing object attributes and calling methods\n",
    "print(f\"The car's color is {my_car.color}.\")\n",
    "my_car.accelerate()\n"
   ]
  },
  {
   "cell_type": "markdown",
   "metadata": {
    "id": "1knon8tlIGzr"
   },
   "source": [
    "**Benefits of Instantiation:**\n",
    "\n",
    "- Customization: You can create objects tailored to specific needs within your program.\n",
    "- Data Encapsulation: Objects encapsulate their data and control access through methods, promoting data integrity.\n",
    "- Code Reusability: Classes provide a blueprint for creating multiple objects with similar properties and behaviors, reducing code duplication.\n",
    "\n",
    "### Algorithms\n",
    "\n",
    "**Selection Sort:**\n",
    "\n",
    "This algorithm repeatedly finds the minimum element in the unsorted portion of the list and swaps it with the first element in that portion, gradually building the sorted part of the list.\n",
    "\n",
    "**Bubble Sort:**\n",
    "\n",
    "This algorithm repeatedly compares adjacent elements and swaps them if they are in the wrong order, gradually bubbling the largest elements to the end of the list.\n",
    "\n",
    "**Insertion Sort:**\n",
    "\n",
    "This algorithm iterates through the list, inserting each element at its correct position in the already sorted sub-list.\n",
    "\n",
    "**Quick Sort (Recursive):**\n",
    "\n",
    "This algorithm is a divide-and-conquer sorting algorithm. It picks a pivot element, partitions the list around the pivot, and then recursively sorts the sub-lists before and after the pivot.\n",
    "\n"
   ]
  },
  {
   "cell_type": "code",
   "execution_count": null,
   "metadata": {
    "id": "ViV9H4y5Gtm4"
   },
   "outputs": [],
   "source": [
    "def selection_sort(data):\n",
    "  \"\"\"Sorts a list in ascending order using selection sort.\"\"\"\n",
    "  for i in range(len(data) - 1):\n",
    "    min_index = i\n",
    "    for j in range(i + 1, len(data)):\n",
    "      if data[j] < data[min_index]:\n",
    "        min_index = j\n",
    "    if i != min_index:\n",
    "      data[i], data[min_index] = data[min_index], data[i]\n",
    "\n",
    "# Example usage\n",
    "data = [5, 2, 8, 1, 3]\n",
    "selection_sort(data)\n",
    "print(data)\n"
   ]
  },
  {
   "cell_type": "code",
   "execution_count": null,
   "metadata": {
    "id": "iSEbEqETIufg"
   },
   "outputs": [],
   "source": [
    "def bubble_sort(data):\n",
    "  \"\"\"Sorts a list in ascending order using bubble sort.\"\"\"\n",
    "  swapped = True\n",
    "  while swapped:\n",
    "    swapped = False\n",
    "    for i in range(len(data) - 1):\n",
    "      if data[i] > data[i + 1]:\n",
    "        data[i], data[i + 1] = data[i + 1], data[i]\n",
    "        swapped = True\n",
    "\n",
    "# Example usage\n",
    "data = [5, 2, 8, 1, 3]\n",
    "bubble_sort(data)\n",
    "print(data)  # Output: [1, 2, 3, 5, 8]\n"
   ]
  },
  {
   "cell_type": "code",
   "execution_count": null,
   "metadata": {
    "id": "DC603N5oIxWd"
   },
   "outputs": [],
   "source": [
    "def insertion_sort(data):\n",
    "  \"\"\"Sorts a list in ascending order using insertion sort.\"\"\"\n",
    "  for i in range(1, len(data)):\n",
    "    key = data[i]\n",
    "    j = i - 1\n",
    "    while j >= 0 and key < data[j]:\n",
    "      data[j + 1] = data[j]\n",
    "      j -= 1\n",
    "    data[j + 1] = key\n",
    "\n",
    "# Example usage\n",
    "data = [5, 2, 8, 1, 3]\n",
    "insertion_sort(data)\n",
    "print(data)"
   ]
  },
  {
   "cell_type": "code",
   "execution_count": null,
   "metadata": {
    "id": "ZQNhn3faI8F9"
   },
   "outputs": [],
   "source": [
    "def partition(data, low, high):\n",
    "  \"\"\"Partitions the list around a pivot element.\"\"\"\n",
    "  pivot = data[high]\n",
    "  i = (low - 1)\n",
    "  for j in range(low, high):\n",
    "    if data[j] <= pivot:\n",
    "      i += 1\n",
    "      data[i], data[j] = data[j], data[i]\n",
    "  data[i + 1], data[high] = data[high], data[i + 1]\n",
    "  return (i + 1)\n",
    "\n",
    "def quick_sort(data, low, high):\n",
    "  \"\"\"Sorts a list in ascending order using quick sort.\"\"\"\n",
    "  if low < high:\n",
    "    pi = partition(data, low, high)\n",
    "    quick_sort(data, low, pi - 1)\n",
    "    quick_sort(data, pi + 1, high)\n",
    "\n",
    "# Example usage\n",
    "data = [5, 2, 8, 1, 3]\n",
    "quick_sort(data, 0, len(data) - 1)\n",
    "print(data)"
   ]
  },
  {
   "cell_type": "markdown",
   "metadata": {
    "id": "T3ytggKXJZT0"
   },
   "source": [
    "### **What is Time Complexity?**\n",
    "\n",
    "Time complexity is a way to describe how the running time of an algorithm changes as the size of the input data increases.\n",
    "It's not concerned with the exact time in seconds but rather the general rate of growth of an algorithm's runtime with respect to the input size.\n",
    "This is important for making informed decisions when choosing algorithms, especially when processing large datasets.\n",
    "\n",
    "### How Time Complexity is Expressed\n",
    "\n",
    "Big O notation is most commonly used to express time complexity. It allows us to focus on the dominant term that determines an algorithm's growth rate as the input scales. Here are some common Big O notations:\n",
    "\n",
    "* O(1): Constant time. The algorithm's running time doesn't change regardless of the input size. Example: Accessing a single element in an array.\n",
    "* O(n): Linear time. The running time increases directly proportional to the input size (n). Example: Iterating through an entire list.\n",
    "* O(n^2): Quadratic time. The running time increases by the square of the input size. Example: Nested loops where each loop iterates through the entire dataset.\n",
    "* O(log n): Logarithmic time. The running time increases logarithmically with the input size. Example: Binary search.\n",
    "Understanding Time Complexity with Examples\n",
    "\n",
    "![](https://images.squarespace-cdn.com/content/v1/54905286e4b050812345644c/1670524110344-AWMNPTMY28QL4YMPQXK6/parent2+copy.jpg)"
   ]
  },
  {
   "cell_type": "code",
   "execution_count": null,
   "metadata": {
    "id": "Ba3DujHpLl00"
   },
   "outputs": [],
   "source": [
    "import timeit"
   ]
  },
  {
   "cell_type": "code",
   "execution_count": null,
   "metadata": {
    "colab": {
     "base_uri": "https://localhost:8080/"
    },
    "id": "pdw1Hg3UJDdg",
    "outputId": "c2759241-5859-4d46-b3c6-e318a4b70df3"
   },
   "outputs": [
    {
     "name": "stdout",
     "output_type": "stream",
     "text": [
      "391 ns ± 86.2 ns per loop (mean ± std. dev. of 7 runs, 1000000 loops each)\n"
     ]
    }
   ],
   "source": [
    "%%timeit\n",
    "def sum_list(data):\n",
    "    total = 0\n",
    "    for num in data:\n",
    "        total += num\n",
    "    return total"
   ]
  },
  {
   "cell_type": "code",
   "execution_count": null,
   "metadata": {
    "id": "gcKNJZUWJ2F_"
   },
   "outputs": [],
   "source": [
    "%%timeit\n",
    "def sumlist(data):\n",
    "    total = 0\n",
    "    for num in data:\n",
    "        for i in range(len(data)):\n",
    "           total += num\n",
    "    return total"
   ]
  },
  {
   "cell_type": "markdown",
   "metadata": {
    "id": "3jA4k4nPKGc5"
   },
   "source": [
    "### Why Time Complexity Matters\n",
    "\n",
    "* Algorithm Efficiency: Time complexity helps you compare the efficiency of different algorithms for solving the same problem. Ideally, you'd choose the algorithm with the best time complexity as your input grows.\n",
    "\n",
    "* Predictability: Understanding time complexity gives you a rough estimate of how long your code might take to run, allowing you to optimize or avoid algorithms that might be too slow for certain inputs.\n",
    "\n",
    "* Scalability: Time complexity analysis is crucial when developing software that is designed to handle large datasets."
   ]
  },
  {
   "cell_type": "markdown",
   "metadata": {
    "id": "p110S_zTNtJt"
   },
   "source": [
    "The time complexity of a quick sort algorithm, which makes use of median, found by an O(n) algorithm, as pivot element is:\n",
    "\n",
    "O(logn)\n",
    "O(n²)\n",
    "O(n)\n",
    "O(nlogn)\n",
    "\n",
    "**Think which will be the biggest?**\n",
    "\n",
    "* Median of Medians: This strategy involves finding the median of medians (the median of medians of groups of elements) as the pivot. This ensures a more balanced partition compared to selecting the first or last element as the pivot, leading to better average performance.\n",
    "\n",
    "* Average Time Complexity: With the median of medians selection, the partitioning of the list tends to be more balanced in each recursive call. This results in sub-lists with roughly equal sizes, leading to efficient sorting and an average time complexity of O(n log n).\n",
    "\n",
    "* Worst-Case Time Complexity: However, even with the median of medians, the worst-case scenario remains the same as regular Quick Sort (O(n^2)). This can occur if the chosen pivot element consistently leads to significantly unbalanced partitions, like always picking the largest or smallest element as the pivot."
   ]
  },
  {
   "cell_type": "markdown",
   "metadata": {
    "id": "FJhRwe25OGTE"
   },
   "source": [
    "### Github\n",
    "\n",
    "![](https://i.stack.imgur.com/MgaV9.png)\n",
    "\n",
    "1. ```git init```:\n",
    "\n",
    "This command initializes a Git repository in the current directory.\n",
    "It creates a hidden folder called .git that stores all the information about your code's versions (commits).\n",
    "This step creates a local Git repository on your computer, not yet connected to any remote repository like GitHub.\n",
    "2. ```git add```:\n",
    "\n",
    "This command adds files to the staging area for the next commit.\n",
    "The staging area is like a temporary holding location where you can choose which changes you want to include in your next commit.\n",
    "By default, git add adds all untracked files in the current directory, but you can also specify specific files or patterns to add.\n",
    "3. ```git commit```:\n",
    "\n",
    "This command captures the current state of the staged files in a commit.\n",
    "A commit acts like a snapshot of your code at a specific point in time.\n",
    "When you run git commit, you'll usually be prompted to enter a commit message that describes the changes you're making. This message is crucial for tracking the history of your code.\n",
    "4. ```git push```:\n",
    "\n",
    "This command pushes the committed changes from your local repository to a remote repository like GitHub.\n",
    "Before pushing, you need to set up a remote repository on GitHub and link your local repository to it.\n",
    "git push typically requires your GitHub username and password for authentication.\n",
    "\n",
    "In summary:\n",
    "* Initialize: git init creates a local Git repository.\n",
    "* Stage changes: git add selects files for the next commit.\n",
    "* Commit changes: git commit captures the staged changes and creates a historical record.\n",
    "* Push changes: git push sends the committed changes to a remote repository like GitHub."
   ]
  },
  {
   "cell_type": "markdown",
   "metadata": {
    "id": "v5jtnn31PTuT"
   },
   "source": [
    "### Straight from the test"
   ]
  },
  {
   "cell_type": "code",
   "execution_count": null,
   "metadata": {
    "colab": {
     "base_uri": "https://localhost:8080/",
     "height": 108
    },
    "id": "aTRUMiq_NsFr",
    "outputId": "5340e02e-b9fe-462c-9c75-dbef1bbd92d4"
   },
   "outputs": [
    {
     "ename": "SyntaxError",
     "evalue": "positional argument follows keyword argument (<ipython-input-28-ea5adcbd77d2>, line 15)",
     "output_type": "error",
     "traceback": [
      "\u001b[0;36m  File \u001b[0;32m\"<ipython-input-28-ea5adcbd77d2>\"\u001b[0;36m, line \u001b[0;32m15\u001b[0m\n\u001b[0;31m    sns.scatterplot(x='Yield_of_maize_kgs', y='Average_temperature', data)\u001b[0m\n\u001b[0m                                                                         ^\u001b[0m\n\u001b[0;31mSyntaxError\u001b[0m\u001b[0;31m:\u001b[0m positional argument follows keyword argument\n"
     ]
    }
   ],
   "source": [
    "import seaborn as sns\n",
    "\n",
    "import matplotlib.pyplot as plt\n",
    "\n",
    "import pandas as pd\n",
    "\n",
    "data = pd.DataFrame({\n",
    "\n",
    "    'Yield_of_maize_kgs': [250, 300, 350, 400, 450],\n",
    "\n",
    "    'Average_temperature': [18, 30, 21, 25, 27]\n",
    "\n",
    "})\n",
    "\n",
    "sns.scatterplot(x='Yield_of_maize_kgs', y='Average_temperature', data)\n",
    "\n",
    "plt.title('Effect of temperature on maize yield')\n",
    "\n",
    "plt.show()"
   ]
  },
  {
   "cell_type": "code",
   "execution_count": null,
   "metadata": {
    "id": "WL3XxAmfJ3ys"
   },
   "outputs": [],
   "source": [
    "import seaborn as sns\n",
    "\n",
    "import matplotlib.pyplot as plt\n",
    "\n",
    "import pandas as pd\n",
    "\n",
    "data = pd.DataFrame({\n",
    "\n",
    "    'Yield_of_maize_kgs': [250, 300, 350, 400, 450],\n",
    "\n",
    "    'Average_temperature': [18, 30, 21, 25, 27]\n",
    "\n",
    "})"
   ]
  },
  {
   "cell_type": "code",
   "execution_count": null,
   "metadata": {
    "colab": {
     "base_uri": "https://localhost:8080/",
     "height": 508
    },
    "id": "UHU3L0JbPe_y",
    "outputId": "7eabe7b5-114e-48df-9a36-a9bd9278c8cf"
   },
   "outputs": [
    {
     "data": {
      "image/png": "[encoded data removed]",
      "text/plain": [
       "<Figure size 640x480 with 1 Axes>"
      ]
     },
     "metadata": {},
     "output_type": "display_data"
    },
    {
     "name": "stderr",
     "output_type": "stream",
     "text": [
      "INFO:pycodestyle:1:67: E251 unexpected spaces around keyword / parameter equals\n",
      "INFO:pycodestyle:1:69: E251 unexpected spaces around keyword / parameter equals\n"
     ]
    }
   ],
   "source": [
    "sns.lineplot(x='Average_temperature', y='Yield_of_maize_kgs', data = data)\n",
    "\n",
    "plt.title('Effect of temperature on maize yield')\n",
    "\n",
    "plt.show()"
   ]
  },
  {
   "cell_type": "markdown",
   "metadata": {
    "id": "QEzJYhqeQNT-"
   },
   "source": [
    "# Practical\n",
    "\n",
    "You will need to load the csv into the notebook there is not github link"
   ]
  },
  {
   "cell_type": "code",
   "execution_count": null,
   "metadata": {
    "id": "ocFXhzdWPmr-"
   },
   "outputs": [],
   "source": [
    "import pandas as pd\n",
    "import numpy as np"
   ]
  },
  {
   "cell_type": "code",
   "execution_count": null,
   "metadata": {
    "id": "yccedQAmQdqP"
   },
   "outputs": [],
   "source": [
    "df = pd.read_csv('/content/MD_agric_exam-4313.csv')"
   ]
  },
  {
   "cell_type": "code",
   "execution_count": null,
   "metadata": {
    "colab": {
     "base_uri": "https://localhost:8080/",
     "height": 226
    },
    "id": "idWWiRAkQrub",
    "outputId": "017fc98f-4278-45ff-da1e-3073fac64483"
   },
   "outputs": [
    {
     "data": {
      "application/vnd.google.colaboratory.intrinsic+json": {
       "summary": "{\n  \"name\": \"df\",\n  \"rows\": 1000,\n  \"fields\": [\n    {\n      \"column\": \"Field_ID\",\n      \"properties\": {\n        \"dtype\": \"number\",\n        \"std\": 1595,\n        \"min\": 1,\n        \"max\": 5632,\n        \"num_unique_values\": 1000,\n        \"samples\": [\n          182,\n          2111,\n          4820\n        ],\n        \"semantic_type\": \"\",\n        \"description\": \"\"\n      }\n    },\n    {\n      \"column\": \"Elevation\",\n      \"properties\": {\n        \"dtype\": \"number\",\n        \"std\": 179.09854577925242,\n        \"min\": 35.910797,\n        \"max\": 1003.9437,\n        \"num_unique_values\": 999,\n        \"samples\": [\n          595.1161,\n          657.79865,\n          795.66144\n        ],\n        \"semantic_type\": \"\",\n        \"description\": \"\"\n      }\n    },\n    {\n      \"column\": \"Rainfall\",\n      \"properties\": {\n        \"dtype\": \"number\",\n        \"std\": 497.7946994984567,\n        \"min\": 110.1,\n        \"max\": 2408.5,\n        \"num_unique_values\": 976,\n        \"samples\": [\n          437.9,\n          2089.6,\n          1786.7\n        ],\n        \"semantic_type\": \"\",\n        \"description\": \"\"\n      }\n    },\n    {\n      \"column\": \"Min_temperature_C\",\n      \"properties\": {\n        \"dtype\": \"number\",\n        \"std\": 1.5681174006375231,\n        \"min\": -9.7,\n        \"max\": -1.1999999999999993,\n        \"num_unique_values\": 78,\n        \"samples\": [\n          -2.1,\n          -5.4,\n          -3.6\n        ],\n        \"semantic_type\": \"\",\n        \"description\": \"\"\n      }\n    },\n    {\n      \"column\": \"Max_temperature_C\",\n      \"properties\": {\n        \"dtype\": \"number\",\n        \"std\": 1.9222502141724125,\n        \"min\": 25.1,\n        \"max\": 37.3,\n        \"num_unique_values\": 100,\n        \"samples\": [\n          27.3,\n          30.6,\n          32.3\n        ],\n        \"semantic_type\": \"\",\n        \"description\": \"\"\n      }\n    },\n    {\n      \"column\": \"pH\",\n      \"properties\": {\n        \"dtype\": \"number\",\n        \"std\": 0.8021542155343988,\n        \"min\": 3.701837695247213,\n        \"max\": 7.484682522648175,\n        \"num_unique_values\": 1000,\n        \"samples\": [\n          5.880206726609568,\n          5.690477616164524,\n          6.418722828008496\n        ],\n        \"semantic_type\": \"\",\n        \"description\": \"\"\n      }\n    },\n    {\n      \"column\": \"Pollution_level\",\n      \"properties\": {\n        \"dtype\": \"number\",\n        \"std\": 0.22886646030602034,\n        \"min\": 5.3974477012003e-10,\n        \"max\": 0.9954133959472448,\n        \"num_unique_values\": 1000,\n        \"samples\": [\n          9.425088998298988e-05,\n          0.0002043991446461,\n          0.04844470139404\n        ],\n        \"semantic_type\": \"\",\n        \"description\": \"\"\n      }\n    },\n    {\n      \"column\": \"Plot_size\",\n      \"properties\": {\n        \"dtype\": \"number\",\n        \"std\": 3.4590361621658667,\n        \"min\": 0.5,\n        \"max\": 15.0,\n        \"num_unique_values\": 134,\n        \"samples\": [\n          12.8,\n          12.2,\n          7.5\n        ],\n        \"semantic_type\": \"\",\n        \"description\": \"\"\n      }\n    },\n    {\n      \"column\": \"Annual_yield\",\n      \"properties\": {\n        \"dtype\": \"number\",\n        \"std\": 1.9266937481456616,\n        \"min\": 0.1748574333801564,\n        \"max\": 12.695223852226984,\n        \"num_unique_values\": 1000,\n        \"samples\": [\n          4.2235074940350525,\n          0.8042398298079456,\n          2.0284309736238217\n        ],\n        \"semantic_type\": \"\",\n        \"description\": \"\"\n      }\n    },\n    {\n      \"column\": \"Crop_type\",\n      \"properties\": {\n        \"dtype\": \"category\",\n        \"num_unique_values\": 8,\n        \"samples\": [\n          \"potato\",\n          \"maize\",\n          \"coffee\"\n        ],\n        \"semantic_type\": \"\",\n        \"description\": \"\"\n      }\n    }\n  ]\n}",
       "type": "dataframe",
       "variable_name": "df"
      },
      "text/html": [
       "\n",
       "  <div id=\"df-76b763b1-1f86-4469-a977-c80552fb32fa\" class=\"colab-df-container\">\n",
       "    <div>\n",
       "<style scoped>\n",
       "    .dataframe tbody tr th:only-of-type {\n",
       "        vertical-align: middle;\n",
       "    }\n",
       "\n",
       "    .dataframe tbody tr th {\n",
       "        vertical-align: top;\n",
       "    }\n",
       "\n",
       "    .dataframe thead th {\n",
       "        text-align: right;\n",
       "    }\n",
       "</style>\n",
       "<table border=\"1\" class=\"dataframe\">\n",
       "  <thead>\n",
       "    <tr style=\"text-align: right;\">\n",
       "      <th></th>\n",
       "      <th>Field_ID</th>\n",
       "      <th>Elevation</th>\n",
       "      <th>Rainfall</th>\n",
       "      <th>Min_temperature_C</th>\n",
       "      <th>Max_temperature_C</th>\n",
       "      <th>pH</th>\n",
       "      <th>Pollution_level</th>\n",
       "      <th>Plot_size</th>\n",
       "      <th>Annual_yield</th>\n",
       "      <th>Crop_type</th>\n",
       "    </tr>\n",
       "  </thead>\n",
       "  <tbody>\n",
       "    <tr>\n",
       "      <th>0</th>\n",
       "      <td>1162</td>\n",
       "      <td>494.95615</td>\n",
       "      <td>1507.6</td>\n",
       "      <td>-5.4</td>\n",
       "      <td>31.0</td>\n",
       "      <td>6.859436</td>\n",
       "      <td>0.007034</td>\n",
       "      <td>3.6</td>\n",
       "      <td>1.617421</td>\n",
       "      <td>coffee</td>\n",
       "    </tr>\n",
       "    <tr>\n",
       "      <th>1</th>\n",
       "      <td>5108</td>\n",
       "      <td>663.73390</td>\n",
       "      <td>581.0</td>\n",
       "      <td>-4.7</td>\n",
       "      <td>30.9</td>\n",
       "      <td>5.603219</td>\n",
       "      <td>0.289643</td>\n",
       "      <td>4.2</td>\n",
       "      <td>2.532497</td>\n",
       "      <td>potato</td>\n",
       "    </tr>\n",
       "    <tr>\n",
       "      <th>2</th>\n",
       "      <td>3504</td>\n",
       "      <td>396.87990</td>\n",
       "      <td>1715.1</td>\n",
       "      <td>-6.1</td>\n",
       "      <td>31.7</td>\n",
       "      <td>5.774116</td>\n",
       "      <td>0.000409</td>\n",
       "      <td>2.6</td>\n",
       "      <td>1.262207</td>\n",
       "      <td>banana</td>\n",
       "    </tr>\n",
       "    <tr>\n",
       "      <th>3</th>\n",
       "      <td>5351</td>\n",
       "      <td>594.80370</td>\n",
       "      <td>1748.0</td>\n",
       "      <td>-4.3</td>\n",
       "      <td>33.6</td>\n",
       "      <td>6.477415</td>\n",
       "      <td>0.088777</td>\n",
       "      <td>7.9</td>\n",
       "      <td>4.351564</td>\n",
       "      <td>wheat</td>\n",
       "    </tr>\n",
       "    <tr>\n",
       "      <th>4</th>\n",
       "      <td>905</td>\n",
       "      <td>609.49800</td>\n",
       "      <td>1395.8</td>\n",
       "      <td>-4.5</td>\n",
       "      <td>31.3</td>\n",
       "      <td>5.419586</td>\n",
       "      <td>0.050023</td>\n",
       "      <td>10.8</td>\n",
       "      <td>5.034791</td>\n",
       "      <td>cassava</td>\n",
       "    </tr>\n",
       "  </tbody>\n",
       "</table>\n",
       "</div>\n",
       "    <div class=\"colab-df-buttons\">\n",
       "\n",
       "  <div class=\"colab-df-container\">\n",
       "    <button class=\"colab-df-convert\" onclick=\"convertToInteractive('df-76b763b1-1f86-4469-a977-c80552fb32fa')\"\n",
       "            title=\"Convert this dataframe to an interactive table.\"\n",
       "            style=\"display:none;\">\n",
       "\n",
       "  <svg xmlns=\"http://www.w3.org/2000/svg\" height=\"24px\" viewBox=\"0 -960 960 960\">\n",
       "    <path d=\"M120-120v-720h720v720H120Zm60-500h600v-160H180v160Zm220 220h160v-160H400v160Zm0 220h160v-160H400v160ZM180-400h160v-160H180v160Zm440 0h160v-160H620v160ZM180-180h160v-160H180v160Zm440 0h160v-160H620v160Z\"/>\n",
       "  </svg>\n",
       "    </button>\n",
       "\n",
       "  <style>\n",
       "    .colab-df-container {\n",
       "      display:flex;\n",
       "      gap: 12px;\n",
       "    }\n",
       "\n",
       "    .colab-df-convert {\n",
       "      background-color: #E8F0FE;\n",
       "      border: none;\n",
       "      border-radius: 50%;\n",
       "      cursor: pointer;\n",
       "      display: none;\n",
       "      fill: #1967D2;\n",
       "      height: 32px;\n",
       "      padding: 0 0 0 0;\n",
       "      width: 32px;\n",
       "    }\n",
       "\n",
       "    .colab-df-convert:hover {\n",
       "      background-color: #E2EBFA;\n",
       "      box-shadow: 0px 1px 2px rgba(60, 64, 67, 0.3), 0px 1px 3px 1px rgba(60, 64, 67, 0.15);\n",
       "      fill: #174EA6;\n",
       "    }\n",
       "\n",
       "    .colab-df-buttons div {\n",
       "      margin-bottom: 4px;\n",
       "    }\n",
       "\n",
       "    [theme=dark] .colab-df-convert {\n",
       "      background-color: #3B4455;\n",
       "      fill: #D2E3FC;\n",
       "    }\n",
       "\n",
       "    [theme=dark] .colab-df-convert:hover {\n",
       "      background-color: #434B5C;\n",
       "      box-shadow: 0px 1px 3px 1px rgba(0, 0, 0, 0.15);\n",
       "      filter: drop-shadow(0px 1px 2px rgba(0, 0, 0, 0.3));\n",
       "      fill: #FFFFFF;\n",
       "    }\n",
       "  </style>\n",
       "\n",
       "    <script>\n",
       "      const buttonEl =\n",
       "        document.querySelector('#df-76b763b1-1f86-4469-a977-c80552fb32fa button.colab-df-convert');\n",
       "      buttonEl.style.display =\n",
       "        google.colab.kernel.accessAllowed ? 'block' : 'none';\n",
       "\n",
       "      async function convertToInteractive(key) {\n",
       "        const element = document.querySelector('#df-76b763b1-1f86-4469-a977-c80552fb32fa');\n",
       "        const dataTable =\n",
       "          await google.colab.kernel.invokeFunction('convertToInteractive',\n",
       "                                                    [key], {});\n",
       "        if (!dataTable) return;\n",
       "\n",
       "        const docLinkHtml = 'Like what you see? Visit the ' +\n",
       "          '<a target=\"_blank\" href=https://colab.research.google.com/notebooks/data_table.ipynb>data table notebook</a>'\n",
       "          + ' to learn more about interactive tables.';\n",
       "        element.innerHTML = '';\n",
       "        dataTable['output_type'] = 'display_data';\n",
       "        await google.colab.output.renderOutput(dataTable, element);\n",
       "        const docLink = document.createElement('div');\n",
       "        docLink.innerHTML = docLinkHtml;\n",
       "        element.appendChild(docLink);\n",
       "      }\n",
       "    </script>\n",
       "  </div>\n",
       "\n",
       "\n",
       "<div id=\"df-aad58e23-928c-474e-b237-a5f9090d77bc\">\n",
       "  <button class=\"colab-df-quickchart\" onclick=\"quickchart('df-aad58e23-928c-474e-b237-a5f9090d77bc')\"\n",
       "            title=\"Suggest charts\"\n",
       "            style=\"display:none;\">\n",
       "\n",
       "<svg xmlns=\"http://www.w3.org/2000/svg\" height=\"24px\"viewBox=\"0 0 24 24\"\n",
       "     width=\"24px\">\n",
       "    <g>\n",
       "        <path d=\"M19 3H5c-1.1 0-2 .9-2 2v14c0 1.1.9 2 2 2h14c1.1 0 2-.9 2-2V5c0-1.1-.9-2-2-2zM9 17H7v-7h2v7zm4 0h-2V7h2v10zm4 0h-2v-4h2v4z\"/>\n",
       "    </g>\n",
       "</svg>\n",
       "  </button>\n",
       "\n",
       "<style>\n",
       "  .colab-df-quickchart {\n",
       "      --bg-color: #E8F0FE;\n",
       "      --fill-color: #1967D2;\n",
       "      --hover-bg-color: #E2EBFA;\n",
       "      --hover-fill-color: #174EA6;\n",
       "      --disabled-fill-color: #AAA;\n",
       "      --disabled-bg-color: #DDD;\n",
       "  }\n",
       "\n",
       "  [theme=dark] .colab-df-quickchart {\n",
       "      --bg-color: #3B4455;\n",
       "      --fill-color: #D2E3FC;\n",
       "      --hover-bg-color: #434B5C;\n",
       "      --hover-fill-color: #FFFFFF;\n",
       "      --disabled-bg-color: #3B4455;\n",
       "      --disabled-fill-color: #666;\n",
       "  }\n",
       "\n",
       "  .colab-df-quickchart {\n",
       "    background-color: var(--bg-color);\n",
       "    border: none;\n",
       "    border-radius: 50%;\n",
       "    cursor: pointer;\n",
       "    display: none;\n",
       "    fill: var(--fill-color);\n",
       "    height: 32px;\n",
       "    padding: 0;\n",
       "    width: 32px;\n",
       "  }\n",
       "\n",
       "  .colab-df-quickchart:hover {\n",
       "    background-color: var(--hover-bg-color);\n",
       "    box-shadow: 0 1px 2px rgba(60, 64, 67, 0.3), 0 1px 3px 1px rgba(60, 64, 67, 0.15);\n",
       "    fill: var(--button-hover-fill-color);\n",
       "  }\n",
       "\n",
       "  .colab-df-quickchart-complete:disabled,\n",
       "  .colab-df-quickchart-complete:disabled:hover {\n",
       "    background-color: var(--disabled-bg-color);\n",
       "    fill: var(--disabled-fill-color);\n",
       "    box-shadow: none;\n",
       "  }\n",
       "\n",
       "  .colab-df-spinner {\n",
       "    border: 2px solid var(--fill-color);\n",
       "    border-color: transparent;\n",
       "    border-bottom-color: var(--fill-color);\n",
       "    animation:\n",
       "      spin 1s steps(1) infinite;\n",
       "  }\n",
       "\n",
       "  @keyframes spin {\n",
       "    0% {\n",
       "      border-color: transparent;\n",
       "      border-bottom-color: var(--fill-color);\n",
       "      border-left-color: var(--fill-color);\n",
       "    }\n",
       "    20% {\n",
       "      border-color: transparent;\n",
       "      border-left-color: var(--fill-color);\n",
       "      border-top-color: var(--fill-color);\n",
       "    }\n",
       "    30% {\n",
       "      border-color: transparent;\n",
       "      border-left-color: var(--fill-color);\n",
       "      border-top-color: var(--fill-color);\n",
       "      border-right-color: var(--fill-color);\n",
       "    }\n",
       "    40% {\n",
       "      border-color: transparent;\n",
       "      border-right-color: var(--fill-color);\n",
       "      border-top-color: var(--fill-color);\n",
       "    }\n",
       "    60% {\n",
       "      border-color: transparent;\n",
       "      border-right-color: var(--fill-color);\n",
       "    }\n",
       "    80% {\n",
       "      border-color: transparent;\n",
       "      border-right-color: var(--fill-color);\n",
       "      border-bottom-color: var(--fill-color);\n",
       "    }\n",
       "    90% {\n",
       "      border-color: transparent;\n",
       "      border-bottom-color: var(--fill-color);\n",
       "    }\n",
       "  }\n",
       "</style>\n",
       "\n",
       "  <script>\n",
       "    async function quickchart(key) {\n",
       "      const quickchartButtonEl =\n",
       "        document.querySelector('#' + key + ' button');\n",
       "      quickchartButtonEl.disabled = true;  // To prevent multiple clicks.\n",
       "      quickchartButtonEl.classList.add('colab-df-spinner');\n",
       "      try {\n",
       "        const charts = await google.colab.kernel.invokeFunction(\n",
       "            'suggestCharts', [key], {});\n",
       "      } catch (error) {\n",
       "        console.error('Error during call to suggestCharts:', error);\n",
       "      }\n",
       "      quickchartButtonEl.classList.remove('colab-df-spinner');\n",
       "      quickchartButtonEl.classList.add('colab-df-quickchart-complete');\n",
       "    }\n",
       "    (() => {\n",
       "      let quickchartButtonEl =\n",
       "        document.querySelector('#df-aad58e23-928c-474e-b237-a5f9090d77bc button');\n",
       "      quickchartButtonEl.style.display =\n",
       "        google.colab.kernel.accessAllowed ? 'block' : 'none';\n",
       "    })();\n",
       "  </script>\n",
       "</div>\n",
       "    </div>\n",
       "  </div>\n"
      ],
      "text/plain": [
       "   Field_ID  Elevation  Rainfall  Min_temperature_C  Max_temperature_C  \\\n",
       "0      1162  494.95615    1507.6               -5.4               31.0   \n",
       "1      5108  663.73390     581.0               -4.7               30.9   \n",
       "2      3504  396.87990    1715.1               -6.1               31.7   \n",
       "3      5351  594.80370    1748.0               -4.3               33.6   \n",
       "4       905  609.49800    1395.8               -4.5               31.3   \n",
       "\n",
       "         pH  Pollution_level  Plot_size  Annual_yield Crop_type  \n",
       "0  6.859436         0.007034        3.6      1.617421    coffee  \n",
       "1  5.603219         0.289643        4.2      2.532497    potato  \n",
       "2  5.774116         0.000409        2.6      1.262207    banana  \n",
       "3  6.477415         0.088777        7.9      4.351564     wheat  \n",
       "4  5.419586         0.050023       10.8      5.034791   cassava  "
      ]
     },
     "execution_count": 3,
     "metadata": {},
     "output_type": "execute_result"
    }
   ],
   "source": [
    "df.head()"
   ]
  },
  {
   "cell_type": "code",
   "execution_count": null,
   "metadata": {
    "colab": {
     "base_uri": "https://localhost:8080/",
     "height": 448
    },
    "id": "Twf-UUv8Q2ah",
    "outputId": "765ad4b0-696a-4a00-b183-8955e1438114"
   },
   "outputs": [
    {
     "data": {
      "image/png": "[encoded data removed]",
      "text/plain": [
       "<Figure size 640x480 with 1 Axes>"
      ]
     },
     "metadata": {},
     "output_type": "display_data"
    },
    {
     "name": "stderr",
     "output_type": "stream",
     "text": [
      "INFO:pycodestyle:5:80: E501 line too long (89 > 79 characters)\n"
     ]
    }
   ],
   "source": [
    "# @title Crop_type\n",
    "\n",
    "from matplotlib import pyplot as plt\n",
    "import seaborn as sns\n",
    "df.groupby('Crop_type').size().plot(kind='barh', color=sns.palettes.mpl_palette('Dark2'))\n",
    "plt.gca().spines[['top', 'right',]].set_visible(False)"
   ]
  },
  {
   "cell_type": "code",
   "execution_count": null,
   "metadata": {
    "colab": {
     "base_uri": "https://localhost:8080/",
     "height": 387
    },
    "id": "dcxC1qUxQs2e",
    "outputId": "158600d1-0b53-4a1d-abdd-c66c79aecd3a"
   },
   "outputs": [
    {
     "name": "stderr",
     "output_type": "stream",
     "text": [
      "<ipython-input-4-2f6f6606aa2c>:1: FutureWarning: The default value of numeric_only in DataFrame.corr is deprecated. In a future version, it will default to False. Select only valid columns or specify the value of numeric_only to silence this warning.\n",
      "  df.corr()\n"
     ]
    },
    {
     "data": {
      "application/vnd.google.colaboratory.intrinsic+json": {
       "summary": "{\n  \"name\": \"df\",\n  \"rows\": 9,\n  \"fields\": [\n    {\n      \"column\": \"Field_ID\",\n      \"properties\": {\n        \"dtype\": \"number\",\n        \"std\": 0.3302523007188123,\n        \"min\": -0.012077152661272779,\n        \"max\": 1.0,\n        \"num_unique_values\": 9,\n        \"samples\": [\n          0.01702427180130079,\n          0.010592406977395866,\n          -0.00571039107722448\n        ],\n        \"semantic_type\": \"\",\n        \"description\": \"\"\n      }\n    },\n    {\n      \"column\": \"Elevation\",\n      \"properties\": {\n        \"dtype\": \"number\",\n        \"std\": 0.5643079585997461,\n        \"min\": -0.6333482692611304,\n        \"max\": 1.0,\n        \"num_unique_values\": 9,\n        \"samples\": [\n          0.005116132303955395,\n          1.0,\n          -0.4245215495783728\n        ],\n        \"semantic_type\": \"\",\n        \"description\": \"\"\n      }\n    },\n    {\n      \"column\": \"Rainfall\",\n      \"properties\": {\n        \"dtype\": \"number\",\n        \"std\": 0.36445386818685827,\n        \"min\": -0.26852719708796474,\n        \"max\": 1.0,\n        \"num_unique_values\": 9,\n        \"samples\": [\n          0.1000760664182054,\n          -0.26852719708796474,\n          0.02802528272148186\n        ],\n        \"semantic_type\": \"\",\n        \"description\": \"\"\n      }\n    },\n    {\n      \"column\": \"Min_temperature_C\",\n      \"properties\": {\n        \"dtype\": \"number\",\n        \"std\": 0.5408625146337153,\n        \"min\": -0.598835161729728,\n        \"max\": 1.0,\n        \"num_unique_values\": 9,\n        \"samples\": [\n          0.03451272315271453,\n          0.9588876175392536,\n          -0.4317775522780454\n        ],\n        \"semantic_type\": \"\",\n        \"description\": \"\"\n      }\n    },\n    {\n      \"column\": \"Max_temperature_C\",\n      \"properties\": {\n        \"dtype\": \"number\",\n        \"std\": 0.48904207363561536,\n        \"min\": -0.6333482692611304,\n        \"max\": 1.0,\n        \"num_unique_values\": 9,\n        \"samples\": [\n          0.0182231469972661,\n          -0.6333482692611304,\n          0.28209587555902504\n        ],\n        \"semantic_type\": \"\",\n        \"description\": \"\"\n      }\n    },\n    {\n      \"column\": \"pH\",\n      \"properties\": {\n        \"dtype\": \"number\",\n        \"std\": 0.4250599815932572,\n        \"min\": -0.4317775522780454,\n        \"max\": 1.0,\n        \"num_unique_values\": 9,\n        \"samples\": [\n          0.05005266532259944,\n          -0.4245215495783728,\n          1.0\n        ],\n        \"semantic_type\": \"\",\n        \"description\": \"\"\n      }\n    },\n    {\n      \"column\": \"Pollution_level\",\n      \"properties\": {\n        \"dtype\": \"number\",\n        \"std\": 0.3732865513172992,\n        \"min\": -0.19040700793756526,\n        \"max\": 1.0,\n        \"num_unique_values\": 9,\n        \"samples\": [\n          -0.02096952423554541,\n          0.2775204808263142,\n          -0.11384690631647129\n        ],\n        \"semantic_type\": \"\",\n        \"description\": \"\"\n      }\n    },\n    {\n      \"column\": \"Plot_size\",\n      \"properties\": {\n        \"dtype\": \"number\",\n        \"std\": 0.41825285893987785,\n        \"min\": -0.02096952423554541,\n        \"max\": 1.0,\n        \"num_unique_values\": 9,\n        \"samples\": [\n          1.0,\n          0.005116132303955395,\n          0.05005266532259944\n        ],\n        \"semantic_type\": \"\",\n        \"description\": \"\"\n      }\n    },\n    {\n      \"column\": \"Annual_yield\",\n      \"properties\": {\n        \"dtype\": \"number\",\n        \"std\": 0.42456733363806287,\n        \"min\": -0.07652525425669517,\n        \"max\": 1.0,\n        \"num_unique_values\": 9,\n        \"samples\": [\n          0.948397913413588,\n          0.04385185384573095,\n          0.008960535089737187\n        ],\n        \"semantic_type\": \"\",\n        \"description\": \"\"\n      }\n    }\n  ]\n}",
       "type": "dataframe"
      },
      "text/html": [
       "\n",
       "  <div id=\"df-ecb2f1fc-311e-403c-8726-737411fbc31e\" class=\"colab-df-container\">\n",
       "    <div>\n",
       "<style scoped>\n",
       "    .dataframe tbody tr th:only-of-type {\n",
       "        vertical-align: middle;\n",
       "    }\n",
       "\n",
       "    .dataframe tbody tr th {\n",
       "        vertical-align: top;\n",
       "    }\n",
       "\n",
       "    .dataframe thead th {\n",
       "        text-align: right;\n",
       "    }\n",
       "</style>\n",
       "<table border=\"1\" class=\"dataframe\">\n",
       "  <thead>\n",
       "    <tr style=\"text-align: right;\">\n",
       "      <th></th>\n",
       "      <th>Field_ID</th>\n",
       "      <th>Elevation</th>\n",
       "      <th>Rainfall</th>\n",
       "      <th>Min_temperature_C</th>\n",
       "      <th>Max_temperature_C</th>\n",
       "      <th>pH</th>\n",
       "      <th>Pollution_level</th>\n",
       "      <th>Plot_size</th>\n",
       "      <th>Annual_yield</th>\n",
       "    </tr>\n",
       "  </thead>\n",
       "  <tbody>\n",
       "    <tr>\n",
       "      <th>Field_ID</th>\n",
       "      <td>1.000000</td>\n",
       "      <td>0.010592</td>\n",
       "      <td>-0.002144</td>\n",
       "      <td>0.008935</td>\n",
       "      <td>-0.012077</td>\n",
       "      <td>-0.005710</td>\n",
       "      <td>0.073132</td>\n",
       "      <td>0.017024</td>\n",
       "      <td>0.006469</td>\n",
       "    </tr>\n",
       "    <tr>\n",
       "      <th>Elevation</th>\n",
       "      <td>0.010592</td>\n",
       "      <td>1.000000</td>\n",
       "      <td>-0.268527</td>\n",
       "      <td>0.958888</td>\n",
       "      <td>-0.633348</td>\n",
       "      <td>-0.424522</td>\n",
       "      <td>0.277520</td>\n",
       "      <td>0.005116</td>\n",
       "      <td>0.043852</td>\n",
       "    </tr>\n",
       "    <tr>\n",
       "      <th>Rainfall</th>\n",
       "      <td>-0.002144</td>\n",
       "      <td>-0.268527</td>\n",
       "      <td>1.000000</td>\n",
       "      <td>0.012915</td>\n",
       "      <td>0.199348</td>\n",
       "      <td>0.028025</td>\n",
       "      <td>-0.190407</td>\n",
       "      <td>0.100076</td>\n",
       "      <td>0.095577</td>\n",
       "    </tr>\n",
       "    <tr>\n",
       "      <th>Min_temperature_C</th>\n",
       "      <td>0.008935</td>\n",
       "      <td>0.958888</td>\n",
       "      <td>0.012915</td>\n",
       "      <td>1.000000</td>\n",
       "      <td>-0.598835</td>\n",
       "      <td>-0.431778</td>\n",
       "      <td>0.231964</td>\n",
       "      <td>0.034513</td>\n",
       "      <td>0.073219</td>\n",
       "    </tr>\n",
       "    <tr>\n",
       "      <th>Max_temperature_C</th>\n",
       "      <td>-0.012077</td>\n",
       "      <td>-0.633348</td>\n",
       "      <td>0.199348</td>\n",
       "      <td>-0.598835</td>\n",
       "      <td>1.000000</td>\n",
       "      <td>0.282096</td>\n",
       "      <td>-0.183352</td>\n",
       "      <td>0.018223</td>\n",
       "      <td>-0.020977</td>\n",
       "    </tr>\n",
       "    <tr>\n",
       "      <th>pH</th>\n",
       "      <td>-0.005710</td>\n",
       "      <td>-0.424522</td>\n",
       "      <td>0.028025</td>\n",
       "      <td>-0.431778</td>\n",
       "      <td>0.282096</td>\n",
       "      <td>1.000000</td>\n",
       "      <td>-0.113847</td>\n",
       "      <td>0.050053</td>\n",
       "      <td>0.008961</td>\n",
       "    </tr>\n",
       "    <tr>\n",
       "      <th>Pollution_level</th>\n",
       "      <td>0.073132</td>\n",
       "      <td>0.277520</td>\n",
       "      <td>-0.190407</td>\n",
       "      <td>0.231964</td>\n",
       "      <td>-0.183352</td>\n",
       "      <td>-0.113847</td>\n",
       "      <td>1.000000</td>\n",
       "      <td>-0.020970</td>\n",
       "      <td>-0.076525</td>\n",
       "    </tr>\n",
       "    <tr>\n",
       "      <th>Plot_size</th>\n",
       "      <td>0.017024</td>\n",
       "      <td>0.005116</td>\n",
       "      <td>0.100076</td>\n",
       "      <td>0.034513</td>\n",
       "      <td>0.018223</td>\n",
       "      <td>0.050053</td>\n",
       "      <td>-0.020970</td>\n",
       "      <td>1.000000</td>\n",
       "      <td>0.948398</td>\n",
       "    </tr>\n",
       "    <tr>\n",
       "      <th>Annual_yield</th>\n",
       "      <td>0.006469</td>\n",
       "      <td>0.043852</td>\n",
       "      <td>0.095577</td>\n",
       "      <td>0.073219</td>\n",
       "      <td>-0.020977</td>\n",
       "      <td>0.008961</td>\n",
       "      <td>-0.076525</td>\n",
       "      <td>0.948398</td>\n",
       "      <td>1.000000</td>\n",
       "    </tr>\n",
       "  </tbody>\n",
       "</table>\n",
       "</div>\n",
       "    <div class=\"colab-df-buttons\">\n",
       "\n",
       "  <div class=\"colab-df-container\">\n",
       "    <button class=\"colab-df-convert\" onclick=\"convertToInteractive('df-ecb2f1fc-311e-403c-8726-737411fbc31e')\"\n",
       "            title=\"Convert this dataframe to an interactive table.\"\n",
       "            style=\"display:none;\">\n",
       "\n",
       "  <svg xmlns=\"http://www.w3.org/2000/svg\" height=\"24px\" viewBox=\"0 -960 960 960\">\n",
       "    <path d=\"M120-120v-720h720v720H120Zm60-500h600v-160H180v160Zm220 220h160v-160H400v160Zm0 220h160v-160H400v160ZM180-400h160v-160H180v160Zm440 0h160v-160H620v160ZM180-180h160v-160H180v160Zm440 0h160v-160H620v160Z\"/>\n",
       "  </svg>\n",
       "    </button>\n",
       "\n",
       "  <style>\n",
       "    .colab-df-container {\n",
       "      display:flex;\n",
       "      gap: 12px;\n",
       "    }\n",
       "\n",
       "    .colab-df-convert {\n",
       "      background-color: #E8F0FE;\n",
       "      border: none;\n",
       "      border-radius: 50%;\n",
       "      cursor: pointer;\n",
       "      display: none;\n",
       "      fill: #1967D2;\n",
       "      height: 32px;\n",
       "      padding: 0 0 0 0;\n",
       "      width: 32px;\n",
       "    }\n",
       "\n",
       "    .colab-df-convert:hover {\n",
       "      background-color: #E2EBFA;\n",
       "      box-shadow: 0px 1px 2px rgba(60, 64, 67, 0.3), 0px 1px 3px 1px rgba(60, 64, 67, 0.15);\n",
       "      fill: #174EA6;\n",
       "    }\n",
       "\n",
       "    .colab-df-buttons div {\n",
       "      margin-bottom: 4px;\n",
       "    }\n",
       "\n",
       "    [theme=dark] .colab-df-convert {\n",
       "      background-color: #3B4455;\n",
       "      fill: #D2E3FC;\n",
       "    }\n",
       "\n",
       "    [theme=dark] .colab-df-convert:hover {\n",
       "      background-color: #434B5C;\n",
       "      box-shadow: 0px 1px 3px 1px rgba(0, 0, 0, 0.15);\n",
       "      filter: drop-shadow(0px 1px 2px rgba(0, 0, 0, 0.3));\n",
       "      fill: #FFFFFF;\n",
       "    }\n",
       "  </style>\n",
       "\n",
       "    <script>\n",
       "      const buttonEl =\n",
       "        document.querySelector('#df-ecb2f1fc-311e-403c-8726-737411fbc31e button.colab-df-convert');\n",
       "      buttonEl.style.display =\n",
       "        google.colab.kernel.accessAllowed ? 'block' : 'none';\n",
       "\n",
       "      async function convertToInteractive(key) {\n",
       "        const element = document.querySelector('#df-ecb2f1fc-311e-403c-8726-737411fbc31e');\n",
       "        const dataTable =\n",
       "          await google.colab.kernel.invokeFunction('convertToInteractive',\n",
       "                                                    [key], {});\n",
       "        if (!dataTable) return;\n",
       "\n",
       "        const docLinkHtml = 'Like what you see? Visit the ' +\n",
       "          '<a target=\"_blank\" href=https://colab.research.google.com/notebooks/data_table.ipynb>data table notebook</a>'\n",
       "          + ' to learn more about interactive tables.';\n",
       "        element.innerHTML = '';\n",
       "        dataTable['output_type'] = 'display_data';\n",
       "        await google.colab.output.renderOutput(dataTable, element);\n",
       "        const docLink = document.createElement('div');\n",
       "        docLink.innerHTML = docLinkHtml;\n",
       "        element.appendChild(docLink);\n",
       "      }\n",
       "    </script>\n",
       "  </div>\n",
       "\n",
       "\n",
       "<div id=\"df-ad63d35b-aa3c-495a-ac9a-b82bafcdea8c\">\n",
       "  <button class=\"colab-df-quickchart\" onclick=\"quickchart('df-ad63d35b-aa3c-495a-ac9a-b82bafcdea8c')\"\n",
       "            title=\"Suggest charts\"\n",
       "            style=\"display:none;\">\n",
       "\n",
       "<svg xmlns=\"http://www.w3.org/2000/svg\" height=\"24px\"viewBox=\"0 0 24 24\"\n",
       "     width=\"24px\">\n",
       "    <g>\n",
       "        <path d=\"M19 3H5c-1.1 0-2 .9-2 2v14c0 1.1.9 2 2 2h14c1.1 0 2-.9 2-2V5c0-1.1-.9-2-2-2zM9 17H7v-7h2v7zm4 0h-2V7h2v10zm4 0h-2v-4h2v4z\"/>\n",
       "    </g>\n",
       "</svg>\n",
       "  </button>\n",
       "\n",
       "<style>\n",
       "  .colab-df-quickchart {\n",
       "      --bg-color: #E8F0FE;\n",
       "      --fill-color: #1967D2;\n",
       "      --hover-bg-color: #E2EBFA;\n",
       "      --hover-fill-color: #174EA6;\n",
       "      --disabled-fill-color: #AAA;\n",
       "      --disabled-bg-color: #DDD;\n",
       "  }\n",
       "\n",
       "  [theme=dark] .colab-df-quickchart {\n",
       "      --bg-color: #3B4455;\n",
       "      --fill-color: #D2E3FC;\n",
       "      --hover-bg-color: #434B5C;\n",
       "      --hover-fill-color: #FFFFFF;\n",
       "      --disabled-bg-color: #3B4455;\n",
       "      --disabled-fill-color: #666;\n",
       "  }\n",
       "\n",
       "  .colab-df-quickchart {\n",
       "    background-color: var(--bg-color);\n",
       "    border: none;\n",
       "    border-radius: 50%;\n",
       "    cursor: pointer;\n",
       "    display: none;\n",
       "    fill: var(--fill-color);\n",
       "    height: 32px;\n",
       "    padding: 0;\n",
       "    width: 32px;\n",
       "  }\n",
       "\n",
       "  .colab-df-quickchart:hover {\n",
       "    background-color: var(--hover-bg-color);\n",
       "    box-shadow: 0 1px 2px rgba(60, 64, 67, 0.3), 0 1px 3px 1px rgba(60, 64, 67, 0.15);\n",
       "    fill: var(--button-hover-fill-color);\n",
       "  }\n",
       "\n",
       "  .colab-df-quickchart-complete:disabled,\n",
       "  .colab-df-quickchart-complete:disabled:hover {\n",
       "    background-color: var(--disabled-bg-color);\n",
       "    fill: var(--disabled-fill-color);\n",
       "    box-shadow: none;\n",
       "  }\n",
       "\n",
       "  .colab-df-spinner {\n",
       "    border: 2px solid var(--fill-color);\n",
       "    border-color: transparent;\n",
       "    border-bottom-color: var(--fill-color);\n",
       "    animation:\n",
       "      spin 1s steps(1) infinite;\n",
       "  }\n",
       "\n",
       "  @keyframes spin {\n",
       "    0% {\n",
       "      border-color: transparent;\n",
       "      border-bottom-color: var(--fill-color);\n",
       "      border-left-color: var(--fill-color);\n",
       "    }\n",
       "    20% {\n",
       "      border-color: transparent;\n",
       "      border-left-color: var(--fill-color);\n",
       "      border-top-color: var(--fill-color);\n",
       "    }\n",
       "    30% {\n",
       "      border-color: transparent;\n",
       "      border-left-color: var(--fill-color);\n",
       "      border-top-color: var(--fill-color);\n",
       "      border-right-color: var(--fill-color);\n",
       "    }\n",
       "    40% {\n",
       "      border-color: transparent;\n",
       "      border-right-color: var(--fill-color);\n",
       "      border-top-color: var(--fill-color);\n",
       "    }\n",
       "    60% {\n",
       "      border-color: transparent;\n",
       "      border-right-color: var(--fill-color);\n",
       "    }\n",
       "    80% {\n",
       "      border-color: transparent;\n",
       "      border-right-color: var(--fill-color);\n",
       "      border-bottom-color: var(--fill-color);\n",
       "    }\n",
       "    90% {\n",
       "      border-color: transparent;\n",
       "      border-bottom-color: var(--fill-color);\n",
       "    }\n",
       "  }\n",
       "</style>\n",
       "\n",
       "  <script>\n",
       "    async function quickchart(key) {\n",
       "      const quickchartButtonEl =\n",
       "        document.querySelector('#' + key + ' button');\n",
       "      quickchartButtonEl.disabled = true;  // To prevent multiple clicks.\n",
       "      quickchartButtonEl.classList.add('colab-df-spinner');\n",
       "      try {\n",
       "        const charts = await google.colab.kernel.invokeFunction(\n",
       "            'suggestCharts', [key], {});\n",
       "      } catch (error) {\n",
       "        console.error('Error during call to suggestCharts:', error);\n",
       "      }\n",
       "      quickchartButtonEl.classList.remove('colab-df-spinner');\n",
       "      quickchartButtonEl.classList.add('colab-df-quickchart-complete');\n",
       "    }\n",
       "    (() => {\n",
       "      let quickchartButtonEl =\n",
       "        document.querySelector('#df-ad63d35b-aa3c-495a-ac9a-b82bafcdea8c button');\n",
       "      quickchartButtonEl.style.display =\n",
       "        google.colab.kernel.accessAllowed ? 'block' : 'none';\n",
       "    })();\n",
       "  </script>\n",
       "</div>\n",
       "    </div>\n",
       "  </div>\n"
      ],
      "text/plain": [
       "                   Field_ID  Elevation  Rainfall  Min_temperature_C  \\\n",
       "Field_ID           1.000000   0.010592 -0.002144           0.008935   \n",
       "Elevation          0.010592   1.000000 -0.268527           0.958888   \n",
       "Rainfall          -0.002144  -0.268527  1.000000           0.012915   \n",
       "Min_temperature_C  0.008935   0.958888  0.012915           1.000000   \n",
       "Max_temperature_C -0.012077  -0.633348  0.199348          -0.598835   \n",
       "pH                -0.005710  -0.424522  0.028025          -0.431778   \n",
       "Pollution_level    0.073132   0.277520 -0.190407           0.231964   \n",
       "Plot_size          0.017024   0.005116  0.100076           0.034513   \n",
       "Annual_yield       0.006469   0.043852  0.095577           0.073219   \n",
       "\n",
       "                   Max_temperature_C        pH  Pollution_level  Plot_size  \\\n",
       "Field_ID                   -0.012077 -0.005710         0.073132   0.017024   \n",
       "Elevation                  -0.633348 -0.424522         0.277520   0.005116   \n",
       "Rainfall                    0.199348  0.028025        -0.190407   0.100076   \n",
       "Min_temperature_C          -0.598835 -0.431778         0.231964   0.034513   \n",
       "Max_temperature_C           1.000000  0.282096        -0.183352   0.018223   \n",
       "pH                          0.282096  1.000000        -0.113847   0.050053   \n",
       "Pollution_level            -0.183352 -0.113847         1.000000  -0.020970   \n",
       "Plot_size                   0.018223  0.050053        -0.020970   1.000000   \n",
       "Annual_yield               -0.020977  0.008961        -0.076525   0.948398   \n",
       "\n",
       "                   Annual_yield  \n",
       "Field_ID               0.006469  \n",
       "Elevation              0.043852  \n",
       "Rainfall               0.095577  \n",
       "Min_temperature_C      0.073219  \n",
       "Max_temperature_C     -0.020977  \n",
       "pH                     0.008961  \n",
       "Pollution_level       -0.076525  \n",
       "Plot_size              0.948398  \n",
       "Annual_yield           1.000000  "
      ]
     },
     "execution_count": 4,
     "metadata": {},
     "output_type": "execute_result"
    }
   ],
   "source": [
    "df.corr()"
   ]
  },
  {
   "cell_type": "code",
   "execution_count": null,
   "metadata": {
    "colab": {
     "base_uri": "https://localhost:8080/",
     "height": 320
    },
    "id": "Rw3U882ARFm9",
    "outputId": "d617365d-280c-4c10-d956-6e4c5cd43bfa"
   },
   "outputs": [
    {
     "data": {
      "application/vnd.google.colaboratory.intrinsic+json": {
       "summary": "{\n  \"name\": \"df\",\n  \"rows\": 8,\n  \"fields\": [\n    {\n      \"column\": \"Field_ID\",\n      \"properties\": {\n        \"dtype\": \"number\",\n        \"std\": 1811.861208763183,\n        \"min\": 1.0,\n        \"max\": 5632.0,\n        \"num_unique_values\": 8,\n        \"samples\": [\n          2779.486,\n          2728.5,\n          1000.0\n        ],\n        \"semantic_type\": \"\",\n        \"description\": \"\"\n      }\n    },\n    {\n      \"column\": \"Elevation\",\n      \"properties\": {\n        \"dtype\": \"number\",\n        \"std\": 350.0190454063018,\n        \"min\": 35.910797,\n        \"max\": 1003.9437,\n        \"num_unique_values\": 8,\n        \"samples\": [\n          628.136035118,\n          657.468975,\n          1000.0\n        ],\n        \"semantic_type\": \"\",\n        \"description\": \"\"\n      }\n    },\n    {\n      \"column\": \"Rainfall\",\n      \"properties\": {\n        \"dtype\": \"number\",\n        \"std\": 702.8850116950151,\n        \"min\": 110.1,\n        \"max\": 2408.5,\n        \"num_unique_values\": 8,\n        \"samples\": [\n          1197.7347000000002,\n          1194.9,\n          1000.0\n        ],\n        \"semantic_type\": \"\",\n        \"description\": \"\"\n      }\n    },\n    {\n      \"column\": \"Min_temperature_C\",\n      \"properties\": {\n        \"dtype\": \"number\",\n        \"std\": 354.938996039134,\n        \"min\": -9.7,\n        \"max\": 1000.0,\n        \"num_unique_values\": 8,\n        \"samples\": [\n          -4.504099999999999,\n          -4.4,\n          1000.0\n        ],\n        \"semantic_type\": \"\",\n        \"description\": \"\"\n      }\n    },\n    {\n      \"column\": \"Max_temperature_C\",\n      \"properties\": {\n        \"dtype\": \"number\",\n        \"std\": 344.22997317084184,\n        \"min\": 1.9222502141724125,\n        \"max\": 1000.0,\n        \"num_unique_values\": 8,\n        \"samples\": [\n          30.894599999999997,\n          30.9,\n          1000.0\n        ],\n        \"semantic_type\": \"\",\n        \"description\": \"\"\n      }\n    },\n    {\n      \"column\": \"pH\",\n      \"properties\": {\n        \"dtype\": \"number\",\n        \"std\": 351.82279103820946,\n        \"min\": 0.8021542155343988,\n        \"max\": 1000.0,\n        \"num_unique_values\": 8,\n        \"samples\": [\n          5.603898678031842,\n          5.562078395780413,\n          1000.0\n        ],\n        \"semantic_type\": \"\",\n        \"description\": \"\"\n      }\n    },\n    {\n      \"column\": \"Pollution_level\",\n      \"properties\": {\n        \"dtype\": \"number\",\n        \"std\": 353.454220549698,\n        \"min\": 5.3974477012003e-10,\n        \"max\": 1000.0,\n        \"num_unique_values\": 8,\n        \"samples\": [\n          0.22337402499409512,\n          0.1661962346482573,\n          1000.0\n        ],\n        \"semantic_type\": \"\",\n        \"description\": \"\"\n      }\n    },\n    {\n      \"column\": \"Plot_size\",\n      \"properties\": {\n        \"dtype\": \"number\",\n        \"std\": 351.9643112909631,\n        \"min\": 0.5,\n        \"max\": 1000.0,\n        \"num_unique_values\": 8,\n        \"samples\": [\n          3.9624,\n          2.9,\n          1000.0\n        ],\n        \"semantic_type\": \"\",\n        \"description\": \"\"\n      }\n    },\n    {\n      \"column\": \"Annual_yield\",\n      \"properties\": {\n        \"dtype\": \"number\",\n        \"std\": 352.4807739797974,\n        \"min\": 0.1748574333801564,\n        \"max\": 1000.0,\n        \"num_unique_values\": 8,\n        \"samples\": [\n          2.101535558642609,\n          1.4786224926247806,\n          1000.0\n        ],\n        \"semantic_type\": \"\",\n        \"description\": \"\"\n      }\n    }\n  ]\n}",
       "type": "dataframe"
      },
      "text/html": [
       "\n",
       "  <div id=\"df-7fe35e0a-0ec7-43c4-935c-c11ff7ff0224\" class=\"colab-df-container\">\n",
       "    <div>\n",
       "<style scoped>\n",
       "    .dataframe tbody tr th:only-of-type {\n",
       "        vertical-align: middle;\n",
       "    }\n",
       "\n",
       "    .dataframe tbody tr th {\n",
       "        vertical-align: top;\n",
       "    }\n",
       "\n",
       "    .dataframe thead th {\n",
       "        text-align: right;\n",
       "    }\n",
       "</style>\n",
       "<table border=\"1\" class=\"dataframe\">\n",
       "  <thead>\n",
       "    <tr style=\"text-align: right;\">\n",
       "      <th></th>\n",
       "      <th>Field_ID</th>\n",
       "      <th>Elevation</th>\n",
       "      <th>Rainfall</th>\n",
       "      <th>Min_temperature_C</th>\n",
       "      <th>Max_temperature_C</th>\n",
       "      <th>pH</th>\n",
       "      <th>Pollution_level</th>\n",
       "      <th>Plot_size</th>\n",
       "      <th>Annual_yield</th>\n",
       "    </tr>\n",
       "  </thead>\n",
       "  <tbody>\n",
       "    <tr>\n",
       "      <th>count</th>\n",
       "      <td>1000.000000</td>\n",
       "      <td>1000.000000</td>\n",
       "      <td>1000.000000</td>\n",
       "      <td>1000.000000</td>\n",
       "      <td>1000.00000</td>\n",
       "      <td>1000.000000</td>\n",
       "      <td>1.000000e+03</td>\n",
       "      <td>1000.000000</td>\n",
       "      <td>1000.000000</td>\n",
       "    </tr>\n",
       "    <tr>\n",
       "      <th>mean</th>\n",
       "      <td>2779.486000</td>\n",
       "      <td>628.136035</td>\n",
       "      <td>1197.734700</td>\n",
       "      <td>-4.504100</td>\n",
       "      <td>30.89460</td>\n",
       "      <td>5.603899</td>\n",
       "      <td>2.233740e-01</td>\n",
       "      <td>3.962400</td>\n",
       "      <td>2.101536</td>\n",
       "    </tr>\n",
       "    <tr>\n",
       "      <th>std</th>\n",
       "      <td>1595.068372</td>\n",
       "      <td>179.098546</td>\n",
       "      <td>497.794699</td>\n",
       "      <td>1.568117</td>\n",
       "      <td>1.92225</td>\n",
       "      <td>0.802154</td>\n",
       "      <td>2.288665e-01</td>\n",
       "      <td>3.459036</td>\n",
       "      <td>1.926694</td>\n",
       "    </tr>\n",
       "    <tr>\n",
       "      <th>min</th>\n",
       "      <td>1.000000</td>\n",
       "      <td>35.910797</td>\n",
       "      <td>110.100000</td>\n",
       "      <td>-9.700000</td>\n",
       "      <td>25.10000</td>\n",
       "      <td>3.701838</td>\n",
       "      <td>5.397448e-10</td>\n",
       "      <td>0.500000</td>\n",
       "      <td>0.174857</td>\n",
       "    </tr>\n",
       "    <tr>\n",
       "      <th>25%</th>\n",
       "      <td>1442.250000</td>\n",
       "      <td>504.392825</td>\n",
       "      <td>771.575000</td>\n",
       "      <td>-5.600000</td>\n",
       "      <td>29.57500</td>\n",
       "      <td>5.018775</td>\n",
       "      <td>4.449419e-02</td>\n",
       "      <td>1.500000</td>\n",
       "      <td>0.786612</td>\n",
       "    </tr>\n",
       "    <tr>\n",
       "      <th>50%</th>\n",
       "      <td>2728.500000</td>\n",
       "      <td>657.468975</td>\n",
       "      <td>1194.900000</td>\n",
       "      <td>-4.400000</td>\n",
       "      <td>30.90000</td>\n",
       "      <td>5.562078</td>\n",
       "      <td>1.661962e-01</td>\n",
       "      <td>2.900000</td>\n",
       "      <td>1.478622</td>\n",
       "    </tr>\n",
       "    <tr>\n",
       "      <th>75%</th>\n",
       "      <td>4133.000000</td>\n",
       "      <td>761.075752</td>\n",
       "      <td>1616.900000</td>\n",
       "      <td>-3.300000</td>\n",
       "      <td>32.20000</td>\n",
       "      <td>6.201437</td>\n",
       "      <td>3.077840e-01</td>\n",
       "      <td>4.700000</td>\n",
       "      <td>2.519811</td>\n",
       "    </tr>\n",
       "    <tr>\n",
       "      <th>max</th>\n",
       "      <td>5632.000000</td>\n",
       "      <td>1003.943700</td>\n",
       "      <td>2408.500000</td>\n",
       "      <td>-1.200000</td>\n",
       "      <td>37.30000</td>\n",
       "      <td>7.484683</td>\n",
       "      <td>9.954134e-01</td>\n",
       "      <td>15.000000</td>\n",
       "      <td>12.695224</td>\n",
       "    </tr>\n",
       "  </tbody>\n",
       "</table>\n",
       "</div>\n",
       "    <div class=\"colab-df-buttons\">\n",
       "\n",
       "  <div class=\"colab-df-container\">\n",
       "    <button class=\"colab-df-convert\" onclick=\"convertToInteractive('df-7fe35e0a-0ec7-43c4-935c-c11ff7ff0224')\"\n",
       "            title=\"Convert this dataframe to an interactive table.\"\n",
       "            style=\"display:none;\">\n",
       "\n",
       "  <svg xmlns=\"http://www.w3.org/2000/svg\" height=\"24px\" viewBox=\"0 -960 960 960\">\n",
       "    <path d=\"M120-120v-720h720v720H120Zm60-500h600v-160H180v160Zm220 220h160v-160H400v160Zm0 220h160v-160H400v160ZM180-400h160v-160H180v160Zm440 0h160v-160H620v160ZM180-180h160v-160H180v160Zm440 0h160v-160H620v160Z\"/>\n",
       "  </svg>\n",
       "    </button>\n",
       "\n",
       "  <style>\n",
       "    .colab-df-container {\n",
       "      display:flex;\n",
       "      gap: 12px;\n",
       "    }\n",
       "\n",
       "    .colab-df-convert {\n",
       "      background-color: #E8F0FE;\n",
       "      border: none;\n",
       "      border-radius: 50%;\n",
       "      cursor: pointer;\n",
       "      display: none;\n",
       "      fill: #1967D2;\n",
       "      height: 32px;\n",
       "      padding: 0 0 0 0;\n",
       "      width: 32px;\n",
       "    }\n",
       "\n",
       "    .colab-df-convert:hover {\n",
       "      background-color: #E2EBFA;\n",
       "      box-shadow: 0px 1px 2px rgba(60, 64, 67, 0.3), 0px 1px 3px 1px rgba(60, 64, 67, 0.15);\n",
       "      fill: #174EA6;\n",
       "    }\n",
       "\n",
       "    .colab-df-buttons div {\n",
       "      margin-bottom: 4px;\n",
       "    }\n",
       "\n",
       "    [theme=dark] .colab-df-convert {\n",
       "      background-color: #3B4455;\n",
       "      fill: #D2E3FC;\n",
       "    }\n",
       "\n",
       "    [theme=dark] .colab-df-convert:hover {\n",
       "      background-color: #434B5C;\n",
       "      box-shadow: 0px 1px 3px 1px rgba(0, 0, 0, 0.15);\n",
       "      filter: drop-shadow(0px 1px 2px rgba(0, 0, 0, 0.3));\n",
       "      fill: #FFFFFF;\n",
       "    }\n",
       "  </style>\n",
       "\n",
       "    <script>\n",
       "      const buttonEl =\n",
       "        document.querySelector('#df-7fe35e0a-0ec7-43c4-935c-c11ff7ff0224 button.colab-df-convert');\n",
       "      buttonEl.style.display =\n",
       "        google.colab.kernel.accessAllowed ? 'block' : 'none';\n",
       "\n",
       "      async function convertToInteractive(key) {\n",
       "        const element = document.querySelector('#df-7fe35e0a-0ec7-43c4-935c-c11ff7ff0224');\n",
       "        const dataTable =\n",
       "          await google.colab.kernel.invokeFunction('convertToInteractive',\n",
       "                                                    [key], {});\n",
       "        if (!dataTable) return;\n",
       "\n",
       "        const docLinkHtml = 'Like what you see? Visit the ' +\n",
       "          '<a target=\"_blank\" href=https://colab.research.google.com/notebooks/data_table.ipynb>data table notebook</a>'\n",
       "          + ' to learn more about interactive tables.';\n",
       "        element.innerHTML = '';\n",
       "        dataTable['output_type'] = 'display_data';\n",
       "        await google.colab.output.renderOutput(dataTable, element);\n",
       "        const docLink = document.createElement('div');\n",
       "        docLink.innerHTML = docLinkHtml;\n",
       "        element.appendChild(docLink);\n",
       "      }\n",
       "    </script>\n",
       "  </div>\n",
       "\n",
       "\n",
       "<div id=\"df-291bafd9-6fb9-4788-8f6c-41f99c1d13f8\">\n",
       "  <button class=\"colab-df-quickchart\" onclick=\"quickchart('df-291bafd9-6fb9-4788-8f6c-41f99c1d13f8')\"\n",
       "            title=\"Suggest charts\"\n",
       "            style=\"display:none;\">\n",
       "\n",
       "<svg xmlns=\"http://www.w3.org/2000/svg\" height=\"24px\"viewBox=\"0 0 24 24\"\n",
       "     width=\"24px\">\n",
       "    <g>\n",
       "        <path d=\"M19 3H5c-1.1 0-2 .9-2 2v14c0 1.1.9 2 2 2h14c1.1 0 2-.9 2-2V5c0-1.1-.9-2-2-2zM9 17H7v-7h2v7zm4 0h-2V7h2v10zm4 0h-2v-4h2v4z\"/>\n",
       "    </g>\n",
       "</svg>\n",
       "  </button>\n",
       "\n",
       "<style>\n",
       "  .colab-df-quickchart {\n",
       "      --bg-color: #E8F0FE;\n",
       "      --fill-color: #1967D2;\n",
       "      --hover-bg-color: #E2EBFA;\n",
       "      --hover-fill-color: #174EA6;\n",
       "      --disabled-fill-color: #AAA;\n",
       "      --disabled-bg-color: #DDD;\n",
       "  }\n",
       "\n",
       "  [theme=dark] .colab-df-quickchart {\n",
       "      --bg-color: #3B4455;\n",
       "      --fill-color: #D2E3FC;\n",
       "      --hover-bg-color: #434B5C;\n",
       "      --hover-fill-color: #FFFFFF;\n",
       "      --disabled-bg-color: #3B4455;\n",
       "      --disabled-fill-color: #666;\n",
       "  }\n",
       "\n",
       "  .colab-df-quickchart {\n",
       "    background-color: var(--bg-color);\n",
       "    border: none;\n",
       "    border-radius: 50%;\n",
       "    cursor: pointer;\n",
       "    display: none;\n",
       "    fill: var(--fill-color);\n",
       "    height: 32px;\n",
       "    padding: 0;\n",
       "    width: 32px;\n",
       "  }\n",
       "\n",
       "  .colab-df-quickchart:hover {\n",
       "    background-color: var(--hover-bg-color);\n",
       "    box-shadow: 0 1px 2px rgba(60, 64, 67, 0.3), 0 1px 3px 1px rgba(60, 64, 67, 0.15);\n",
       "    fill: var(--button-hover-fill-color);\n",
       "  }\n",
       "\n",
       "  .colab-df-quickchart-complete:disabled,\n",
       "  .colab-df-quickchart-complete:disabled:hover {\n",
       "    background-color: var(--disabled-bg-color);\n",
       "    fill: var(--disabled-fill-color);\n",
       "    box-shadow: none;\n",
       "  }\n",
       "\n",
       "  .colab-df-spinner {\n",
       "    border: 2px solid var(--fill-color);\n",
       "    border-color: transparent;\n",
       "    border-bottom-color: var(--fill-color);\n",
       "    animation:\n",
       "      spin 1s steps(1) infinite;\n",
       "  }\n",
       "\n",
       "  @keyframes spin {\n",
       "    0% {\n",
       "      border-color: transparent;\n",
       "      border-bottom-color: var(--fill-color);\n",
       "      border-left-color: var(--fill-color);\n",
       "    }\n",
       "    20% {\n",
       "      border-color: transparent;\n",
       "      border-left-color: var(--fill-color);\n",
       "      border-top-color: var(--fill-color);\n",
       "    }\n",
       "    30% {\n",
       "      border-color: transparent;\n",
       "      border-left-color: var(--fill-color);\n",
       "      border-top-color: var(--fill-color);\n",
       "      border-right-color: var(--fill-color);\n",
       "    }\n",
       "    40% {\n",
       "      border-color: transparent;\n",
       "      border-right-color: var(--fill-color);\n",
       "      border-top-color: var(--fill-color);\n",
       "    }\n",
       "    60% {\n",
       "      border-color: transparent;\n",
       "      border-right-color: var(--fill-color);\n",
       "    }\n",
       "    80% {\n",
       "      border-color: transparent;\n",
       "      border-right-color: var(--fill-color);\n",
       "      border-bottom-color: var(--fill-color);\n",
       "    }\n",
       "    90% {\n",
       "      border-color: transparent;\n",
       "      border-bottom-color: var(--fill-color);\n",
       "    }\n",
       "  }\n",
       "</style>\n",
       "\n",
       "  <script>\n",
       "    async function quickchart(key) {\n",
       "      const quickchartButtonEl =\n",
       "        document.querySelector('#' + key + ' button');\n",
       "      quickchartButtonEl.disabled = true;  // To prevent multiple clicks.\n",
       "      quickchartButtonEl.classList.add('colab-df-spinner');\n",
       "      try {\n",
       "        const charts = await google.colab.kernel.invokeFunction(\n",
       "            'suggestCharts', [key], {});\n",
       "      } catch (error) {\n",
       "        console.error('Error during call to suggestCharts:', error);\n",
       "      }\n",
       "      quickchartButtonEl.classList.remove('colab-df-spinner');\n",
       "      quickchartButtonEl.classList.add('colab-df-quickchart-complete');\n",
       "    }\n",
       "    (() => {\n",
       "      let quickchartButtonEl =\n",
       "        document.querySelector('#df-291bafd9-6fb9-4788-8f6c-41f99c1d13f8 button');\n",
       "      quickchartButtonEl.style.display =\n",
       "        google.colab.kernel.accessAllowed ? 'block' : 'none';\n",
       "    })();\n",
       "  </script>\n",
       "</div>\n",
       "    </div>\n",
       "  </div>\n"
      ],
      "text/plain": [
       "          Field_ID    Elevation     Rainfall  Min_temperature_C  \\\n",
       "count  1000.000000  1000.000000  1000.000000        1000.000000   \n",
       "mean   2779.486000   628.136035  1197.734700          -4.504100   \n",
       "std    1595.068372   179.098546   497.794699           1.568117   \n",
       "min       1.000000    35.910797   110.100000          -9.700000   \n",
       "25%    1442.250000   504.392825   771.575000          -5.600000   \n",
       "50%    2728.500000   657.468975  1194.900000          -4.400000   \n",
       "75%    4133.000000   761.075752  1616.900000          -3.300000   \n",
       "max    5632.000000  1003.943700  2408.500000          -1.200000   \n",
       "\n",
       "       Max_temperature_C           pH  Pollution_level    Plot_size  \\\n",
       "count         1000.00000  1000.000000     1.000000e+03  1000.000000   \n",
       "mean            30.89460     5.603899     2.233740e-01     3.962400   \n",
       "std              1.92225     0.802154     2.288665e-01     3.459036   \n",
       "min             25.10000     3.701838     5.397448e-10     0.500000   \n",
       "25%             29.57500     5.018775     4.449419e-02     1.500000   \n",
       "50%             30.90000     5.562078     1.661962e-01     2.900000   \n",
       "75%             32.20000     6.201437     3.077840e-01     4.700000   \n",
       "max             37.30000     7.484683     9.954134e-01    15.000000   \n",
       "\n",
       "       Annual_yield  \n",
       "count   1000.000000  \n",
       "mean       2.101536  \n",
       "std        1.926694  \n",
       "min        0.174857  \n",
       "25%        0.786612  \n",
       "50%        1.478622  \n",
       "75%        2.519811  \n",
       "max       12.695224  "
      ]
     },
     "execution_count": 5,
     "metadata": {},
     "output_type": "execute_result"
    }
   ],
   "source": [
    "df.describe()"
   ]
  },
  {
   "cell_type": "code",
   "execution_count": null,
   "metadata": {
    "colab": {
     "base_uri": "https://localhost:8080/"
    },
    "id": "dWwpCpiSRKME",
    "outputId": "7cb8ba8f-fd43-4f73-99d9-a5e21e5b9228"
   },
   "outputs": [
    {
     "data": {
      "text/plain": [
       "0       True\n",
       "1      False\n",
       "2      False\n",
       "3      False\n",
       "4      False\n",
       "       ...  \n",
       "995    False\n",
       "996    False\n",
       "997    False\n",
       "998    False\n",
       "999     True\n",
       "Name: Crop_type, Length: 1000, dtype: bool"
      ]
     },
     "execution_count": 6,
     "metadata": {},
     "output_type": "execute_result"
    }
   ],
   "source": [
    "df['Crop_type'] == \"coffee\""
   ]
  },
  {
   "cell_type": "code",
   "execution_count": null,
   "metadata": {
    "colab": {
     "base_uri": "https://localhost:8080/",
     "height": 444
    },
    "id": "s-idxmZ5RXIx",
    "outputId": "e7f4f3f3-a64e-4495-eabd-9618f693426e"
   },
   "outputs": [
    {
     "data": {
      "application/vnd.google.colaboratory.intrinsic+json": {
       "summary": "{\n  \"name\": \"df[df['Crop_type'] == \\\"coffee\\\"]\",\n  \"rows\": 99,\n  \"fields\": [\n    {\n      \"column\": \"Field_ID\",\n      \"properties\": {\n        \"dtype\": \"number\",\n        \"std\": 1662,\n        \"min\": 60,\n        \"max\": 5614,\n        \"num_unique_values\": 99,\n        \"samples\": [\n          5182,\n          158,\n          227\n        ],\n        \"semantic_type\": \"\",\n        \"description\": \"\"\n      }\n    },\n    {\n      \"column\": \"Elevation\",\n      \"properties\": {\n        \"dtype\": \"number\",\n        \"std\": 152.9483319049221,\n        \"min\": 323.5896,\n        \"max\": 959.1869,\n        \"num_unique_values\": 99,\n        \"samples\": [\n          544.09674,\n          500.32855,\n          596.96045\n        ],\n        \"semantic_type\": \"\",\n        \"description\": \"\"\n      }\n    },\n    {\n      \"column\": \"Rainfall\",\n      \"properties\": {\n        \"dtype\": \"number\",\n        \"std\": 401.24804976436104,\n        \"min\": 758.6,\n        \"max\": 2251.5,\n        \"num_unique_values\": 98,\n        \"samples\": [\n          1635.3,\n          1105.6,\n          971.2\n        ],\n        \"semantic_type\": \"\",\n        \"description\": \"\"\n      }\n    },\n    {\n      \"column\": \"Min_temperature_C\",\n      \"properties\": {\n        \"dtype\": \"number\",\n        \"std\": 1.3022869692341488,\n        \"min\": -6.7,\n        \"max\": -1.6999999999999993,\n        \"num_unique_values\": 45,\n        \"samples\": [\n          -2.7,\n          -2.8,\n          -3.5\n        ],\n        \"semantic_type\": \"\",\n        \"description\": \"\"\n      }\n    },\n    {\n      \"column\": \"Max_temperature_C\",\n      \"properties\": {\n        \"dtype\": \"number\",\n        \"std\": 1.9838374969192016,\n        \"min\": 26.1,\n        \"max\": 35.8,\n        \"num_unique_values\": 61,\n        \"samples\": [\n          31.0,\n          31.6,\n          32.8\n        ],\n        \"semantic_type\": \"\",\n        \"description\": \"\"\n      }\n    },\n    {\n      \"column\": \"pH\",\n      \"properties\": {\n        \"dtype\": \"number\",\n        \"std\": 0.44506461976465866,\n        \"min\": 5.296714132285013,\n        \"max\": 7.181111118812387,\n        \"num_unique_values\": 99,\n        \"samples\": [\n          6.662335598928443,\n          6.274752330897496,\n          6.412882581165611\n        ],\n        \"semantic_type\": \"\",\n        \"description\": \"\"\n      }\n    },\n    {\n      \"column\": \"Pollution_level\",\n      \"properties\": {\n        \"dtype\": \"number\",\n        \"std\": 0.2431038048874828,\n        \"min\": 1.0888664093910215e-09,\n        \"max\": 0.9045005711765932,\n        \"num_unique_values\": 99,\n        \"samples\": [\n          0.2602544591190376,\n          0.647893090378304,\n          0.9045005711765932\n        ],\n        \"semantic_type\": \"\",\n        \"description\": \"\"\n      }\n    },\n    {\n      \"column\": \"Plot_size\",\n      \"properties\": {\n        \"dtype\": \"number\",\n        \"std\": 3.4420616038837744,\n        \"min\": 0.6,\n        \"max\": 13.6,\n        \"num_unique_values\": 52,\n        \"samples\": [\n          0.6,\n          2.4,\n          1.9\n        ],\n        \"semantic_type\": \"\",\n        \"description\": \"\"\n      }\n    },\n    {\n      \"column\": \"Annual_yield\",\n      \"properties\": {\n        \"dtype\": \"number\",\n        \"std\": 1.6607230940958386,\n        \"min\": 0.2573492956358705,\n        \"max\": 7.358088640792174,\n        \"num_unique_values\": 99,\n        \"samples\": [\n          0.6059117468008794,\n          4.537735151756167,\n          0.3335770240469841\n        ],\n        \"semantic_type\": \"\",\n        \"description\": \"\"\n      }\n    },\n    {\n      \"column\": \"Crop_type\",\n      \"properties\": {\n        \"dtype\": \"category\",\n        \"num_unique_values\": 1,\n        \"samples\": [\n          \"coffee\"\n        ],\n        \"semantic_type\": \"\",\n        \"description\": \"\"\n      }\n    }\n  ]\n}",
       "type": "dataframe"
      },
      "text/html": [
       "\n",
       "  <div id=\"df-11ffa517-6cfc-42ac-9aab-12bb413414ca\" class=\"colab-df-container\">\n",
       "    <div>\n",
       "<style scoped>\n",
       "    .dataframe tbody tr th:only-of-type {\n",
       "        vertical-align: middle;\n",
       "    }\n",
       "\n",
       "    .dataframe tbody tr th {\n",
       "        vertical-align: top;\n",
       "    }\n",
       "\n",
       "    .dataframe thead th {\n",
       "        text-align: right;\n",
       "    }\n",
       "</style>\n",
       "<table border=\"1\" class=\"dataframe\">\n",
       "  <thead>\n",
       "    <tr style=\"text-align: right;\">\n",
       "      <th></th>\n",
       "      <th>Field_ID</th>\n",
       "      <th>Elevation</th>\n",
       "      <th>Rainfall</th>\n",
       "      <th>Min_temperature_C</th>\n",
       "      <th>Max_temperature_C</th>\n",
       "      <th>pH</th>\n",
       "      <th>Pollution_level</th>\n",
       "      <th>Plot_size</th>\n",
       "      <th>Annual_yield</th>\n",
       "      <th>Crop_type</th>\n",
       "    </tr>\n",
       "  </thead>\n",
       "  <tbody>\n",
       "    <tr>\n",
       "      <th>0</th>\n",
       "      <td>1162</td>\n",
       "      <td>494.95615</td>\n",
       "      <td>1507.6</td>\n",
       "      <td>-5.4</td>\n",
       "      <td>31.0</td>\n",
       "      <td>6.859436</td>\n",
       "      <td>0.007034</td>\n",
       "      <td>3.6</td>\n",
       "      <td>1.617421</td>\n",
       "      <td>coffee</td>\n",
       "    </tr>\n",
       "    <tr>\n",
       "      <th>24</th>\n",
       "      <td>1735</td>\n",
       "      <td>779.55380</td>\n",
       "      <td>1435.4</td>\n",
       "      <td>-2.9</td>\n",
       "      <td>29.7</td>\n",
       "      <td>5.296714</td>\n",
       "      <td>0.106638</td>\n",
       "      <td>2.6</td>\n",
       "      <td>1.199727</td>\n",
       "      <td>coffee</td>\n",
       "    </tr>\n",
       "    <tr>\n",
       "      <th>35</th>\n",
       "      <td>4811</td>\n",
       "      <td>959.18690</td>\n",
       "      <td>850.7</td>\n",
       "      <td>-1.8</td>\n",
       "      <td>28.0</td>\n",
       "      <td>6.113445</td>\n",
       "      <td>0.211440</td>\n",
       "      <td>3.6</td>\n",
       "      <td>1.423348</td>\n",
       "      <td>coffee</td>\n",
       "    </tr>\n",
       "    <tr>\n",
       "      <th>66</th>\n",
       "      <td>664</td>\n",
       "      <td>821.04470</td>\n",
       "      <td>2243.5</td>\n",
       "      <td>-1.8</td>\n",
       "      <td>31.5</td>\n",
       "      <td>5.456049</td>\n",
       "      <td>0.373333</td>\n",
       "      <td>2.3</td>\n",
       "      <td>1.404096</td>\n",
       "      <td>coffee</td>\n",
       "    </tr>\n",
       "    <tr>\n",
       "      <th>67</th>\n",
       "      <td>2895</td>\n",
       "      <td>715.32020</td>\n",
       "      <td>1072.6</td>\n",
       "      <td>-3.8</td>\n",
       "      <td>33.0</td>\n",
       "      <td>5.811127</td>\n",
       "      <td>0.137442</td>\n",
       "      <td>12.6</td>\n",
       "      <td>5.054496</td>\n",
       "      <td>coffee</td>\n",
       "    </tr>\n",
       "    <tr>\n",
       "      <th>...</th>\n",
       "      <td>...</td>\n",
       "      <td>...</td>\n",
       "      <td>...</td>\n",
       "      <td>...</td>\n",
       "      <td>...</td>\n",
       "      <td>...</td>\n",
       "      <td>...</td>\n",
       "      <td>...</td>\n",
       "      <td>...</td>\n",
       "      <td>...</td>\n",
       "    </tr>\n",
       "    <tr>\n",
       "      <th>951</th>\n",
       "      <td>4531</td>\n",
       "      <td>515.09973</td>\n",
       "      <td>1963.0</td>\n",
       "      <td>-4.8</td>\n",
       "      <td>33.7</td>\n",
       "      <td>5.809697</td>\n",
       "      <td>0.014995</td>\n",
       "      <td>4.5</td>\n",
       "      <td>2.437925</td>\n",
       "      <td>coffee</td>\n",
       "    </tr>\n",
       "    <tr>\n",
       "      <th>957</th>\n",
       "      <td>227</td>\n",
       "      <td>596.96045</td>\n",
       "      <td>971.2</td>\n",
       "      <td>-5.0</td>\n",
       "      <td>29.9</td>\n",
       "      <td>6.412883</td>\n",
       "      <td>0.904501</td>\n",
       "      <td>1.2</td>\n",
       "      <td>0.333577</td>\n",
       "      <td>coffee</td>\n",
       "    </tr>\n",
       "    <tr>\n",
       "      <th>967</th>\n",
       "      <td>2534</td>\n",
       "      <td>364.18640</td>\n",
       "      <td>1695.5</td>\n",
       "      <td>-6.4</td>\n",
       "      <td>32.5</td>\n",
       "      <td>6.299957</td>\n",
       "      <td>0.044159</td>\n",
       "      <td>7.8</td>\n",
       "      <td>4.169957</td>\n",
       "      <td>coffee</td>\n",
       "    </tr>\n",
       "    <tr>\n",
       "      <th>984</th>\n",
       "      <td>1348</td>\n",
       "      <td>609.68860</td>\n",
       "      <td>1582.8</td>\n",
       "      <td>-4.3</td>\n",
       "      <td>28.7</td>\n",
       "      <td>5.726865</td>\n",
       "      <td>0.137010</td>\n",
       "      <td>2.4</td>\n",
       "      <td>1.032982</td>\n",
       "      <td>coffee</td>\n",
       "    </tr>\n",
       "    <tr>\n",
       "      <th>999</th>\n",
       "      <td>3334</td>\n",
       "      <td>747.69850</td>\n",
       "      <td>981.5</td>\n",
       "      <td>-3.7</td>\n",
       "      <td>31.0</td>\n",
       "      <td>6.715882</td>\n",
       "      <td>0.541706</td>\n",
       "      <td>11.1</td>\n",
       "      <td>2.867815</td>\n",
       "      <td>coffee</td>\n",
       "    </tr>\n",
       "  </tbody>\n",
       "</table>\n",
       "<p>99 rows × 10 columns</p>\n",
       "</div>\n",
       "    <div class=\"colab-df-buttons\">\n",
       "\n",
       "  <div class=\"colab-df-container\">\n",
       "    <button class=\"colab-df-convert\" onclick=\"convertToInteractive('df-11ffa517-6cfc-42ac-9aab-12bb413414ca')\"\n",
       "            title=\"Convert this dataframe to an interactive table.\"\n",
       "            style=\"display:none;\">\n",
       "\n",
       "  <svg xmlns=\"http://www.w3.org/2000/svg\" height=\"24px\" viewBox=\"0 -960 960 960\">\n",
       "    <path d=\"M120-120v-720h720v720H120Zm60-500h600v-160H180v160Zm220 220h160v-160H400v160Zm0 220h160v-160H400v160ZM180-400h160v-160H180v160Zm440 0h160v-160H620v160ZM180-180h160v-160H180v160Zm440 0h160v-160H620v160Z\"/>\n",
       "  </svg>\n",
       "    </button>\n",
       "\n",
       "  <style>\n",
       "    .colab-df-container {\n",
       "      display:flex;\n",
       "      gap: 12px;\n",
       "    }\n",
       "\n",
       "    .colab-df-convert {\n",
       "      background-color: #E8F0FE;\n",
       "      border: none;\n",
       "      border-radius: 50%;\n",
       "      cursor: pointer;\n",
       "      display: none;\n",
       "      fill: #1967D2;\n",
       "      height: 32px;\n",
       "      padding: 0 0 0 0;\n",
       "      width: 32px;\n",
       "    }\n",
       "\n",
       "    .colab-df-convert:hover {\n",
       "      background-color: #E2EBFA;\n",
       "      box-shadow: 0px 1px 2px rgba(60, 64, 67, 0.3), 0px 1px 3px 1px rgba(60, 64, 67, 0.15);\n",
       "      fill: #174EA6;\n",
       "    }\n",
       "\n",
       "    .colab-df-buttons div {\n",
       "      margin-bottom: 4px;\n",
       "    }\n",
       "\n",
       "    [theme=dark] .colab-df-convert {\n",
       "      background-color: #3B4455;\n",
       "      fill: #D2E3FC;\n",
       "    }\n",
       "\n",
       "    [theme=dark] .colab-df-convert:hover {\n",
       "      background-color: #434B5C;\n",
       "      box-shadow: 0px 1px 3px 1px rgba(0, 0, 0, 0.15);\n",
       "      filter: drop-shadow(0px 1px 2px rgba(0, 0, 0, 0.3));\n",
       "      fill: #FFFFFF;\n",
       "    }\n",
       "  </style>\n",
       "\n",
       "    <script>\n",
       "      const buttonEl =\n",
       "        document.querySelector('#df-11ffa517-6cfc-42ac-9aab-12bb413414ca button.colab-df-convert');\n",
       "      buttonEl.style.display =\n",
       "        google.colab.kernel.accessAllowed ? 'block' : 'none';\n",
       "\n",
       "      async function convertToInteractive(key) {\n",
       "        const element = document.querySelector('#df-11ffa517-6cfc-42ac-9aab-12bb413414ca');\n",
       "        const dataTable =\n",
       "          await google.colab.kernel.invokeFunction('convertToInteractive',\n",
       "                                                    [key], {});\n",
       "        if (!dataTable) return;\n",
       "\n",
       "        const docLinkHtml = 'Like what you see? Visit the ' +\n",
       "          '<a target=\"_blank\" href=https://colab.research.google.com/notebooks/data_table.ipynb>data table notebook</a>'\n",
       "          + ' to learn more about interactive tables.';\n",
       "        element.innerHTML = '';\n",
       "        dataTable['output_type'] = 'display_data';\n",
       "        await google.colab.output.renderOutput(dataTable, element);\n",
       "        const docLink = document.createElement('div');\n",
       "        docLink.innerHTML = docLinkHtml;\n",
       "        element.appendChild(docLink);\n",
       "      }\n",
       "    </script>\n",
       "  </div>\n",
       "\n",
       "\n",
       "<div id=\"df-2f5555be-bb5a-4b30-ac04-3f07ded2dff8\">\n",
       "  <button class=\"colab-df-quickchart\" onclick=\"quickchart('df-2f5555be-bb5a-4b30-ac04-3f07ded2dff8')\"\n",
       "            title=\"Suggest charts\"\n",
       "            style=\"display:none;\">\n",
       "\n",
       "<svg xmlns=\"http://www.w3.org/2000/svg\" height=\"24px\"viewBox=\"0 0 24 24\"\n",
       "     width=\"24px\">\n",
       "    <g>\n",
       "        <path d=\"M19 3H5c-1.1 0-2 .9-2 2v14c0 1.1.9 2 2 2h14c1.1 0 2-.9 2-2V5c0-1.1-.9-2-2-2zM9 17H7v-7h2v7zm4 0h-2V7h2v10zm4 0h-2v-4h2v4z\"/>\n",
       "    </g>\n",
       "</svg>\n",
       "  </button>\n",
       "\n",
       "<style>\n",
       "  .colab-df-quickchart {\n",
       "      --bg-color: #E8F0FE;\n",
       "      --fill-color: #1967D2;\n",
       "      --hover-bg-color: #E2EBFA;\n",
       "      --hover-fill-color: #174EA6;\n",
       "      --disabled-fill-color: #AAA;\n",
       "      --disabled-bg-color: #DDD;\n",
       "  }\n",
       "\n",
       "  [theme=dark] .colab-df-quickchart {\n",
       "      --bg-color: #3B4455;\n",
       "      --fill-color: #D2E3FC;\n",
       "      --hover-bg-color: #434B5C;\n",
       "      --hover-fill-color: #FFFFFF;\n",
       "      --disabled-bg-color: #3B4455;\n",
       "      --disabled-fill-color: #666;\n",
       "  }\n",
       "\n",
       "  .colab-df-quickchart {\n",
       "    background-color: var(--bg-color);\n",
       "    border: none;\n",
       "    border-radius: 50%;\n",
       "    cursor: pointer;\n",
       "    display: none;\n",
       "    fill: var(--fill-color);\n",
       "    height: 32px;\n",
       "    padding: 0;\n",
       "    width: 32px;\n",
       "  }\n",
       "\n",
       "  .colab-df-quickchart:hover {\n",
       "    background-color: var(--hover-bg-color);\n",
       "    box-shadow: 0 1px 2px rgba(60, 64, 67, 0.3), 0 1px 3px 1px rgba(60, 64, 67, 0.15);\n",
       "    fill: var(--button-hover-fill-color);\n",
       "  }\n",
       "\n",
       "  .colab-df-quickchart-complete:disabled,\n",
       "  .colab-df-quickchart-complete:disabled:hover {\n",
       "    background-color: var(--disabled-bg-color);\n",
       "    fill: var(--disabled-fill-color);\n",
       "    box-shadow: none;\n",
       "  }\n",
       "\n",
       "  .colab-df-spinner {\n",
       "    border: 2px solid var(--fill-color);\n",
       "    border-color: transparent;\n",
       "    border-bottom-color: var(--fill-color);\n",
       "    animation:\n",
       "      spin 1s steps(1) infinite;\n",
       "  }\n",
       "\n",
       "  @keyframes spin {\n",
       "    0% {\n",
       "      border-color: transparent;\n",
       "      border-bottom-color: var(--fill-color);\n",
       "      border-left-color: var(--fill-color);\n",
       "    }\n",
       "    20% {\n",
       "      border-color: transparent;\n",
       "      border-left-color: var(--fill-color);\n",
       "      border-top-color: var(--fill-color);\n",
       "    }\n",
       "    30% {\n",
       "      border-color: transparent;\n",
       "      border-left-color: var(--fill-color);\n",
       "      border-top-color: var(--fill-color);\n",
       "      border-right-color: var(--fill-color);\n",
       "    }\n",
       "    40% {\n",
       "      border-color: transparent;\n",
       "      border-right-color: var(--fill-color);\n",
       "      border-top-color: var(--fill-color);\n",
       "    }\n",
       "    60% {\n",
       "      border-color: transparent;\n",
       "      border-right-color: var(--fill-color);\n",
       "    }\n",
       "    80% {\n",
       "      border-color: transparent;\n",
       "      border-right-color: var(--fill-color);\n",
       "      border-bottom-color: var(--fill-color);\n",
       "    }\n",
       "    90% {\n",
       "      border-color: transparent;\n",
       "      border-bottom-color: var(--fill-color);\n",
       "    }\n",
       "  }\n",
       "</style>\n",
       "\n",
       "  <script>\n",
       "    async function quickchart(key) {\n",
       "      const quickchartButtonEl =\n",
       "        document.querySelector('#' + key + ' button');\n",
       "      quickchartButtonEl.disabled = true;  // To prevent multiple clicks.\n",
       "      quickchartButtonEl.classList.add('colab-df-spinner');\n",
       "      try {\n",
       "        const charts = await google.colab.kernel.invokeFunction(\n",
       "            'suggestCharts', [key], {});\n",
       "      } catch (error) {\n",
       "        console.error('Error during call to suggestCharts:', error);\n",
       "      }\n",
       "      quickchartButtonEl.classList.remove('colab-df-spinner');\n",
       "      quickchartButtonEl.classList.add('colab-df-quickchart-complete');\n",
       "    }\n",
       "    (() => {\n",
       "      let quickchartButtonEl =\n",
       "        document.querySelector('#df-2f5555be-bb5a-4b30-ac04-3f07ded2dff8 button');\n",
       "      quickchartButtonEl.style.display =\n",
       "        google.colab.kernel.accessAllowed ? 'block' : 'none';\n",
       "    })();\n",
       "  </script>\n",
       "</div>\n",
       "    </div>\n",
       "  </div>\n"
      ],
      "text/plain": [
       "     Field_ID  Elevation  Rainfall  Min_temperature_C  Max_temperature_C  \\\n",
       "0        1162  494.95615    1507.6               -5.4               31.0   \n",
       "24       1735  779.55380    1435.4               -2.9               29.7   \n",
       "35       4811  959.18690     850.7               -1.8               28.0   \n",
       "66        664  821.04470    2243.5               -1.8               31.5   \n",
       "67       2895  715.32020    1072.6               -3.8               33.0   \n",
       "..        ...        ...       ...                ...                ...   \n",
       "951      4531  515.09973    1963.0               -4.8               33.7   \n",
       "957       227  596.96045     971.2               -5.0               29.9   \n",
       "967      2534  364.18640    1695.5               -6.4               32.5   \n",
       "984      1348  609.68860    1582.8               -4.3               28.7   \n",
       "999      3334  747.69850     981.5               -3.7               31.0   \n",
       "\n",
       "           pH  Pollution_level  Plot_size  Annual_yield Crop_type  \n",
       "0    6.859436         0.007034        3.6      1.617421    coffee  \n",
       "24   5.296714         0.106638        2.6      1.199727    coffee  \n",
       "35   6.113445         0.211440        3.6      1.423348    coffee  \n",
       "66   5.456049         0.373333        2.3      1.404096    coffee  \n",
       "67   5.811127         0.137442       12.6      5.054496    coffee  \n",
       "..        ...              ...        ...           ...       ...  \n",
       "951  5.809697         0.014995        4.5      2.437925    coffee  \n",
       "957  6.412883         0.904501        1.2      0.333577    coffee  \n",
       "967  6.299957         0.044159        7.8      4.169957    coffee  \n",
       "984  5.726865         0.137010        2.4      1.032982    coffee  \n",
       "999  6.715882         0.541706       11.1      2.867815    coffee  \n",
       "\n",
       "[99 rows x 10 columns]"
      ]
     },
     "execution_count": 7,
     "metadata": {},
     "output_type": "execute_result"
    }
   ],
   "source": [
    "df[df['Crop_type'] == \"coffee\"]"
   ]
  },
  {
   "cell_type": "code",
   "execution_count": null,
   "metadata": {
    "colab": {
     "base_uri": "https://localhost:8080/",
     "height": 444
    },
    "id": "yD7k5WBTTrJ5",
    "outputId": "806246b0-355a-49b5-c86b-270ab471dec8"
   },
   "outputs": [
    {
     "data": {
      "application/vnd.google.colaboratory.intrinsic+json": {
       "summary": "{\n  \"name\": \"df[df['Rainfall'] < 1000]\",\n  \"rows\": 376,\n  \"fields\": [\n    {\n      \"column\": \"Field_ID\",\n      \"properties\": {\n        \"dtype\": \"number\",\n        \"std\": 1566,\n        \"min\": 4,\n        \"max\": 5632,\n        \"num_unique_values\": 376,\n        \"samples\": [\n          571,\n          781,\n          3137\n        ],\n        \"semantic_type\": \"\",\n        \"description\": \"\"\n      }\n    },\n    {\n      \"column\": \"Elevation\",\n      \"properties\": {\n        \"dtype\": \"number\",\n        \"std\": 136.8200220781998,\n        \"min\": 282.8629,\n        \"max\": 1003.9437,\n        \"num_unique_values\": 375,\n        \"samples\": [\n          740.9102,\n          883.55865,\n          886.353\n        ],\n        \"semantic_type\": \"\",\n        \"description\": \"\"\n      }\n    },\n    {\n      \"column\": \"Rainfall\",\n      \"properties\": {\n        \"dtype\": \"number\",\n        \"std\": 190.95361324432653,\n        \"min\": 110.1,\n        \"max\": 999.6,\n        \"num_unique_values\": 371,\n        \"samples\": [\n          716.5,\n          624.4,\n          785.2\n        ],\n        \"semantic_type\": \"\",\n        \"description\": \"\"\n      }\n    },\n    {\n      \"column\": \"Min_temperature_C\",\n      \"properties\": {\n        \"dtype\": \"number\",\n        \"std\": 1.319395950334419,\n        \"min\": -8.4,\n        \"max\": -1.4000000000000004,\n        \"num_unique_values\": 59,\n        \"samples\": [\n          -4.7,\n          -6.3,\n          -3.4000000000000004\n        ],\n        \"semantic_type\": \"\",\n        \"description\": \"\"\n      }\n    },\n    {\n      \"column\": \"Max_temperature_C\",\n      \"properties\": {\n        \"dtype\": \"number\",\n        \"std\": 1.7893289482670265,\n        \"min\": 25.1,\n        \"max\": 35.7,\n        \"num_unique_values\": 82,\n        \"samples\": [\n          30.3,\n          30.9,\n          30.0\n        ],\n        \"semantic_type\": \"\",\n        \"description\": \"\"\n      }\n    },\n    {\n      \"column\": \"pH\",\n      \"properties\": {\n        \"dtype\": \"number\",\n        \"std\": 0.6073563689219129,\n        \"min\": 4.057661527677576,\n        \"max\": 6.783722587485643,\n        \"num_unique_values\": 376,\n        \"samples\": [\n          6.095770978433336,\n          5.015586224190304,\n          6.62921623645505\n        ],\n        \"semantic_type\": \"\",\n        \"description\": \"\"\n      }\n    },\n    {\n      \"column\": \"Pollution_level\",\n      \"properties\": {\n        \"dtype\": \"number\",\n        \"std\": 0.17404890939835774,\n        \"min\": 0.0010015650503299,\n        \"max\": 0.9045005711765932,\n        \"num_unique_values\": 376,\n        \"samples\": [\n          0.0934622201014288,\n          0.1968807271646392,\n          0.1574511779254453\n        ],\n        \"semantic_type\": \"\",\n        \"description\": \"\"\n      }\n    },\n    {\n      \"column\": \"Plot_size\",\n      \"properties\": {\n        \"dtype\": \"number\",\n        \"std\": 3.172808541742346,\n        \"min\": 0.5,\n        \"max\": 14.8,\n        \"num_unique_values\": 88,\n        \"samples\": [\n          9.5,\n          4.2,\n          14.5\n        ],\n        \"semantic_type\": \"\",\n        \"description\": \"\"\n      }\n    },\n    {\n      \"column\": \"Annual_yield\",\n      \"properties\": {\n        \"dtype\": \"number\",\n        \"std\": 1.847386599008771,\n        \"min\": 0.1911415253949436,\n        \"max\": 8.994376295629458,\n        \"num_unique_values\": 376,\n        \"samples\": [\n          3.393145780549527,\n          0.3129385982735705,\n          1.888224488701592\n        ],\n        \"semantic_type\": \"\",\n        \"description\": \"\"\n      }\n    },\n    {\n      \"column\": \"Crop_type\",\n      \"properties\": {\n        \"dtype\": \"category\",\n        \"num_unique_values\": 6,\n        \"samples\": [\n          \"potato\",\n          \"maize\",\n          \"tea\"\n        ],\n        \"semantic_type\": \"\",\n        \"description\": \"\"\n      }\n    }\n  ]\n}",
       "type": "dataframe"
      },
      "text/html": [
       "\n",
       "  <div id=\"df-2f427fc6-e3fc-4207-9fde-df01b2cd8ff9\" class=\"colab-df-container\">\n",
       "    <div>\n",
       "<style scoped>\n",
       "    .dataframe tbody tr th:only-of-type {\n",
       "        vertical-align: middle;\n",
       "    }\n",
       "\n",
       "    .dataframe tbody tr th {\n",
       "        vertical-align: top;\n",
       "    }\n",
       "\n",
       "    .dataframe thead th {\n",
       "        text-align: right;\n",
       "    }\n",
       "</style>\n",
       "<table border=\"1\" class=\"dataframe\">\n",
       "  <thead>\n",
       "    <tr style=\"text-align: right;\">\n",
       "      <th></th>\n",
       "      <th>Field_ID</th>\n",
       "      <th>Elevation</th>\n",
       "      <th>Rainfall</th>\n",
       "      <th>Min_temperature_C</th>\n",
       "      <th>Max_temperature_C</th>\n",
       "      <th>pH</th>\n",
       "      <th>Pollution_level</th>\n",
       "      <th>Plot_size</th>\n",
       "      <th>Annual_yield</th>\n",
       "      <th>Crop_type</th>\n",
       "    </tr>\n",
       "  </thead>\n",
       "  <tbody>\n",
       "    <tr>\n",
       "      <th>1</th>\n",
       "      <td>5108</td>\n",
       "      <td>663.73390</td>\n",
       "      <td>581.0</td>\n",
       "      <td>-4.7</td>\n",
       "      <td>30.9</td>\n",
       "      <td>5.603219</td>\n",
       "      <td>0.289643</td>\n",
       "      <td>4.2</td>\n",
       "      <td>2.532497</td>\n",
       "      <td>potato</td>\n",
       "    </tr>\n",
       "    <tr>\n",
       "      <th>6</th>\n",
       "      <td>3990</td>\n",
       "      <td>749.43427</td>\n",
       "      <td>728.0</td>\n",
       "      <td>-3.8</td>\n",
       "      <td>31.1</td>\n",
       "      <td>6.098062</td>\n",
       "      <td>0.330737</td>\n",
       "      <td>2.7</td>\n",
       "      <td>1.404142</td>\n",
       "      <td>maize</td>\n",
       "    </tr>\n",
       "    <tr>\n",
       "      <th>8</th>\n",
       "      <td>2134</td>\n",
       "      <td>840.58400</td>\n",
       "      <td>579.5</td>\n",
       "      <td>-3.1</td>\n",
       "      <td>28.1</td>\n",
       "      <td>5.697434</td>\n",
       "      <td>0.232921</td>\n",
       "      <td>4.2</td>\n",
       "      <td>2.470872</td>\n",
       "      <td>potato</td>\n",
       "    </tr>\n",
       "    <tr>\n",
       "      <th>9</th>\n",
       "      <td>5632</td>\n",
       "      <td>618.01624</td>\n",
       "      <td>888.0</td>\n",
       "      <td>-4.9</td>\n",
       "      <td>26.9</td>\n",
       "      <td>5.231630</td>\n",
       "      <td>0.499646</td>\n",
       "      <td>0.7</td>\n",
       "      <td>0.350604</td>\n",
       "      <td>wheat</td>\n",
       "    </tr>\n",
       "    <tr>\n",
       "      <th>11</th>\n",
       "      <td>1789</td>\n",
       "      <td>701.69910</td>\n",
       "      <td>581.4</td>\n",
       "      <td>-4.4</td>\n",
       "      <td>31.4</td>\n",
       "      <td>6.348243</td>\n",
       "      <td>0.240244</td>\n",
       "      <td>1.6</td>\n",
       "      <td>0.938699</td>\n",
       "      <td>wheat</td>\n",
       "    </tr>\n",
       "    <tr>\n",
       "      <th>...</th>\n",
       "      <td>...</td>\n",
       "      <td>...</td>\n",
       "      <td>...</td>\n",
       "      <td>...</td>\n",
       "      <td>...</td>\n",
       "      <td>...</td>\n",
       "      <td>...</td>\n",
       "      <td>...</td>\n",
       "      <td>...</td>\n",
       "      <td>...</td>\n",
       "    </tr>\n",
       "    <tr>\n",
       "      <th>995</th>\n",
       "      <td>2202</td>\n",
       "      <td>572.95935</td>\n",
       "      <td>625.6</td>\n",
       "      <td>-5.5</td>\n",
       "      <td>31.0</td>\n",
       "      <td>5.258964</td>\n",
       "      <td>0.086330</td>\n",
       "      <td>1.2</td>\n",
       "      <td>0.750675</td>\n",
       "      <td>wheat</td>\n",
       "    </tr>\n",
       "    <tr>\n",
       "      <th>996</th>\n",
       "      <td>2531</td>\n",
       "      <td>552.80945</td>\n",
       "      <td>398.1</td>\n",
       "      <td>-5.9</td>\n",
       "      <td>33.4</td>\n",
       "      <td>4.607136</td>\n",
       "      <td>0.130178</td>\n",
       "      <td>0.8</td>\n",
       "      <td>0.449790</td>\n",
       "      <td>wheat</td>\n",
       "    </tr>\n",
       "    <tr>\n",
       "      <th>997</th>\n",
       "      <td>1040</td>\n",
       "      <td>678.22504</td>\n",
       "      <td>564.4</td>\n",
       "      <td>-4.6</td>\n",
       "      <td>31.7</td>\n",
       "      <td>5.567556</td>\n",
       "      <td>0.448149</td>\n",
       "      <td>1.2</td>\n",
       "      <td>0.492988</td>\n",
       "      <td>maize</td>\n",
       "    </tr>\n",
       "    <tr>\n",
       "      <th>998</th>\n",
       "      <td>58</td>\n",
       "      <td>792.65370</td>\n",
       "      <td>928.5</td>\n",
       "      <td>-3.3</td>\n",
       "      <td>31.2</td>\n",
       "      <td>5.102048</td>\n",
       "      <td>0.387350</td>\n",
       "      <td>1.1</td>\n",
       "      <td>0.597557</td>\n",
       "      <td>potato</td>\n",
       "    </tr>\n",
       "    <tr>\n",
       "      <th>999</th>\n",
       "      <td>3334</td>\n",
       "      <td>747.69850</td>\n",
       "      <td>981.5</td>\n",
       "      <td>-3.7</td>\n",
       "      <td>31.0</td>\n",
       "      <td>6.715882</td>\n",
       "      <td>0.541706</td>\n",
       "      <td>11.1</td>\n",
       "      <td>2.867815</td>\n",
       "      <td>coffee</td>\n",
       "    </tr>\n",
       "  </tbody>\n",
       "</table>\n",
       "<p>376 rows × 10 columns</p>\n",
       "</div>\n",
       "    <div class=\"colab-df-buttons\">\n",
       "\n",
       "  <div class=\"colab-df-container\">\n",
       "    <button class=\"colab-df-convert\" onclick=\"convertToInteractive('df-2f427fc6-e3fc-4207-9fde-df01b2cd8ff9')\"\n",
       "            title=\"Convert this dataframe to an interactive table.\"\n",
       "            style=\"display:none;\">\n",
       "\n",
       "  <svg xmlns=\"http://www.w3.org/2000/svg\" height=\"24px\" viewBox=\"0 -960 960 960\">\n",
       "    <path d=\"M120-120v-720h720v720H120Zm60-500h600v-160H180v160Zm220 220h160v-160H400v160Zm0 220h160v-160H400v160ZM180-400h160v-160H180v160Zm440 0h160v-160H620v160ZM180-180h160v-160H180v160Zm440 0h160v-160H620v160Z\"/>\n",
       "  </svg>\n",
       "    </button>\n",
       "\n",
       "  <style>\n",
       "    .colab-df-container {\n",
       "      display:flex;\n",
       "      gap: 12px;\n",
       "    }\n",
       "\n",
       "    .colab-df-convert {\n",
       "      background-color: #E8F0FE;\n",
       "      border: none;\n",
       "      border-radius: 50%;\n",
       "      cursor: pointer;\n",
       "      display: none;\n",
       "      fill: #1967D2;\n",
       "      height: 32px;\n",
       "      padding: 0 0 0 0;\n",
       "      width: 32px;\n",
       "    }\n",
       "\n",
       "    .colab-df-convert:hover {\n",
       "      background-color: #E2EBFA;\n",
       "      box-shadow: 0px 1px 2px rgba(60, 64, 67, 0.3), 0px 1px 3px 1px rgba(60, 64, 67, 0.15);\n",
       "      fill: #174EA6;\n",
       "    }\n",
       "\n",
       "    .colab-df-buttons div {\n",
       "      margin-bottom: 4px;\n",
       "    }\n",
       "\n",
       "    [theme=dark] .colab-df-convert {\n",
       "      background-color: #3B4455;\n",
       "      fill: #D2E3FC;\n",
       "    }\n",
       "\n",
       "    [theme=dark] .colab-df-convert:hover {\n",
       "      background-color: #434B5C;\n",
       "      box-shadow: 0px 1px 3px 1px rgba(0, 0, 0, 0.15);\n",
       "      filter: drop-shadow(0px 1px 2px rgba(0, 0, 0, 0.3));\n",
       "      fill: #FFFFFF;\n",
       "    }\n",
       "  </style>\n",
       "\n",
       "    <script>\n",
       "      const buttonEl =\n",
       "        document.querySelector('#df-2f427fc6-e3fc-4207-9fde-df01b2cd8ff9 button.colab-df-convert');\n",
       "      buttonEl.style.display =\n",
       "        google.colab.kernel.accessAllowed ? 'block' : 'none';\n",
       "\n",
       "      async function convertToInteractive(key) {\n",
       "        const element = document.querySelector('#df-2f427fc6-e3fc-4207-9fde-df01b2cd8ff9');\n",
       "        const dataTable =\n",
       "          await google.colab.kernel.invokeFunction('convertToInteractive',\n",
       "                                                    [key], {});\n",
       "        if (!dataTable) return;\n",
       "\n",
       "        const docLinkHtml = 'Like what you see? Visit the ' +\n",
       "          '<a target=\"_blank\" href=https://colab.research.google.com/notebooks/data_table.ipynb>data table notebook</a>'\n",
       "          + ' to learn more about interactive tables.';\n",
       "        element.innerHTML = '';\n",
       "        dataTable['output_type'] = 'display_data';\n",
       "        await google.colab.output.renderOutput(dataTable, element);\n",
       "        const docLink = document.createElement('div');\n",
       "        docLink.innerHTML = docLinkHtml;\n",
       "        element.appendChild(docLink);\n",
       "      }\n",
       "    </script>\n",
       "  </div>\n",
       "\n",
       "\n",
       "<div id=\"df-cdec54ce-b1c3-4f29-b514-215de4d11cef\">\n",
       "  <button class=\"colab-df-quickchart\" onclick=\"quickchart('df-cdec54ce-b1c3-4f29-b514-215de4d11cef')\"\n",
       "            title=\"Suggest charts\"\n",
       "            style=\"display:none;\">\n",
       "\n",
       "<svg xmlns=\"http://www.w3.org/2000/svg\" height=\"24px\"viewBox=\"0 0 24 24\"\n",
       "     width=\"24px\">\n",
       "    <g>\n",
       "        <path d=\"M19 3H5c-1.1 0-2 .9-2 2v14c0 1.1.9 2 2 2h14c1.1 0 2-.9 2-2V5c0-1.1-.9-2-2-2zM9 17H7v-7h2v7zm4 0h-2V7h2v10zm4 0h-2v-4h2v4z\"/>\n",
       "    </g>\n",
       "</svg>\n",
       "  </button>\n",
       "\n",
       "<style>\n",
       "  .colab-df-quickchart {\n",
       "      --bg-color: #E8F0FE;\n",
       "      --fill-color: #1967D2;\n",
       "      --hover-bg-color: #E2EBFA;\n",
       "      --hover-fill-color: #174EA6;\n",
       "      --disabled-fill-color: #AAA;\n",
       "      --disabled-bg-color: #DDD;\n",
       "  }\n",
       "\n",
       "  [theme=dark] .colab-df-quickchart {\n",
       "      --bg-color: #3B4455;\n",
       "      --fill-color: #D2E3FC;\n",
       "      --hover-bg-color: #434B5C;\n",
       "      --hover-fill-color: #FFFFFF;\n",
       "      --disabled-bg-color: #3B4455;\n",
       "      --disabled-fill-color: #666;\n",
       "  }\n",
       "\n",
       "  .colab-df-quickchart {\n",
       "    background-color: var(--bg-color);\n",
       "    border: none;\n",
       "    border-radius: 50%;\n",
       "    cursor: pointer;\n",
       "    display: none;\n",
       "    fill: var(--fill-color);\n",
       "    height: 32px;\n",
       "    padding: 0;\n",
       "    width: 32px;\n",
       "  }\n",
       "\n",
       "  .colab-df-quickchart:hover {\n",
       "    background-color: var(--hover-bg-color);\n",
       "    box-shadow: 0 1px 2px rgba(60, 64, 67, 0.3), 0 1px 3px 1px rgba(60, 64, 67, 0.15);\n",
       "    fill: var(--button-hover-fill-color);\n",
       "  }\n",
       "\n",
       "  .colab-df-quickchart-complete:disabled,\n",
       "  .colab-df-quickchart-complete:disabled:hover {\n",
       "    background-color: var(--disabled-bg-color);\n",
       "    fill: var(--disabled-fill-color);\n",
       "    box-shadow: none;\n",
       "  }\n",
       "\n",
       "  .colab-df-spinner {\n",
       "    border: 2px solid var(--fill-color);\n",
       "    border-color: transparent;\n",
       "    border-bottom-color: var(--fill-color);\n",
       "    animation:\n",
       "      spin 1s steps(1) infinite;\n",
       "  }\n",
       "\n",
       "  @keyframes spin {\n",
       "    0% {\n",
       "      border-color: transparent;\n",
       "      border-bottom-color: var(--fill-color);\n",
       "      border-left-color: var(--fill-color);\n",
       "    }\n",
       "    20% {\n",
       "      border-color: transparent;\n",
       "      border-left-color: var(--fill-color);\n",
       "      border-top-color: var(--fill-color);\n",
       "    }\n",
       "    30% {\n",
       "      border-color: transparent;\n",
       "      border-left-color: var(--fill-color);\n",
       "      border-top-color: var(--fill-color);\n",
       "      border-right-color: var(--fill-color);\n",
       "    }\n",
       "    40% {\n",
       "      border-color: transparent;\n",
       "      border-right-color: var(--fill-color);\n",
       "      border-top-color: var(--fill-color);\n",
       "    }\n",
       "    60% {\n",
       "      border-color: transparent;\n",
       "      border-right-color: var(--fill-color);\n",
       "    }\n",
       "    80% {\n",
       "      border-color: transparent;\n",
       "      border-right-color: var(--fill-color);\n",
       "      border-bottom-color: var(--fill-color);\n",
       "    }\n",
       "    90% {\n",
       "      border-color: transparent;\n",
       "      border-bottom-color: var(--fill-color);\n",
       "    }\n",
       "  }\n",
       "</style>\n",
       "\n",
       "  <script>\n",
       "    async function quickchart(key) {\n",
       "      const quickchartButtonEl =\n",
       "        document.querySelector('#' + key + ' button');\n",
       "      quickchartButtonEl.disabled = true;  // To prevent multiple clicks.\n",
       "      quickchartButtonEl.classList.add('colab-df-spinner');\n",
       "      try {\n",
       "        const charts = await google.colab.kernel.invokeFunction(\n",
       "            'suggestCharts', [key], {});\n",
       "      } catch (error) {\n",
       "        console.error('Error during call to suggestCharts:', error);\n",
       "      }\n",
       "      quickchartButtonEl.classList.remove('colab-df-spinner');\n",
       "      quickchartButtonEl.classList.add('colab-df-quickchart-complete');\n",
       "    }\n",
       "    (() => {\n",
       "      let quickchartButtonEl =\n",
       "        document.querySelector('#df-cdec54ce-b1c3-4f29-b514-215de4d11cef button');\n",
       "      quickchartButtonEl.style.display =\n",
       "        google.colab.kernel.accessAllowed ? 'block' : 'none';\n",
       "    })();\n",
       "  </script>\n",
       "</div>\n",
       "    </div>\n",
       "  </div>\n"
      ],
      "text/plain": [
       "     Field_ID  Elevation  Rainfall  Min_temperature_C  Max_temperature_C  \\\n",
       "1        5108  663.73390     581.0               -4.7               30.9   \n",
       "6        3990  749.43427     728.0               -3.8               31.1   \n",
       "8        2134  840.58400     579.5               -3.1               28.1   \n",
       "9        5632  618.01624     888.0               -4.9               26.9   \n",
       "11       1789  701.69910     581.4               -4.4               31.4   \n",
       "..        ...        ...       ...                ...                ...   \n",
       "995      2202  572.95935     625.6               -5.5               31.0   \n",
       "996      2531  552.80945     398.1               -5.9               33.4   \n",
       "997      1040  678.22504     564.4               -4.6               31.7   \n",
       "998        58  792.65370     928.5               -3.3               31.2   \n",
       "999      3334  747.69850     981.5               -3.7               31.0   \n",
       "\n",
       "           pH  Pollution_level  Plot_size  Annual_yield Crop_type  \n",
       "1    5.603219         0.289643        4.2      2.532497    potato  \n",
       "6    6.098062         0.330737        2.7      1.404142     maize  \n",
       "8    5.697434         0.232921        4.2      2.470872    potato  \n",
       "9    5.231630         0.499646        0.7      0.350604     wheat  \n",
       "11   6.348243         0.240244        1.6      0.938699     wheat  \n",
       "..        ...              ...        ...           ...       ...  \n",
       "995  5.258964         0.086330        1.2      0.750675     wheat  \n",
       "996  4.607136         0.130178        0.8      0.449790     wheat  \n",
       "997  5.567556         0.448149        1.2      0.492988     maize  \n",
       "998  5.102048         0.387350        1.1      0.597557    potato  \n",
       "999  6.715882         0.541706       11.1      2.867815    coffee  \n",
       "\n",
       "[376 rows x 10 columns]"
      ]
     },
     "execution_count": 12,
     "metadata": {},
     "output_type": "execute_result"
    }
   ],
   "source": [
    "df[df['Rainfall'] < 1000]"
   ]
  },
  {
   "cell_type": "code",
   "execution_count": null,
   "metadata": {
    "colab": {
     "base_uri": "https://localhost:8080/",
     "height": 525
    },
    "id": "YlJViJkvTypP",
    "outputId": "ce83ec6e-9eb7-4c94-930a-fb641f1c3755"
   },
   "outputs": [
    {
     "ename": "KeyError",
     "evalue": "'Rainfall'",
     "output_type": "error",
     "traceback": [
      "\u001b[0;31m---------------------------------------------------------------------------\u001b[0m",
      "\u001b[0;31mKeyError\u001b[0m                                  Traceback (most recent call last)",
      "\u001b[0;32m/usr/local/lib/python3.10/dist-packages/pandas/core/indexes/base.py\u001b[0m in \u001b[0;36mget_loc\u001b[0;34m(self, key, method, tolerance)\u001b[0m\n\u001b[1;32m   3801\u001b[0m             \u001b[0;32mtry\u001b[0m\u001b[0;34m:\u001b[0m\u001b[0;34m\u001b[0m\u001b[0;34m\u001b[0m\u001b[0m\n\u001b[0;32m-> 3802\u001b[0;31m                 \u001b[0;32mreturn\u001b[0m \u001b[0mself\u001b[0m\u001b[0;34m.\u001b[0m\u001b[0m_engine\u001b[0m\u001b[0;34m.\u001b[0m\u001b[0mget_loc\u001b[0m\u001b[0;34m(\u001b[0m\u001b[0mcasted_key\u001b[0m\u001b[0;34m)\u001b[0m\u001b[0;34m\u001b[0m\u001b[0;34m\u001b[0m\u001b[0m\n\u001b[0m\u001b[1;32m   3803\u001b[0m             \u001b[0;32mexcept\u001b[0m \u001b[0mKeyError\u001b[0m \u001b[0;32mas\u001b[0m \u001b[0merr\u001b[0m\u001b[0;34m:\u001b[0m\u001b[0;34m\u001b[0m\u001b[0;34m\u001b[0m\u001b[0m\n",
      "\u001b[0;32m/usr/local/lib/python3.10/dist-packages/pandas/_libs/index.pyx\u001b[0m in \u001b[0;36mpandas._libs.index.IndexEngine.get_loc\u001b[0;34m()\u001b[0m\n",
      "\u001b[0;32m/usr/local/lib/python3.10/dist-packages/pandas/_libs/index.pyx\u001b[0m in \u001b[0;36mpandas._libs.index.IndexEngine.get_loc\u001b[0;34m()\u001b[0m\n",
      "\u001b[0;32mpandas/_libs/hashtable_class_helper.pxi\u001b[0m in \u001b[0;36mpandas._libs.hashtable.PyObjectHashTable.get_item\u001b[0;34m()\u001b[0m\n",
      "\u001b[0;32mpandas/_libs/hashtable_class_helper.pxi\u001b[0m in \u001b[0;36mpandas._libs.hashtable.PyObjectHashTable.get_item\u001b[0;34m()\u001b[0m\n",
      "\u001b[0;31mKeyError\u001b[0m: 'Rainfall'",
      "\nThe above exception was the direct cause of the following exception:\n",
      "\u001b[0;31mKeyError\u001b[0m                                  Traceback (most recent call last)",
      "\u001b[0;32m<ipython-input-48-f7b69270e6e2>\u001b[0m in \u001b[0;36m<cell line: 1>\u001b[0;34m()\u001b[0m\n\u001b[0;32m----> 1\u001b[0;31m \u001b[0mdf\u001b[0m\u001b[0;34m[\u001b[0m\u001b[0mdf\u001b[0m\u001b[0;34m[\u001b[0m\u001b[0;34m'Rainfall'\u001b[0m\u001b[0;34m]\u001b[0m \u001b[0;34m<\u001b[0m \u001b[0;36m1000\u001b[0m \u001b[0;34m&\u001b[0m \u001b[0mdf\u001b[0m\u001b[0;34m[\u001b[0m\u001b[0;34m'Crop_type'\u001b[0m\u001b[0;34m]\u001b[0m \u001b[0;34m==\u001b[0m \u001b[0;34m\"coffee\"\u001b[0m\u001b[0;34m]\u001b[0m\u001b[0;34m\u001b[0m\u001b[0;34m\u001b[0m\u001b[0m\n\u001b[0m",
      "\u001b[0;32m/usr/local/lib/python3.10/dist-packages/pandas/core/frame.py\u001b[0m in \u001b[0;36m__getitem__\u001b[0;34m(self, key)\u001b[0m\n\u001b[1;32m   3805\u001b[0m             \u001b[0;32mif\u001b[0m \u001b[0mself\u001b[0m\u001b[0;34m.\u001b[0m\u001b[0mcolumns\u001b[0m\u001b[0;34m.\u001b[0m\u001b[0mnlevels\u001b[0m \u001b[0;34m>\u001b[0m \u001b[0;36m1\u001b[0m\u001b[0;34m:\u001b[0m\u001b[0;34m\u001b[0m\u001b[0;34m\u001b[0m\u001b[0m\n\u001b[1;32m   3806\u001b[0m                 \u001b[0;32mreturn\u001b[0m \u001b[0mself\u001b[0m\u001b[0;34m.\u001b[0m\u001b[0m_getitem_multilevel\u001b[0m\u001b[0;34m(\u001b[0m\u001b[0mkey\u001b[0m\u001b[0;34m)\u001b[0m\u001b[0;34m\u001b[0m\u001b[0;34m\u001b[0m\u001b[0m\n\u001b[0;32m-> 3807\u001b[0;31m             \u001b[0mindexer\u001b[0m \u001b[0;34m=\u001b[0m \u001b[0mself\u001b[0m\u001b[0;34m.\u001b[0m\u001b[0mcolumns\u001b[0m\u001b[0;34m.\u001b[0m\u001b[0mget_loc\u001b[0m\u001b[0;34m(\u001b[0m\u001b[0mkey\u001b[0m\u001b[0;34m)\u001b[0m\u001b[0;34m\u001b[0m\u001b[0;34m\u001b[0m\u001b[0m\n\u001b[0m\u001b[1;32m   3808\u001b[0m             \u001b[0;32mif\u001b[0m \u001b[0mis_integer\u001b[0m\u001b[0;34m(\u001b[0m\u001b[0mindexer\u001b[0m\u001b[0;34m)\u001b[0m\u001b[0;34m:\u001b[0m\u001b[0;34m\u001b[0m\u001b[0;34m\u001b[0m\u001b[0m\n\u001b[1;32m   3809\u001b[0m                 \u001b[0mindexer\u001b[0m \u001b[0;34m=\u001b[0m \u001b[0;34m[\u001b[0m\u001b[0mindexer\u001b[0m\u001b[0;34m]\u001b[0m\u001b[0;34m\u001b[0m\u001b[0;34m\u001b[0m\u001b[0m\n",
      "\u001b[0;32m/usr/local/lib/python3.10/dist-packages/pandas/core/indexes/base.py\u001b[0m in \u001b[0;36mget_loc\u001b[0;34m(self, key, method, tolerance)\u001b[0m\n\u001b[1;32m   3802\u001b[0m                 \u001b[0;32mreturn\u001b[0m \u001b[0mself\u001b[0m\u001b[0;34m.\u001b[0m\u001b[0m_engine\u001b[0m\u001b[0;34m.\u001b[0m\u001b[0mget_loc\u001b[0m\u001b[0;34m(\u001b[0m\u001b[0mcasted_key\u001b[0m\u001b[0;34m)\u001b[0m\u001b[0;34m\u001b[0m\u001b[0;34m\u001b[0m\u001b[0m\n\u001b[1;32m   3803\u001b[0m             \u001b[0;32mexcept\u001b[0m \u001b[0mKeyError\u001b[0m \u001b[0;32mas\u001b[0m \u001b[0merr\u001b[0m\u001b[0;34m:\u001b[0m\u001b[0;34m\u001b[0m\u001b[0;34m\u001b[0m\u001b[0m\n\u001b[0;32m-> 3804\u001b[0;31m                 \u001b[0;32mraise\u001b[0m \u001b[0mKeyError\u001b[0m\u001b[0;34m(\u001b[0m\u001b[0mkey\u001b[0m\u001b[0;34m)\u001b[0m \u001b[0;32mfrom\u001b[0m \u001b[0merr\u001b[0m\u001b[0;34m\u001b[0m\u001b[0;34m\u001b[0m\u001b[0m\n\u001b[0m\u001b[1;32m   3805\u001b[0m             \u001b[0;32mexcept\u001b[0m \u001b[0mTypeError\u001b[0m\u001b[0;34m:\u001b[0m\u001b[0;34m\u001b[0m\u001b[0;34m\u001b[0m\u001b[0m\n\u001b[1;32m   3806\u001b[0m                 \u001b[0;31m# If we have a listlike key, _check_indexing_error will raise\u001b[0m\u001b[0;34m\u001b[0m\u001b[0;34m\u001b[0m\u001b[0m\n",
      "\u001b[0;31mKeyError\u001b[0m: 'Rainfall'"
     ]
    }
   ],
   "source": [
    "df[(df['Rainfall'] < 1000) & (df['Crop_type'] == \"coffee\")]"
   ]
  },
  {
   "cell_type": "code",
   "execution_count": null,
   "metadata": {
    "colab": {
     "base_uri": "https://localhost:8080/",
     "height": 132
    },
    "id": "7IIro6YLTcAj",
    "outputId": "cf40f382-1205-4f5a-c61a-7aded6d773fb"
   },
   "outputs": [
    {
     "data": {
      "application/vnd.google.colaboratory.intrinsic+json": {
       "summary": "{\n  \"name\": \"df\",\n  \"rows\": 1000,\n  \"fields\": [\n    {\n      \"column\": \"Field_ID\",\n      \"properties\": {\n        \"dtype\": \"number\",\n        \"std\": 1595,\n        \"min\": 1,\n        \"max\": 5632,\n        \"num_unique_values\": 1000,\n        \"samples\": [\n          182,\n          2111,\n          4820\n        ],\n        \"semantic_type\": \"\",\n        \"description\": \"\"\n      }\n    },\n    {\n      \"column\": \"Elevation\",\n      \"properties\": {\n        \"dtype\": \"number\",\n        \"std\": 179.09854577925242,\n        \"min\": 35.910797,\n        \"max\": 1003.9437,\n        \"num_unique_values\": 999,\n        \"samples\": [\n          595.1161,\n          657.79865,\n          795.66144\n        ],\n        \"semantic_type\": \"\",\n        \"description\": \"\"\n      }\n    },\n    {\n      \"column\": \"Rainfall\",\n      \"properties\": {\n        \"dtype\": \"number\",\n        \"std\": 497.7946994984567,\n        \"min\": 110.1,\n        \"max\": 2408.5,\n        \"num_unique_values\": 976,\n        \"samples\": [\n          437.9,\n          2089.6,\n          1786.7\n        ],\n        \"semantic_type\": \"\",\n        \"description\": \"\"\n      }\n    },\n    {\n      \"column\": \"Min_temperature_C\",\n      \"properties\": {\n        \"dtype\": \"number\",\n        \"std\": 1.5681174006375231,\n        \"min\": -9.7,\n        \"max\": -1.1999999999999993,\n        \"num_unique_values\": 78,\n        \"samples\": [\n          -2.1,\n          -5.4,\n          -3.6\n        ],\n        \"semantic_type\": \"\",\n        \"description\": \"\"\n      }\n    },\n    {\n      \"column\": \"Max_temperature_C\",\n      \"properties\": {\n        \"dtype\": \"number\",\n        \"std\": 1.9222502141724125,\n        \"min\": 25.1,\n        \"max\": 37.3,\n        \"num_unique_values\": 100,\n        \"samples\": [\n          27.3,\n          30.6,\n          32.3\n        ],\n        \"semantic_type\": \"\",\n        \"description\": \"\"\n      }\n    },\n    {\n      \"column\": \"pH\",\n      \"properties\": {\n        \"dtype\": \"number\",\n        \"std\": 0.8021542155343988,\n        \"min\": 3.701837695247213,\n        \"max\": 7.484682522648175,\n        \"num_unique_values\": 1000,\n        \"samples\": [\n          5.880206726609568,\n          5.690477616164524,\n          6.418722828008496\n        ],\n        \"semantic_type\": \"\",\n        \"description\": \"\"\n      }\n    },\n    {\n      \"column\": \"Pollution_level\",\n      \"properties\": {\n        \"dtype\": \"number\",\n        \"std\": 0.22886646030602034,\n        \"min\": 5.3974477012003e-10,\n        \"max\": 0.9954133959472448,\n        \"num_unique_values\": 1000,\n        \"samples\": [\n          9.425088998298988e-05,\n          0.0002043991446461,\n          0.04844470139404\n        ],\n        \"semantic_type\": \"\",\n        \"description\": \"\"\n      }\n    },\n    {\n      \"column\": \"Plot_size\",\n      \"properties\": {\n        \"dtype\": \"number\",\n        \"std\": 3.4590361621658667,\n        \"min\": 0.5,\n        \"max\": 15.0,\n        \"num_unique_values\": 134,\n        \"samples\": [\n          12.8,\n          12.2,\n          7.5\n        ],\n        \"semantic_type\": \"\",\n        \"description\": \"\"\n      }\n    },\n    {\n      \"column\": \"Annual_yield\",\n      \"properties\": {\n        \"dtype\": \"number\",\n        \"std\": 1.9266937481456616,\n        \"min\": 0.1748574333801564,\n        \"max\": 12.695223852226984,\n        \"num_unique_values\": 1000,\n        \"samples\": [\n          4.2235074940350525,\n          0.8042398298079456,\n          2.0284309736238217\n        ],\n        \"semantic_type\": \"\",\n        \"description\": \"\"\n      }\n    },\n    {\n      \"column\": \"Crop_type\",\n      \"properties\": {\n        \"dtype\": \"category\",\n        \"num_unique_values\": 8,\n        \"samples\": [\n          \"potato\",\n          \"maize\",\n          \"coffee\"\n        ],\n        \"semantic_type\": \"\",\n        \"description\": \"\"\n      }\n    }\n  ]\n}",
       "type": "dataframe",
       "variable_name": "df"
      },
      "text/html": [
       "\n",
       "  <div id=\"df-168ca90e-c355-4b0d-803a-977216896b60\" class=\"colab-df-container\">\n",
       "    <div>\n",
       "<style scoped>\n",
       "    .dataframe tbody tr th:only-of-type {\n",
       "        vertical-align: middle;\n",
       "    }\n",
       "\n",
       "    .dataframe tbody tr th {\n",
       "        vertical-align: top;\n",
       "    }\n",
       "\n",
       "    .dataframe thead th {\n",
       "        text-align: right;\n",
       "    }\n",
       "</style>\n",
       "<table border=\"1\" class=\"dataframe\">\n",
       "  <thead>\n",
       "    <tr style=\"text-align: right;\">\n",
       "      <th></th>\n",
       "      <th>Field_ID</th>\n",
       "      <th>Elevation</th>\n",
       "      <th>Rainfall</th>\n",
       "      <th>Min_temperature_C</th>\n",
       "      <th>Max_temperature_C</th>\n",
       "      <th>pH</th>\n",
       "      <th>Pollution_level</th>\n",
       "      <th>Plot_size</th>\n",
       "      <th>Annual_yield</th>\n",
       "      <th>Crop_type</th>\n",
       "    </tr>\n",
       "  </thead>\n",
       "  <tbody>\n",
       "    <tr>\n",
       "      <th>0</th>\n",
       "      <td>1162</td>\n",
       "      <td>494.95615</td>\n",
       "      <td>1507.6</td>\n",
       "      <td>-5.4</td>\n",
       "      <td>31.0</td>\n",
       "      <td>6.859436</td>\n",
       "      <td>0.007034</td>\n",
       "      <td>3.6</td>\n",
       "      <td>1.617421</td>\n",
       "      <td>coffee</td>\n",
       "    </tr>\n",
       "    <tr>\n",
       "      <th>1</th>\n",
       "      <td>5108</td>\n",
       "      <td>663.73390</td>\n",
       "      <td>581.0</td>\n",
       "      <td>-4.7</td>\n",
       "      <td>30.9</td>\n",
       "      <td>5.603219</td>\n",
       "      <td>0.289643</td>\n",
       "      <td>4.2</td>\n",
       "      <td>2.532497</td>\n",
       "      <td>potato</td>\n",
       "    </tr>\n",
       "  </tbody>\n",
       "</table>\n",
       "</div>\n",
       "    <div class=\"colab-df-buttons\">\n",
       "\n",
       "  <div class=\"colab-df-container\">\n",
       "    <button class=\"colab-df-convert\" onclick=\"convertToInteractive('df-168ca90e-c355-4b0d-803a-977216896b60')\"\n",
       "            title=\"Convert this dataframe to an interactive table.\"\n",
       "            style=\"display:none;\">\n",
       "\n",
       "  <svg xmlns=\"http://www.w3.org/2000/svg\" height=\"24px\" viewBox=\"0 -960 960 960\">\n",
       "    <path d=\"M120-120v-720h720v720H120Zm60-500h600v-160H180v160Zm220 220h160v-160H400v160Zm0 220h160v-160H400v160ZM180-400h160v-160H180v160Zm440 0h160v-160H620v160ZM180-180h160v-160H180v160Zm440 0h160v-160H620v160Z\"/>\n",
       "  </svg>\n",
       "    </button>\n",
       "\n",
       "  <style>\n",
       "    .colab-df-container {\n",
       "      display:flex;\n",
       "      gap: 12px;\n",
       "    }\n",
       "\n",
       "    .colab-df-convert {\n",
       "      background-color: #E8F0FE;\n",
       "      border: none;\n",
       "      border-radius: 50%;\n",
       "      cursor: pointer;\n",
       "      display: none;\n",
       "      fill: #1967D2;\n",
       "      height: 32px;\n",
       "      padding: 0 0 0 0;\n",
       "      width: 32px;\n",
       "    }\n",
       "\n",
       "    .colab-df-convert:hover {\n",
       "      background-color: #E2EBFA;\n",
       "      box-shadow: 0px 1px 2px rgba(60, 64, 67, 0.3), 0px 1px 3px 1px rgba(60, 64, 67, 0.15);\n",
       "      fill: #174EA6;\n",
       "    }\n",
       "\n",
       "    .colab-df-buttons div {\n",
       "      margin-bottom: 4px;\n",
       "    }\n",
       "\n",
       "    [theme=dark] .colab-df-convert {\n",
       "      background-color: #3B4455;\n",
       "      fill: #D2E3FC;\n",
       "    }\n",
       "\n",
       "    [theme=dark] .colab-df-convert:hover {\n",
       "      background-color: #434B5C;\n",
       "      box-shadow: 0px 1px 3px 1px rgba(0, 0, 0, 0.15);\n",
       "      filter: drop-shadow(0px 1px 2px rgba(0, 0, 0, 0.3));\n",
       "      fill: #FFFFFF;\n",
       "    }\n",
       "  </style>\n",
       "\n",
       "    <script>\n",
       "      const buttonEl =\n",
       "        document.querySelector('#df-168ca90e-c355-4b0d-803a-977216896b60 button.colab-df-convert');\n",
       "      buttonEl.style.display =\n",
       "        google.colab.kernel.accessAllowed ? 'block' : 'none';\n",
       "\n",
       "      async function convertToInteractive(key) {\n",
       "        const element = document.querySelector('#df-168ca90e-c355-4b0d-803a-977216896b60');\n",
       "        const dataTable =\n",
       "          await google.colab.kernel.invokeFunction('convertToInteractive',\n",
       "                                                    [key], {});\n",
       "        if (!dataTable) return;\n",
       "\n",
       "        const docLinkHtml = 'Like what you see? Visit the ' +\n",
       "          '<a target=\"_blank\" href=https://colab.research.google.com/notebooks/data_table.ipynb>data table notebook</a>'\n",
       "          + ' to learn more about interactive tables.';\n",
       "        element.innerHTML = '';\n",
       "        dataTable['output_type'] = 'display_data';\n",
       "        await google.colab.output.renderOutput(dataTable, element);\n",
       "        const docLink = document.createElement('div');\n",
       "        docLink.innerHTML = docLinkHtml;\n",
       "        element.appendChild(docLink);\n",
       "      }\n",
       "    </script>\n",
       "  </div>\n",
       "\n",
       "\n",
       "<div id=\"df-57836718-c61c-4fed-a85e-b627f9db1606\">\n",
       "  <button class=\"colab-df-quickchart\" onclick=\"quickchart('df-57836718-c61c-4fed-a85e-b627f9db1606')\"\n",
       "            title=\"Suggest charts\"\n",
       "            style=\"display:none;\">\n",
       "\n",
       "<svg xmlns=\"http://www.w3.org/2000/svg\" height=\"24px\"viewBox=\"0 0 24 24\"\n",
       "     width=\"24px\">\n",
       "    <g>\n",
       "        <path d=\"M19 3H5c-1.1 0-2 .9-2 2v14c0 1.1.9 2 2 2h14c1.1 0 2-.9 2-2V5c0-1.1-.9-2-2-2zM9 17H7v-7h2v7zm4 0h-2V7h2v10zm4 0h-2v-4h2v4z\"/>\n",
       "    </g>\n",
       "</svg>\n",
       "  </button>\n",
       "\n",
       "<style>\n",
       "  .colab-df-quickchart {\n",
       "      --bg-color: #E8F0FE;\n",
       "      --fill-color: #1967D2;\n",
       "      --hover-bg-color: #E2EBFA;\n",
       "      --hover-fill-color: #174EA6;\n",
       "      --disabled-fill-color: #AAA;\n",
       "      --disabled-bg-color: #DDD;\n",
       "  }\n",
       "\n",
       "  [theme=dark] .colab-df-quickchart {\n",
       "      --bg-color: #3B4455;\n",
       "      --fill-color: #D2E3FC;\n",
       "      --hover-bg-color: #434B5C;\n",
       "      --hover-fill-color: #FFFFFF;\n",
       "      --disabled-bg-color: #3B4455;\n",
       "      --disabled-fill-color: #666;\n",
       "  }\n",
       "\n",
       "  .colab-df-quickchart {\n",
       "    background-color: var(--bg-color);\n",
       "    border: none;\n",
       "    border-radius: 50%;\n",
       "    cursor: pointer;\n",
       "    display: none;\n",
       "    fill: var(--fill-color);\n",
       "    height: 32px;\n",
       "    padding: 0;\n",
       "    width: 32px;\n",
       "  }\n",
       "\n",
       "  .colab-df-quickchart:hover {\n",
       "    background-color: var(--hover-bg-color);\n",
       "    box-shadow: 0 1px 2px rgba(60, 64, 67, 0.3), 0 1px 3px 1px rgba(60, 64, 67, 0.15);\n",
       "    fill: var(--button-hover-fill-color);\n",
       "  }\n",
       "\n",
       "  .colab-df-quickchart-complete:disabled,\n",
       "  .colab-df-quickchart-complete:disabled:hover {\n",
       "    background-color: var(--disabled-bg-color);\n",
       "    fill: var(--disabled-fill-color);\n",
       "    box-shadow: none;\n",
       "  }\n",
       "\n",
       "  .colab-df-spinner {\n",
       "    border: 2px solid var(--fill-color);\n",
       "    border-color: transparent;\n",
       "    border-bottom-color: var(--fill-color);\n",
       "    animation:\n",
       "      spin 1s steps(1) infinite;\n",
       "  }\n",
       "\n",
       "  @keyframes spin {\n",
       "    0% {\n",
       "      border-color: transparent;\n",
       "      border-bottom-color: var(--fill-color);\n",
       "      border-left-color: var(--fill-color);\n",
       "    }\n",
       "    20% {\n",
       "      border-color: transparent;\n",
       "      border-left-color: var(--fill-color);\n",
       "      border-top-color: var(--fill-color);\n",
       "    }\n",
       "    30% {\n",
       "      border-color: transparent;\n",
       "      border-left-color: var(--fill-color);\n",
       "      border-top-color: var(--fill-color);\n",
       "      border-right-color: var(--fill-color);\n",
       "    }\n",
       "    40% {\n",
       "      border-color: transparent;\n",
       "      border-right-color: var(--fill-color);\n",
       "      border-top-color: var(--fill-color);\n",
       "    }\n",
       "    60% {\n",
       "      border-color: transparent;\n",
       "      border-right-color: var(--fill-color);\n",
       "    }\n",
       "    80% {\n",
       "      border-color: transparent;\n",
       "      border-right-color: var(--fill-color);\n",
       "      border-bottom-color: var(--fill-color);\n",
       "    }\n",
       "    90% {\n",
       "      border-color: transparent;\n",
       "      border-bottom-color: var(--fill-color);\n",
       "    }\n",
       "  }\n",
       "</style>\n",
       "\n",
       "  <script>\n",
       "    async function quickchart(key) {\n",
       "      const quickchartButtonEl =\n",
       "        document.querySelector('#' + key + ' button');\n",
       "      quickchartButtonEl.disabled = true;  // To prevent multiple clicks.\n",
       "      quickchartButtonEl.classList.add('colab-df-spinner');\n",
       "      try {\n",
       "        const charts = await google.colab.kernel.invokeFunction(\n",
       "            'suggestCharts', [key], {});\n",
       "      } catch (error) {\n",
       "        console.error('Error during call to suggestCharts:', error);\n",
       "      }\n",
       "      quickchartButtonEl.classList.remove('colab-df-spinner');\n",
       "      quickchartButtonEl.classList.add('colab-df-quickchart-complete');\n",
       "    }\n",
       "    (() => {\n",
       "      let quickchartButtonEl =\n",
       "        document.querySelector('#df-57836718-c61c-4fed-a85e-b627f9db1606 button');\n",
       "      quickchartButtonEl.style.display =\n",
       "        google.colab.kernel.accessAllowed ? 'block' : 'none';\n",
       "    })();\n",
       "  </script>\n",
       "</div>\n",
       "    </div>\n",
       "  </div>\n"
      ],
      "text/plain": [
       "   Field_ID  Elevation  Rainfall  Min_temperature_C  Max_temperature_C  \\\n",
       "0      1162  494.95615    1507.6               -5.4               31.0   \n",
       "1      5108  663.73390     581.0               -4.7               30.9   \n",
       "\n",
       "         pH  Pollution_level  Plot_size  Annual_yield Crop_type  \n",
       "0  6.859436         0.007034        3.6      1.617421    coffee  \n",
       "1  5.603219         0.289643        4.2      2.532497    potato  "
      ]
     },
     "execution_count": 8,
     "metadata": {},
     "output_type": "execute_result"
    }
   ],
   "source": [
    "df.head(2)"
   ]
  },
  {
   "cell_type": "code",
   "execution_count": null,
   "metadata": {
    "colab": {
     "base_uri": "https://localhost:8080/"
    },
    "id": "0SRgZSihTGuM",
    "outputId": "b6fba1f8-71c9-4673-f589-ae911aa4cf03"
   },
   "outputs": [
    {
     "data": {
      "text/plain": [
       "Index(['Field_ID', 'Elevation', 'Rainfall', 'Min_temperature_C',\n",
       "       'Max_temperature_C', 'pH', 'Pollution_level', 'Plot_size',\n",
       "       'Annual_yield', 'Crop_type'],\n",
       "      dtype='object')"
      ]
     },
     "execution_count": 9,
     "metadata": {},
     "output_type": "execute_result"
    }
   ],
   "source": [
    "df.columns"
   ]
  },
  {
   "cell_type": "code",
   "execution_count": null,
   "metadata": {
    "colab": {
     "base_uri": "https://localhost:8080/"
    },
    "id": "WNP7n3oORcXL",
    "outputId": "daa0aa8a-a423-400b-c0d5-2f42efb8de1d"
   },
   "outputs": [
    {
     "name": "stdout",
     "output_type": "stream",
     "text": [
      "Crop_type\n",
      "banana     1714.556311\n",
      "cassava    1267.440426\n",
      "coffee     1503.530303\n",
      "maize       697.365854\n",
      "potato      642.878082\n",
      "rice       1649.493750\n",
      "tea        1537.594891\n",
      "wheat      1035.681967\n",
      "Name: Rainfall, dtype: float64\n"
     ]
    }
   ],
   "source": [
    "avg_cal = df.groupby(\"Crop_type\")['Rainfall'].mean()\n",
    "print(avg_cal)"
   ]
  },
  {
   "cell_type": "code",
   "execution_count": null,
   "metadata": {
    "id": "XNEVScSPSZS-"
   },
   "outputs": [],
   "source": [
    "before = len(df)"
   ]
  },
  {
   "cell_type": "code",
   "execution_count": null,
   "metadata": {
    "id": "aFswBEw3TNwr"
   },
   "outputs": [],
   "source": [
    "after = len(df[df['Crop_type'] == \"coffee\"])"
   ]
  },
  {
   "cell_type": "code",
   "execution_count": null,
   "metadata": {
    "colab": {
     "base_uri": "https://localhost:8080/"
    },
    "id": "aoKM3EBDUmmR",
    "outputId": "7dd9d20b-5bd1-4216-dc46-aa075146ff80"
   },
   "outputs": [
    {
     "data": {
      "text/plain": [
       "901"
      ]
     },
     "execution_count": 27,
     "metadata": {},
     "output_type": "execute_result"
    }
   ],
   "source": [
    "ans = before - after\n",
    "ans"
   ]
  },
  {
   "cell_type": "code",
   "execution_count": null,
   "metadata": {
    "colab": {
     "base_uri": "https://localhost:8080/"
    },
    "id": "LoTHVKH8U0fj",
    "outputId": "675079fb-da7b-42d9-a56c-eb685ad0e26f"
   },
   "outputs": [
    {
     "name": "stdout",
     "output_type": "stream",
     "text": [
      "T-statistic: -0.8367\n",
      "P-value: 0.4271\n"
     ]
    }
   ],
   "source": [
    "import pandas as pd\n",
    "from scipy import stats\n",
    "\n",
    "# Sample data (replace with your actual data)\n",
    "data = {'Group A': [2, 5, 7, 4, 8], 'Group B': [3, 6, 9, 5, 10]}\n",
    "df = pd.DataFrame(data)\n",
    "\n",
    "\n",
    "# Example for independent samples t-test:\n",
    "t_statistic, p_value = stats.ttest_ind(df['Group A'], df['Group B'])\n",
    "\n",
    "print(f\"T-statistic: {t_statistic:.4f}\")\n",
    "print(f\"P-value: {p_value:.4f}\")"
   ]
  },
  {
   "cell_type": "code",
   "execution_count": null,
   "metadata": {
    "colab": {
     "base_uri": "https://localhost:8080/"
    },
    "id": "gyVyJYzCVdra",
    "outputId": "f4f29d61-ffb2-4feb-fcf1-e444dd639366"
   },
   "outputs": [
    {
     "name": "stdout",
     "output_type": "stream",
     "text": [
      "        Group A    Group B\n",
      "count  5.000000   5.000000\n",
      "mean   5.200000   6.600000\n",
      "std    2.387467   2.880972\n",
      "min    2.000000   3.000000\n",
      "25%    4.000000   5.000000\n",
      "50%    5.000000   6.000000\n",
      "75%    7.000000   9.000000\n",
      "max    8.000000  10.000000\n"
     ]
    }
   ],
   "source": [
    "print(df.describe())\n"
   ]
  },
  {
   "cell_type": "code",
   "execution_count": null,
   "metadata": {
    "colab": {
     "base_uri": "https://localhost:8080/",
     "height": 563
    },
    "id": "wHeSwWdSVSdi",
    "outputId": "6721e50b-08e9-4855-f8c7-db6fbc20e035"
   },
   "outputs": [
    {
     "name": "stderr",
     "output_type": "stream",
     "text": [
      "<ipython-input-34-3a6630ba2fc5>:3: DeprecationWarning: Please use `gaussian_kde` from the `scipy.stats` namespace, the `scipy.stats.kde` namespace is deprecated.\n",
      "  kde_a = stats.kde.gaussian_kde(df['Group A'])\n",
      "<ipython-input-34-3a6630ba2fc5>:4: DeprecationWarning: Please use `gaussian_kde` from the `scipy.stats` namespace, the `scipy.stats.kde` namespace is deprecated.\n",
      "  kde_b = stats.kde.gaussian_kde(df['Group B'])\n"
     ]
    },
    {
     "data": {
      "image/png": "[encoded data removed]",
      "text/plain": [
       "<Figure size 640x480 with 1 Axes>"
      ]
     },
     "metadata": {},
     "output_type": "display_data"
    }
   ],
   "source": [
    "import matplotlib.pyplot as plt\n",
    "# Kernel density estimation for each group\n",
    "kde_a = stats.kde.gaussian_kde(df['Group A'])\n",
    "kde_b = stats.kde.gaussian_kde(df['Group B'])\n",
    "\n",
    "# Generate x-axis values\n",
    "x = np.linspace(df['Group A'].min(), df['Group B'].max(), 100)\n",
    "\n",
    "# Calculate KDE values\n",
    "density_a = kde_a(x)\n",
    "density_b = kde_b(x)\n",
    "\n",
    "# Plot the KDEs\n",
    "plt.plot(x, density_a, label='Group A')\n",
    "plt.plot(x, density_b, label='Group B')\n",
    "\n",
    "# Add labels and title\n",
    "plt.xlabel('Value')\n",
    "plt.ylabel('Density')\n",
    "plt.title('Distribution of Group A vs. Group B (KDE)')\n",
    "\n",
    "# Add legend\n",
    "plt.legend()\n",
    "\n",
    "# Show the plot\n",
    "plt.grid(True)\n",
    "plt.show()\n"
   ]
  },
  {
   "cell_type": "code",
   "execution_count": null,
   "metadata": {
    "colab": {
     "base_uri": "https://localhost:8080/",
     "height": 564
    },
    "id": "gFlzXDOuVVmV",
    "outputId": "154eb402-1626-438d-9463-e7b4128fe73c"
   },
   "outputs": [
    {
     "data": {
      "image/png": "[encoded data removed]",
      "text/plain": [
       "<Figure size 800x600 with 1 Axes>"
      ]
     },
     "metadata": {},
     "output_type": "display_data"
    }
   ],
   "source": [
    "# Create boxplots\n",
    "plt.figure(figsize=(8, 6))\n",
    "plt.boxplot(df[['Group A', 'Group B']], labels=['Group A', 'Group B'])\n",
    "\n",
    "# Add labels and title\n",
    "plt.xlabel('Group')\n",
    "plt.ylabel('Value')\n",
    "plt.title('Distribution of Group A vs. Group B (Boxplots)')\n",
    "\n",
    "# Show the plot\n",
    "plt.show()\n"
   ]
  },
  {
   "cell_type": "code",
   "execution_count": null,
   "metadata": {
    "id": "M_GZIbHQWFc9"
   },
   "outputs": [],
   "source": []
  }
 ],
 "metadata": {
  "colab": {
   "provenance": []
  },
  "kernelspec": {
   "display_name": "Python 3 (ipykernel)",
   "language": "python",
   "name": "python3"
  },
  "language_info": {
   "codemirror_mode": {
    "name": "ipython",
    "version": 3
   },
   "file_extension": ".py",
   "mimetype": "text/x-python",
   "name": "python",
   "nbconvert_exporter": "python",
   "pygments_lexer": "ipython3",
   "version": "3.12.1"
  }
 },
 "nbformat": 4,
 "nbformat_minor": 4
}
