{
 "cells": [
  {
   "cell_type": "markdown",
   "metadata": {
    "id": "Ee-v8I_P8rfp"
   },
   "source": [
    "<div align=\"center\" style=\" font-size: 80%; text-align: center; margin: 0 auto\">\n",
    "<img src=\"https://raw.githubusercontent.com/Explore-AI/Pictures/master/Python-Notebook-Banners/Exercise.png\"  style=\"display: block; margin-left: auto; margin-right: auto;\";/>\n",
    "</div>\n",
    "\n",
    "# Exercise: Hypothesis testing\n",
    "© ExploreAI Academy\n",
    "\n",
    "In this exercise, we will use hypothesis testing to make an inference about a population parameter based on sample data."
   ]
  },
  {
   "cell_type": "markdown",
   "metadata": {
    "id": "ITqrvAqq8xSC"
   },
   "source": [
    "## Learning objectives\n",
    "\n",
    "By the end of this train, you should be able to:\n",
    "* Calculate a test statistic.\n",
    "* Determine critical values based on a chosen significance level.\n",
    "* Make a decision on whether to reject the null hypothesis."
   ]
  },
  {
   "cell_type": "markdown",
   "metadata": {},
   "source": [
    "## Exercises\n",
    "\n",
    "Given a population where the average weight of a species of butterfly is believed to be 150 mg with a standard deviation of 20 mg, you collect a sample of 30 butterflies and find their average weight to be 145 mg. Use a 5% significance level to test the hypothesis that the population mean weight is 150 mg against the alternative hypothesis that it is not 150 mg (determining whether the observed average weight of the sample of butterflies significantly deviates from the presumed population average weight).\n",
    "\n",
    "In the exercises below, we will develop different functions, each responsible for a specific part of the hypothesis-testing process."
   ]
  },
  {
   "cell_type": "markdown",
   "metadata": {},
   "source": [
    "### Import libraries and dataset"
   ]
  },
  {
   "cell_type": "code",
   "execution_count": 1,
   "metadata": {},
   "outputs": [],
   "source": [
    "from scipy.stats import norm"
   ]
  },
  {
   "cell_type": "markdown",
   "metadata": {},
   "source": [
    "### Exercise 1\n",
    "\n",
    "State the null and alternative hypotheses."
   ]
  },
  {
   "cell_type": "markdown",
   "metadata": {},
   "source": [
    "# Your solution here...\n",
    "\n",
    "Null hypothesis H0 : the population mean weight is 150 mg, i.e., μ = 150 <br>\n",
    "Alternative hypothesis Ha : the poppulation mean is not 150 mg, i.e., μ != 150"
   ]
  },
  {
   "cell_type": "markdown",
   "metadata": {},
   "source": [
    "### Exercise 2\n",
    "\n",
    "Write a function that calculates the test statistic (z-value) based on the sample mean, population mean, population standard deviation, and sample size.\n",
    "\n",
    "The test statistic can be calculated using the formula for a one-sample z-test:\n",
    "\n",
    "> z = (x̄ - μ) / (σ / √n)\n",
    "\n",
    "where:\n",
    "\n",
    "- `x̄` is the sample mean.\n",
    "- `μ` is the population mean under the null hypothesis.\n",
    "- `σ` is the population standard deviation.\n",
    "- `n` is the sample size."
   ]
  },
  {
   "cell_type": "code",
   "execution_count": 21,
   "metadata": {},
   "outputs": [],
   "source": [
    "# Your solution here...\n",
    "from math import sqrt\n",
    "def calculate_z_value(sample_mean, population_mean, standard_deviation, sample_size):\n",
    "    #calculating thje z-value\n",
    "    z_value = (sample_mean - population_mean) / (standard_deviation / sqrt(sample_size))\n",
    "\n",
    "    return z_value"
   ]
  },
  {
   "cell_type": "markdown",
   "metadata": {},
   "source": [
    "### Exercise 3\n",
    "\n",
    "Write a function that returns the lower and upper critical z-values for a two-sided test at a specific significance level."
   ]
  },
  {
   "cell_type": "code",
   "execution_count": 28,
   "metadata": {},
   "outputs": [],
   "source": [
    "# Your solution here...\n",
    "def critical_z_values(significance_level):\n",
    "    # lower value\n",
    "    lower_z = norm.ppf(significance_level)\n",
    "    # upper value\n",
    "    upper_z = norm.ppf(1 - significance_level)\n",
    "\n",
    "    return lower_z, upper_z"
   ]
  },
  {
   "cell_type": "markdown",
   "metadata": {},
   "source": [
    "### Exercise 4\n",
    "\n",
    "Write a function which makes a decision on whether to reject or not reject the null hypothesis based on the test statistic and critical values."
   ]
  },
  {
   "cell_type": "code",
   "execution_count": 29,
   "metadata": {},
   "outputs": [],
   "source": [
    "# Your solution here...\n",
    "def decide_null_hypothesis(z_value, lower_z, upper_z):\n",
    "    if z_value < lower_z or z_value > upper_z :\n",
    "        return \"Reject the null hypothesis\"\n",
    "    else :\n",
    "        return \"Fail to reject the null hypothesis\""
   ]
  },
  {
   "cell_type": "markdown",
   "metadata": {},
   "source": [
    "### Exercise 5\n",
    "\n",
    "Run the following code that puts together all the functions we have created in the previous exercises to perform the hypothesis test for the given butterfly population data.\n",
    "\n",
    "> What does our decision mean in the context of the butterfly population?"
   ]
  },
  {
   "cell_type": "code",
   "execution_count": 30,
   "metadata": {},
   "outputs": [
    {
     "name": "stdout",
     "output_type": "stream",
     "text": [
      "Test Statistic (z-value): -1.3693063937629153\n",
      "Critical z-value (lower): -1.6448536269514729, Upper: 1.6448536269514722\n",
      "Decision: Fail to reject the null hypothesis\n"
     ]
    }
   ],
   "source": [
    "# Given data\n",
    "sample_mean = 145  # sample mean weight in mg\n",
    "population_mean = 150  # hypothesised population mean weight in mg\n",
    "population_std = 20  # population standard deviation in mg\n",
    "n = 30  # sample size\n",
    "alpha = 0.05  # significance level\n",
    "\n",
    "# Calculate the z-value\n",
    "z = calculate_z_value(sample_mean, population_mean, population_std, n)\n",
    "\n",
    "# Get critical z-values\n",
    "lower_z, upper_z = critical_z_values(alpha)\n",
    "\n",
    "# Make a decision\n",
    "decision = decide_null_hypothesis(z, lower_z, upper_z)\n",
    "\n",
    "print(f\"Test Statistic (z-value): {z}\")\n",
    "print(f\"Critical z-value (lower): {lower_z}, Upper: {upper_z}\")\n",
    "print(f\"Decision: {decision}\")"
   ]
  },
  {
   "cell_type": "code",
   "execution_count": 33,
   "metadata": {},
   "outputs": [
    {
     "data": {
      "image/png": "[encoded data removed]",
      "text/plain": [
       "<Figure size 1000x600 with 1 Axes>"
      ]
     },
     "metadata": {},
     "output_type": "display_data"
    }
   ],
   "source": [
    "# plot\n",
    "import matplotlib.pyplot as plt \n",
    "plt.rcParams[\"figure.figsize\"] = (10,6)\n",
    "#plt.plot(x,f,'k')\n",
    "plt.axvline(x = z, color = 'b', linestyle = '--', label = 'Z_value')\n",
    "plt.axvline(x = lower_z, color = 'r', linestyle = '--', label = 'Lower_Z')\n",
    "plt.axvline(x = upper_z, color = 'r', linestyle = '--', label = 'Upper_Z')\n",
    "plt.legend()\n",
    "plt.show()"
   ]
  },
  {
   "cell_type": "markdown",
   "metadata": {},
   "source": [
    "## Solutions"
   ]
  },
  {
   "cell_type": "markdown",
   "metadata": {},
   "source": [
    "### Exercise 1"
   ]
  },
  {
   "cell_type": "markdown",
   "metadata": {},
   "source": [
    "- **Null hypothesis (H0):** The population mean weight of the species of butterfly is 150 mg, i.e. μ = 150 mg.\n",
    "\n",
    "- **Alternative hypothesis (HA):** The population mean weight of the species of butterfly is not 150 mg, i.e. μ ≠ 150 mg."
   ]
  },
  {
   "cell_type": "markdown",
   "metadata": {},
   "source": [
    "### Exercise 2"
   ]
  },
  {
   "cell_type": "code",
   "execution_count": null,
   "metadata": {},
   "outputs": [],
   "source": [
    "def calculate_z_value(sample_mean, population_mean, population_std, sample_size):\n",
    "    \n",
    "    # Calculate the z-value using the formula for a one-sample z-test\n",
    "    z_value = (sample_mean - population_mean) / (population_std / (sample_size ** 0.5))\n",
    "    \n",
    "    return z_value"
   ]
  },
  {
   "cell_type": "markdown",
   "metadata": {},
   "source": [
    "The `calculate_z_value` function takes four parameters: `sample_mean`, `population_mean`, `population_std`, and `sample_size`. It uses these to calculate the **z_value** as per the formula provided above.\n",
    "\n",
    "The z-value, or z-score, is a test statistic that helps us evaluate the strength of the evidence against the null hypothesis. It determines how many standard deviations the sample mean is away from the population mean under the null hypothesis. "
   ]
  },
  {
   "cell_type": "markdown",
   "metadata": {},
   "source": [
    "### Exercise 3"
   ]
  },
  {
   "cell_type": "code",
   "execution_count": null,
   "metadata": {},
   "outputs": [],
   "source": [
    "def critical_z_values(significance_level):\n",
    "    \n",
    "    # Calculate the lower critical z-value.\n",
    "    lower_z = norm.ppf(significance_level / 2)\n",
    "    \n",
    "      # Calculate the upper critical z-value.\n",
    "    upper_z = norm.ppf(1 - significance_level / 2)\n",
    "    \n",
    "    return lower_z, upper_z"
   ]
  },
  {
   "cell_type": "markdown",
   "metadata": {},
   "source": [
    "The `critical_z_values` function takes the `significance_level` as a parameter which, using `norm.ppf` (percent point function), helps calculate:\n",
    "\n",
    "- `lower_z`: This is the lower critical z-value that cuts off the lower tail of the normal distribution, leaving an area of significance_level / 2 to the left.\n",
    "- `upper_z`: This is the upper critical z-value that cuts off the upper tail of the normal distribution, leaving an area of significance_level / 2 to the right.\n",
    "\n",
    "These critical values are used to determine the rejection region for a two-sided hypothesis test. "
   ]
  },
  {
   "cell_type": "markdown",
   "metadata": {},
   "source": [
    "### Exercise 4"
   ]
  },
  {
   "cell_type": "code",
   "execution_count": null,
   "metadata": {},
   "outputs": [],
   "source": [
    "def decide_null_hypothesis(z_value, lower_z, upper_z):\n",
    "    if z_value < lower_z or z_value > upper_z:\n",
    "        decision = \"Reject null hypothesis\"\n",
    "    else:\n",
    "        decision = \"Do not reject null hypothesis\"\n",
    "    return decision"
   ]
  },
  {
   "cell_type": "markdown",
   "metadata": {},
   "source": [
    "The `decide_null_hypothesis` function takes the parameters: `z_value`, `lower_z`, and `upper_z` calculated in the previous functions. \n",
    "\n",
    "We use them to make a decision regarding the null hypothesis in a two-sided hypothesis test:\n",
    "- If the test statistic (z-value) is less than the lower critical value or greater than the upper critical value, the decision is to \"Reject null hypothesis\".\n",
    "- Otherwise, if the z_value falls within the range defined by the lower and upper critical values, the decision is to \"Do not reject null hypothesis\"."
   ]
  },
  {
   "cell_type": "markdown",
   "metadata": {},
   "source": [
    "### Exercise 5"
   ]
  },
  {
   "cell_type": "code",
   "execution_count": null,
   "metadata": {},
   "outputs": [],
   "source": [
    "# Given data\n",
    "sample_mean = 145  # sample mean weight in mg\n",
    "population_mean = 150  # hypothesised population mean weight in mg\n",
    "population_std = 20  # population standard deviation in mg\n",
    "n = 30  # sample size\n",
    "alpha = 0.05  # significance level\n",
    "\n",
    "# Calculate the z-value\n",
    "z = calculate_z_value(sample_mean, population_mean, population_std, n)\n",
    "\n",
    "# Get critical z-values\n",
    "lower_z, upper_z = critical_z_values(alpha)\n",
    "\n",
    "# Make a decision\n",
    "decision = decide_null_hypothesis(z, lower_z, upper_z)\n",
    "\n",
    "print(f\"Test Statistic (z-value): {z}\")\n",
    "print(f\"Critical z-value (lower): {lower_z}, Upper: {upper_z}\")\n",
    "print(f\"Decision: {decision}\")"
   ]
  },
  {
   "cell_type": "markdown",
   "metadata": {},
   "source": [
    "Since the **z-value** of `-1.37` is within the **critical values** of `-1.96` and `+1.96`, we **do not reject the null hypothesis**.\n",
    "\n",
    "The decision to not reject the null hypothesis indicates that there isn't sufficient evidence at the 5% significance level to conclude that the population mean weight of the species of butterfly is different from 150 mg. This suggests that the observed sample mean weight of 145 mg can be attributed to sampling variability and does not provide strong evidence against the population mean being 150 mg, given the sample size and standard deviation specified."
   ]
  },
  {
   "cell_type": "markdown",
   "metadata": {},
   "source": [
    "<div align=\"center\" style=\" font-size: 80%; text-align: center; margin: 0 auto\">\n",
    "<img src=\"https://raw.githubusercontent.com/Explore-AI/Pictures/master/ExploreAI_logos/EAI_Blue_Dark.png\"  style=\"width:200px\";/>\n",
    "</div>"
   ]
  }
 ],
 "metadata": {
  "colab": {
   "authorship_tag": "ABX9TyPZFCZhaikX+N2/Bg7W6SY+",
   "collapsed_sections": [],
   "name": "Search_algorithms.ipynb",
   "provenance": [],
   "toc_visible": true
  },
  "interpreter": {
   "hash": "6b5ebbc2c6bde2831bc6c0426f75aca8137ccfc69d329557556ed73faee126ae"
  },
  "kernelspec": {
   "display_name": "Python 3 (ipykernel)",
   "language": "python",
   "name": "python3"
  },
  "language_info": {
   "codemirror_mode": {
    "name": "ipython",
    "version": 3
   },
   "file_extension": ".py",
   "mimetype": "text/x-python",
   "name": "python",
   "nbconvert_exporter": "python",
   "pygments_lexer": "ipython3",
   "version": "3.12.1"
  }
 },
 "nbformat": 4,
 "nbformat_minor": 4
}
