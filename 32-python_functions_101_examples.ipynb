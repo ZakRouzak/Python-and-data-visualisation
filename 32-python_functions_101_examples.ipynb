{
 "cells": [
  {
   "attachments": {},
   "cell_type": "markdown",
   "metadata": {},
   "source": [
    "![alt_text](https://github.com/Explore-AI/Pictures/blob/master/Python-Notebook-Banners/Examples.png?raw=true \"Example banner\")\n",
    "\n",
    "\n",
    "# Examples: Python functions 101\n",
    "© ExploreAI Academy\n",
    "\n",
    "\n",
    "In this train, we will learn how to create and utilise Python functions\\. We will also look at how to return values from a function to a variable and distinguish between the use of local and global variables.\n",
    "\n",
    "## Learning objectives\n",
    "\n",
    "By the end of this train, you should be able to:\n",
    "* Return a value from a function.\n",
    "* Return values from a function to a variable.\n",
    "* Create basic Python functions.\n",
    "* Distinguish between a local and global variable."
   ]
  },
  {
   "cell_type": "markdown",
   "metadata": {},
   "source": [
    "A function is a block of **organised**, **reusable** **code** that is used to perform an action. \n",
    "There are two basic types of functions we can work with: **built-in functions** and **user-defined functions**."
   ]
  },
  {
   "cell_type": "markdown",
   "metadata": {},
   "source": [
    "### Built-in functions"
   ]
  },
  {
   "attachments": {},
   "cell_type": "markdown",
   "metadata": {},
   "source": [
    "Python offers a variety of built-in functions that have been constructed on our behalf; which we can quickly and easily utilise.\n",
    "\n",
    "Follow the [link](https://docs.python.org/3/library/functions.html) to access a list of all the Python functions we have at our disposal.\n",
    "\n",
    "\n",
    "Built-in functions come with a set of allowances and constraints that must be obeyed in order for the function to perform properly. These rules are listed in what we call the `documentation` of the function. This is like the guideline for what the function is and how to use it. To access the documentation of a function, we can use Python's `help` utility. "
   ]
  },
  {
   "cell_type": "code",
   "execution_count": 1,
   "metadata": {},
   "outputs": [
    {
     "name": "stdout",
     "output_type": "stream",
     "text": [
      "\n",
      "Welcome to Python 3.11's help utility!\n",
      "\n",
      "If this is your first time using Python, you should definitely check out\n",
      "the tutorial on the internet at https://docs.python.org/3.11/tutorial/.\n",
      "\n",
      "Enter the name of any module, keyword, or topic to get help on writing\n",
      "Python programs and using Python modules.  To quit this help utility and\n",
      "return to the interpreter, just type \"quit\".\n",
      "\n",
      "To get a list of available modules, keywords, symbols, or topics, type\n",
      "\"modules\", \"keywords\", \"symbols\", or \"topics\".  Each module also comes\n",
      "with a one-line summary of what it does; to list the modules whose name\n",
      "or summary contain a given string such as \"spam\", type \"modules spam\".\n",
      "\n"
     ]
    },
    {
     "name": "stdin",
     "output_type": "stream",
     "text": [
      "help>  max\n"
     ]
    },
    {
     "name": "stdout",
     "output_type": "stream",
     "text": [
      "Help on built-in function max in module builtins:\n",
      "\n",
      "max(...)\n",
      "    max(iterable, *[, default=obj, key=func]) -> value\n",
      "    max(arg1, arg2, *args, *[, key=func]) -> value\n",
      "    \n",
      "    With a single iterable argument, return its biggest item. The\n",
      "    default keyword-only argument specifies an object to return if\n",
      "    the provided iterable is empty.\n",
      "    With two or more arguments, return the largest argument.\n",
      "\n"
     ]
    },
    {
     "name": "stdin",
     "output_type": "stream",
     "text": [
      "help>  def\n"
     ]
    },
    {
     "name": "stdout",
     "output_type": "stream",
     "text": [
      "Function definitions\n",
      "********************\n",
      "\n",
      "A function definition defines a user-defined function object (see\n",
      "section The standard type hierarchy):\n",
      "\n",
      "   funcdef                   ::= [decorators] \"def\" funcname \"(\" [parameter_list] \")\"\n",
      "               [\"->\" expression] \":\" suite\n",
      "   decorators                ::= decorator+\n",
      "   decorator                 ::= \"@\" assignment_expression NEWLINE\n",
      "   parameter_list            ::= defparameter (\",\" defparameter)* \",\" \"/\" [\",\" [parameter_list_no_posonly]]\n",
      "                        | parameter_list_no_posonly\n",
      "   parameter_list_no_posonly ::= defparameter (\",\" defparameter)* [\",\" [parameter_list_starargs]]\n",
      "                                 | parameter_list_starargs\n",
      "   parameter_list_starargs   ::= \"*\" [parameter] (\",\" defparameter)* [\",\" [\"**\" parameter [\",\"]]]\n",
      "                               | \"**\" parameter [\",\"]\n",
      "   parameter                 ::= identifier [\":\" expression]\n",
      "   defparameter              ::= parameter [\"=\" expression]\n",
      "   funcname                  ::= identifier\n",
      "\n",
      "A function definition is an executable statement.  Its execution binds\n",
      "the function name in the current local namespace to a function object\n",
      "(a wrapper around the executable code for the function).  This\n",
      "function object contains a reference to the current global namespace\n",
      "as the global namespace to be used when the function is called.\n",
      "\n",
      "The function definition does not execute the function body; this gets\n",
      "executed only when the function is called. [4]\n",
      "\n",
      "A function definition may be wrapped by one or more *decorator*\n",
      "expressions. Decorator expressions are evaluated when the function is\n",
      "defined, in the scope that contains the function definition.  The\n",
      "result must be a callable, which is invoked with the function object\n",
      "as the only argument. The returned value is bound to the function name\n",
      "instead of the function object.  Multiple decorators are applied in\n",
      "nested fashion. For example, the following code\n",
      "\n",
      "   @f1(arg)\n",
      "   @f2\n",
      "   def func(): pass\n",
      "\n",
      "is roughly equivalent to\n",
      "\n",
      "   def func(): pass\n",
      "   func = f1(arg)(f2(func))\n",
      "\n",
      "except that the original function is not temporarily bound to the name\n",
      "\"func\".\n",
      "\n",
      "Changed in version 3.9: Functions may be decorated with any valid\n",
      "\"assignment_expression\". Previously, the grammar was much more\n",
      "restrictive; see **PEP 614** for details.\n",
      "\n",
      "When one or more *parameters* have the form *parameter* \"=\"\n",
      "*expression*, the function is said to have “default parameter values.”\n",
      "For a parameter with a default value, the corresponding *argument* may\n",
      "be omitted from a call, in which case the parameter’s default value is\n",
      "substituted.  If a parameter has a default value, all following\n",
      "parameters up until the “\"*\"” must also have a default value — this is\n",
      "a syntactic restriction that is not expressed by the grammar.\n",
      "\n",
      "**Default parameter values are evaluated from left to right when the\n",
      "function definition is executed.** This means that the expression is\n",
      "evaluated once, when the function is defined, and that the same “pre-\n",
      "computed” value is used for each call.  This is especially important\n",
      "to understand when a default parameter value is a mutable object, such\n",
      "as a list or a dictionary: if the function modifies the object (e.g.\n",
      "by appending an item to a list), the default parameter value is in\n",
      "effect modified.  This is generally not what was intended.  A way\n",
      "around this is to use \"None\" as the default, and explicitly test for\n",
      "it in the body of the function, e.g.:\n",
      "\n",
      "   def whats_on_the_telly(penguin=None):\n",
      "       if penguin is None:\n",
      "           penguin = []\n",
      "       penguin.append(\"property of the zoo\")\n",
      "       return penguin\n",
      "\n",
      "Function call semantics are described in more detail in section Calls.\n",
      "A function call always assigns values to all parameters mentioned in\n",
      "the parameter list, either from positional arguments, from keyword\n",
      "arguments, or from default values.  If the form “\"*identifier\"” is\n",
      "present, it is initialized to a tuple receiving any excess positional\n",
      "parameters, defaulting to the empty tuple. If the form\n",
      "“\"**identifier\"” is present, it is initialized to a new ordered\n",
      "mapping receiving any excess keyword arguments, defaulting to a new\n",
      "empty mapping of the same type.  Parameters after “\"*\"” or\n",
      "“\"*identifier\"” are keyword-only parameters and may only be passed by\n",
      "keyword arguments.  Parameters before “\"/\"” are positional-only\n",
      "parameters and may only be passed by positional arguments.\n",
      "\n",
      "Changed in version 3.8: The \"/\" function parameter syntax may be used\n",
      "to indicate positional-only parameters. See **PEP 570** for details.\n",
      "\n",
      "Parameters may have an *annotation* of the form “\": expression\"”\n",
      "following the parameter name.  Any parameter may have an annotation,\n",
      "even those of the form \"*identifier\" or \"**identifier\".  Functions may\n",
      "have “return” annotation of the form “\"-> expression\"” after the\n",
      "parameter list.  These annotations can be any valid Python expression.\n",
      "The presence of annotations does not change the semantics of a\n",
      "function.  The annotation values are available as values of a\n",
      "dictionary keyed by the parameters’ names in the \"__annotations__\"\n",
      "attribute of the function object.  If the \"annotations\" import from\n",
      "\"__future__\" is used, annotations are preserved as strings at runtime\n",
      "which enables postponed evaluation.  Otherwise, they are evaluated\n",
      "when the function definition is executed.  In this case annotations\n",
      "may be evaluated in a different order than they appear in the source\n",
      "code.\n",
      "\n",
      "It is also possible to create anonymous functions (functions not bound\n",
      "to a name), for immediate use in expressions.  This uses lambda\n",
      "expressions, described in section Lambdas.  Note that the lambda\n",
      "expression is merely a shorthand for a simplified function definition;\n",
      "a function defined in a “\"def\"” statement can be passed around or\n",
      "assigned to another name just like a function defined by a lambda\n",
      "expression.  The “\"def\"” form is actually more powerful since it\n",
      "allows the execution of multiple statements and annotations.\n",
      "\n",
      "**Programmer’s note:** Functions are first-class objects.  A “\"def\"”\n",
      "statement executed inside a function definition defines a local\n",
      "function that can be returned or passed around.  Free variables used\n",
      "in the nested function can access the local variables of the function\n",
      "containing the def.  See section Naming and binding for details.\n",
      "\n",
      "See also:\n",
      "\n",
      "  **PEP 3107** - Function Annotations\n",
      "     The original specification for function annotations.\n",
      "\n",
      "  **PEP 484** - Type Hints\n",
      "     Definition of a standard meaning for annotations: type hints.\n",
      "\n",
      "  **PEP 526** - Syntax for Variable Annotations\n",
      "     Ability to type hint variable declarations, including class\n",
      "     variables and instance variables\n",
      "\n",
      "  **PEP 563** - Postponed Evaluation of Annotations\n",
      "     Support for forward references within annotations by preserving\n",
      "     annotations in a string form at runtime instead of eager\n",
      "     evaluation.\n",
      "\n"
     ]
    },
    {
     "name": "stdin",
     "output_type": "stream",
     "text": [
      "help>  exit\n"
     ]
    },
    {
     "ename": "ImportError",
     "evalue": "No Python documentation found for 'exit'.\nUse help() to get the interactive help utility.\nUse help(str) for help on the str class.",
     "output_type": "error",
     "traceback": [
      "\u001b[1;31m---------------------------------------------------------------------------\u001b[0m",
      "\u001b[1;31mImportError\u001b[0m                               Traceback (most recent call last)",
      "Cell \u001b[1;32mIn[1], line 2\u001b[0m\n\u001b[0;32m      1\u001b[0m \u001b[38;5;66;03m#Start a help utility session\u001b[39;00m\n\u001b[1;32m----> 2\u001b[0m \u001b[43mhelp\u001b[49m\u001b[43m(\u001b[49m\u001b[43m)\u001b[49m\n",
      "File \u001b[1;32m<frozen _sitebuiltins>:103\u001b[0m, in \u001b[0;36m__call__\u001b[1;34m(self, *args, **kwds)\u001b[0m\n",
      "File \u001b[1;32mC:\\Program Files\\Python311\\Lib\\pydoc.py:2007\u001b[0m, in \u001b[0;36mHelper.__call__\u001b[1;34m(self, request)\u001b[0m\n\u001b[0;32m   2005\u001b[0m         \u001b[38;5;28;01melse\u001b[39;00m:\n\u001b[0;32m   2006\u001b[0m             \u001b[38;5;28mself\u001b[39m\u001b[38;5;241m.\u001b[39mintro()\n\u001b[1;32m-> 2007\u001b[0m             \u001b[38;5;28;43mself\u001b[39;49m\u001b[38;5;241;43m.\u001b[39;49m\u001b[43minteract\u001b[49m\u001b[43m(\u001b[49m\u001b[43m)\u001b[49m\n\u001b[0;32m   2008\u001b[0m             \u001b[38;5;28mself\u001b[39m\u001b[38;5;241m.\u001b[39moutput\u001b[38;5;241m.\u001b[39mwrite(\u001b[38;5;124m'''\u001b[39m\n\u001b[0;32m   2009\u001b[0m \u001b[38;5;124mYou are now leaving help and returning to the Python interpreter.\u001b[39m\n\u001b[0;32m   2010\u001b[0m \u001b[38;5;124mIf you want to ask for help on a particular object directly from the\u001b[39m\n\u001b[0;32m   2011\u001b[0m \u001b[38;5;124minterpreter, you can type \u001b[39m\u001b[38;5;124m\"\u001b[39m\u001b[38;5;124mhelp(object)\u001b[39m\u001b[38;5;124m\"\u001b[39m\u001b[38;5;124m.  Executing \u001b[39m\u001b[38;5;124m\"\u001b[39m\u001b[38;5;124mhelp(\u001b[39m\u001b[38;5;124m'\u001b[39m\u001b[38;5;124mstring\u001b[39m\u001b[38;5;124m'\u001b[39m\u001b[38;5;124m)\u001b[39m\u001b[38;5;124m\"\u001b[39m\n\u001b[0;32m   2012\u001b[0m \u001b[38;5;124mhas the same effect as typing a particular string at the help> prompt.\u001b[39m\n\u001b[0;32m   2013\u001b[0m \u001b[38;5;124m'''\u001b[39m)\n",
      "File \u001b[1;32mC:\\Program Files\\Python311\\Lib\\pydoc.py:2034\u001b[0m, in \u001b[0;36mHelper.interact\u001b[1;34m(self)\u001b[0m\n\u001b[0;32m   2032\u001b[0m     \u001b[38;5;28mself\u001b[39m\u001b[38;5;241m.\u001b[39mintro()\n\u001b[0;32m   2033\u001b[0m \u001b[38;5;28;01melse\u001b[39;00m:\n\u001b[1;32m-> 2034\u001b[0m     \u001b[38;5;28;43mself\u001b[39;49m\u001b[38;5;241;43m.\u001b[39;49m\u001b[43mhelp\u001b[49m\u001b[43m(\u001b[49m\u001b[43mrequest\u001b[49m\u001b[43m)\u001b[49m\n",
      "File \u001b[1;32mC:\\Program Files\\Python311\\Lib\\pydoc.py:2060\u001b[0m, in \u001b[0;36mHelper.help\u001b[1;34m(self, request)\u001b[0m\n\u001b[0;32m   2058\u001b[0m     \u001b[38;5;28;01melif\u001b[39;00m request \u001b[38;5;129;01min\u001b[39;00m \u001b[38;5;28mself\u001b[39m\u001b[38;5;241m.\u001b[39mkeywords: \u001b[38;5;28mself\u001b[39m\u001b[38;5;241m.\u001b[39mshowtopic(request)\n\u001b[0;32m   2059\u001b[0m     \u001b[38;5;28;01melif\u001b[39;00m request \u001b[38;5;129;01min\u001b[39;00m \u001b[38;5;28mself\u001b[39m\u001b[38;5;241m.\u001b[39mtopics: \u001b[38;5;28mself\u001b[39m\u001b[38;5;241m.\u001b[39mshowtopic(request)\n\u001b[1;32m-> 2060\u001b[0m     \u001b[38;5;28;01melif\u001b[39;00m request: \u001b[43mdoc\u001b[49m\u001b[43m(\u001b[49m\u001b[43mrequest\u001b[49m\u001b[43m,\u001b[49m\u001b[43m \u001b[49m\u001b[38;5;124;43m'\u001b[39;49m\u001b[38;5;124;43mHelp on \u001b[39;49m\u001b[38;5;132;43;01m%s\u001b[39;49;00m\u001b[38;5;124;43m:\u001b[39;49m\u001b[38;5;124;43m'\u001b[39;49m\u001b[43m,\u001b[49m\u001b[43m \u001b[49m\u001b[43moutput\u001b[49m\u001b[38;5;241;43m=\u001b[39;49m\u001b[38;5;28;43mself\u001b[39;49m\u001b[38;5;241;43m.\u001b[39;49m\u001b[43m_output\u001b[49m\u001b[43m)\u001b[49m\n\u001b[0;32m   2061\u001b[0m     \u001b[38;5;28;01melse\u001b[39;00m: doc(\u001b[38;5;28mstr\u001b[39m, \u001b[38;5;124m'\u001b[39m\u001b[38;5;124mHelp on \u001b[39m\u001b[38;5;132;01m%s\u001b[39;00m\u001b[38;5;124m:\u001b[39m\u001b[38;5;124m'\u001b[39m, output\u001b[38;5;241m=\u001b[39m\u001b[38;5;28mself\u001b[39m\u001b[38;5;241m.\u001b[39m_output)\n\u001b[0;32m   2062\u001b[0m \u001b[38;5;28;01melif\u001b[39;00m \u001b[38;5;28misinstance\u001b[39m(request, Helper): \u001b[38;5;28mself\u001b[39m()\n",
      "File \u001b[1;32mC:\\Program Files\\Python311\\Lib\\pydoc.py:1784\u001b[0m, in \u001b[0;36mdoc\u001b[1;34m(thing, title, forceload, output)\u001b[0m\n\u001b[0;32m   1782\u001b[0m \u001b[38;5;250m\u001b[39m\u001b[38;5;124;03m\"\"\"Display text documentation, given an object or a path to an object.\"\"\"\u001b[39;00m\n\u001b[0;32m   1783\u001b[0m \u001b[38;5;28;01mif\u001b[39;00m output \u001b[38;5;129;01mis\u001b[39;00m \u001b[38;5;28;01mNone\u001b[39;00m:\n\u001b[1;32m-> 1784\u001b[0m     pager(\u001b[43mrender_doc\u001b[49m\u001b[43m(\u001b[49m\u001b[43mthing\u001b[49m\u001b[43m,\u001b[49m\u001b[43m \u001b[49m\u001b[43mtitle\u001b[49m\u001b[43m,\u001b[49m\u001b[43m \u001b[49m\u001b[43mforceload\u001b[49m\u001b[43m)\u001b[49m)\n\u001b[0;32m   1785\u001b[0m \u001b[38;5;28;01melse\u001b[39;00m:\n\u001b[0;32m   1786\u001b[0m     output\u001b[38;5;241m.\u001b[39mwrite(render_doc(thing, title, forceload, plaintext))\n",
      "File \u001b[1;32mC:\\Program Files\\Python311\\Lib\\pydoc.py:1758\u001b[0m, in \u001b[0;36mrender_doc\u001b[1;34m(thing, title, forceload, renderer)\u001b[0m\n\u001b[0;32m   1756\u001b[0m \u001b[38;5;28;01mif\u001b[39;00m renderer \u001b[38;5;129;01mis\u001b[39;00m \u001b[38;5;28;01mNone\u001b[39;00m:\n\u001b[0;32m   1757\u001b[0m     renderer \u001b[38;5;241m=\u001b[39m text\n\u001b[1;32m-> 1758\u001b[0m \u001b[38;5;28mobject\u001b[39m, name \u001b[38;5;241m=\u001b[39m \u001b[43mresolve\u001b[49m\u001b[43m(\u001b[49m\u001b[43mthing\u001b[49m\u001b[43m,\u001b[49m\u001b[43m \u001b[49m\u001b[43mforceload\u001b[49m\u001b[43m)\u001b[49m\n\u001b[0;32m   1759\u001b[0m desc \u001b[38;5;241m=\u001b[39m describe(\u001b[38;5;28mobject\u001b[39m)\n\u001b[0;32m   1760\u001b[0m module \u001b[38;5;241m=\u001b[39m inspect\u001b[38;5;241m.\u001b[39mgetmodule(\u001b[38;5;28mobject\u001b[39m)\n",
      "File \u001b[1;32mC:\\Program Files\\Python311\\Lib\\pydoc.py:1744\u001b[0m, in \u001b[0;36mresolve\u001b[1;34m(thing, forceload)\u001b[0m\n\u001b[0;32m   1742\u001b[0m         \u001b[38;5;28mobject\u001b[39m \u001b[38;5;241m=\u001b[39m locate(thing, forceload)\n\u001b[0;32m   1743\u001b[0m         \u001b[38;5;28;01mif\u001b[39;00m \u001b[38;5;28mobject\u001b[39m \u001b[38;5;129;01mis\u001b[39;00m \u001b[38;5;28;01mNone\u001b[39;00m:\n\u001b[1;32m-> 1744\u001b[0m             \u001b[38;5;28;01mraise\u001b[39;00m \u001b[38;5;167;01mImportError\u001b[39;00m(\u001b[38;5;124m'''\u001b[39m\u001b[38;5;130;01m\\\u001b[39;00m\n\u001b[0;32m   1745\u001b[0m \u001b[38;5;124mNo Python documentation found for \u001b[39m\u001b[38;5;132;01m%r\u001b[39;00m\u001b[38;5;124m.\u001b[39m\n\u001b[0;32m   1746\u001b[0m \u001b[38;5;124mUse help() to get the interactive help utility.\u001b[39m\n\u001b[0;32m   1747\u001b[0m \u001b[38;5;124mUse help(str) for help on the str class.\u001b[39m\u001b[38;5;124m'''\u001b[39m \u001b[38;5;241m%\u001b[39m thing)\n\u001b[0;32m   1748\u001b[0m         \u001b[38;5;28;01mreturn\u001b[39;00m \u001b[38;5;28mobject\u001b[39m, thing\n\u001b[0;32m   1749\u001b[0m     \u001b[38;5;28;01melse\u001b[39;00m:\n",
      "\u001b[1;31mImportError\u001b[0m: No Python documentation found for 'exit'.\nUse help() to get the interactive help utility.\nUse help(str) for help on the str class."
     ]
    }
   ],
   "source": [
    "#Start a help utility session\n",
    "help()"
   ]
  },
  {
   "cell_type": "markdown",
   "metadata": {},
   "source": [
    "This feature is a useful tool for getting documentation and assistance on various aspects of Python. We can either type the function name in the console above or go directly to the documentation by including the function name as an argument in the `help` function.\n",
    "\n",
    " **Note:** When we start a help utility session by typing `help()`, we must end it by typing quit in the console in order to proceed. We don't need to do this if we go straight to the documentation by typing `help(function_name)`. "
   ]
  },
  {
   "cell_type": "markdown",
   "metadata": {},
   "source": [
    "Let's look at an example of how we can put these functions to work.\n",
    "\n",
    "Say we wanted to round the number **253.45367** off to **2 decimal places**. We could use the **round** function to do this.\n",
    "\n",
    "Let's first start by checking the documentation for this function."
   ]
  },
  {
   "cell_type": "code",
   "execution_count": 2,
   "metadata": {},
   "outputs": [
    {
     "name": "stdout",
     "output_type": "stream",
     "text": [
      "Help on built-in function round in module builtins:\n",
      "\n",
      "round(number, ndigits=None)\n",
      "    Round a number to a given precision in decimal digits.\n",
      "    \n",
      "    The return value is an integer if ndigits is omitted or None.  Otherwise\n",
      "    the return value has the same type as the number.  ndigits may be negative.\n",
      "\n"
     ]
    }
   ],
   "source": [
    "help(round)"
   ]
  },
  {
   "cell_type": "markdown",
   "metadata": {},
   "source": [
    "In general, the documentation is structured as follows: \n",
    "\n",
    "1. The function name and any required or optional arguments enclosed in brackets.\n",
    "2. A description of the function's intent.\n",
    "3. A description of the necessary arguments (if needed).\n",
    "4. A description of the expected return value(s)."
   ]
  },
  {
   "attachments": {},
   "cell_type": "markdown",
   "metadata": {},
   "source": [
    "As we can see from the documentation, we must supply a number that we want to round off as well as the number of decimals we'd like to round to. \n",
    "An argument with a `=` indicates that there is a default value in case that argument is not provided. In this case, the default value for **ndigits** is **None**, meaning round off to zero decimals.\n",
    "\n",
    "Let's call the function."
   ]
  },
  {
   "cell_type": "code",
   "execution_count": 3,
   "metadata": {},
   "outputs": [
    {
     "data": {
      "text/plain": [
       "253.45"
      ]
     },
     "execution_count": 3,
     "metadata": {},
     "output_type": "execute_result"
    }
   ],
   "source": [
    "#round to 2 decimal places\n",
    "round(253.45367,2)"
   ]
  },
  {
   "cell_type": "code",
   "execution_count": 4,
   "metadata": {},
   "outputs": [
    {
     "data": {
      "text/plain": [
       "253"
      ]
     },
     "execution_count": 4,
     "metadata": {},
     "output_type": "execute_result"
    }
   ],
   "source": [
    "#round without specifying ndigits value\n",
    "round(253.45367)"
   ]
  },
  {
   "cell_type": "markdown",
   "metadata": {},
   "source": [
    "We successfully found the documentation of a built-in function and followed its guidelines to call the function suitable for our objectives!"
   ]
  },
  {
   "cell_type": "markdown",
   "metadata": {},
   "source": [
    "### User-defined functions\n",
    "\n",
    "User-defined functions are functions that we create to perform specialised tasks based on our unique requirements. When we write these functions, we have to specify the required input, the instructions for what to do with the input, and the anticipated output.\n",
    "\n",
    "We can break down the creation of a function into five components."
   ]
  },
  {
   "attachments": {},
   "cell_type": "markdown",
   "metadata": {},
   "source": [
    "<div align=\"center\" style=\" font-size: 80%; text-align: center; margin: 0 auto\">\n",
    "<img src=\"https://raw.githubusercontent.com/Explore-AI/Pictures/master/function_components.png\"  style=\"width:70%\";/>\n",
    "<br>\n",
    "<br>\n",
    "    <em>Figure 1: Components of a function in Python</em>\n",
    "</div>"
   ]
  },
  {
   "cell_type": "markdown",
   "metadata": {},
   "source": [
    "### Function definition\n",
    "\n",
    "In Python, we use the keyword \"def\" to define a function, followed by round brackets and a colon. The colon is used to indicate the start of a new block of code."
   ]
  },
  {
   "attachments": {},
   "cell_type": "markdown",
   "metadata": {},
   "source": [
    "### Function name\n",
    "\n",
    "We need to give our function a name which we will use to call it later.\n",
    "\n",
    "There are some guidelines on how to name a function, such as the name must begin with a **letter or an underscore**, it must be in **lowercase**, it can have **numbers** and be **any length** (it's best to keep it short), it cannot be the same as any **Python keyword**, and must describe the function's purpose.\n"
   ]
  },
  {
   "attachments": {},
   "cell_type": "markdown",
   "metadata": {},
   "source": [
    "### Function inputs\n",
    "\n",
    "Inputs, also known as parameters, **define the variables required for the function to perform its tasks**. It's worth noting that we don't have to submit an input every time. If the function tasks do not require any inputs, we can leave this field empty.\n",
    "\n",
    "It is essential to differentiate between function `parameters` and `arguments`.\n",
    "\n",
    "`Parameters` are variables listed in the function declaration, serving as placeholders for the values that the function will receive during its execution. They act as local variables within the function, defining its input structure. On the other hand, `arguments` are the actual values passed to a function when it is called. These values are assigned to the corresponding parameters defined in the function, allowing for dynamic and flexible behaviour.\n"
   ]
  },
  {
   "cell_type": "markdown",
   "metadata": {},
   "source": [
    "### Function instructions/tasks\n",
    "\n",
    "This is the block of code within the function that serves as the **set of instructions** that the function must follow. To indicate that the code that follows belongs to the function, we type it **one tab away** from the declaration line.\n"
   ]
  },
  {
   "attachments": {},
   "cell_type": "markdown",
   "metadata": {},
   "source": [
    "### Return statement\n",
    "\n",
    "The return statement defines what the result of the function or the output should be.\n",
    "\n",
    "**Note:** *A return statement is not required for the function to be created successfully. However, because every function in Python must return something, functions that do not have a return statement return None by default.*"
   ]
  },
  {
   "attachments": {},
   "cell_type": "markdown",
   "metadata": {},
   "source": [
    "## Example\n",
    "\n",
    "Let's code an example together.\n",
    "\n",
    "Assume we wanted to write a function named `calc_forest_area` that takes in a length and width as input and calculates the area of a given forest by multiplying those values.\n",
    "\n",
    "### Create the function\n"
   ]
  },
  {
   "cell_type": "code",
   "execution_count": 5,
   "metadata": {},
   "outputs": [],
   "source": [
    "#create the calc_forest_area function \n",
    "def calc_forest_area(length, width): #define the function and the arguments\n",
    "    area = length * width            #function instructions\n",
    "    return area                      #return statement"
   ]
  },
  {
   "attachments": {},
   "cell_type": "markdown",
   "metadata": {},
   "source": [
    "We start by typing `def` to define the function, followed by the **function name**, which we called `calc_forest_area`.\n",
    "\n",
    "Our function has two **arguments**, the forest `length` and `width`.\n",
    "We add these arguments in the brackets and end the declaration with a **colon** after the brackets.\n",
    "\n",
    "Pressing enter in most coding environments will take us to the next line at the correct **level of indentation**. However, if it doesn't, we hit the tab button, which is equivalent to four or eight whitespaces, depending on the Python editor.\n",
    "\n",
    "Inside the function, we define a new **variable** called `area` and set it equal to our input length multiplied by our input width. This is the **instruction** that will calculate our area.\n",
    "\n",
    "Next, we define what we want our function to return using the **return statement**. In our case, we want our function to return the area of the forest calculated by the function.\n",
    "Therefore, we add “return” and the area variable.\n",
    "\n",
    "\n",
    "\n",
    "\n"
   ]
  },
  {
   "cell_type": "markdown",
   "metadata": {},
   "source": [
    "**Now that we've created our function, we can call it and pass it the relevant inputs, just like any other function.**"
   ]
  },
  {
   "cell_type": "markdown",
   "metadata": {},
   "source": [
    "### Call the function"
   ]
  },
  {
   "cell_type": "markdown",
   "metadata": {},
   "source": [
    "Assume we wanted to use our newly created function to determine the area of the `Zambesi forest` which has a length of 300 kilometres and a width of 5000 kilometres."
   ]
  },
  {
   "cell_type": "code",
   "execution_count": 6,
   "metadata": {},
   "outputs": [
    {
     "data": {
      "text/plain": [
       "1500000"
      ]
     },
     "execution_count": 6,
     "metadata": {},
     "output_type": "execute_result"
    }
   ],
   "source": [
    "calc_forest_area(300, 5000)"
   ]
  },
  {
   "cell_type": "markdown",
   "metadata": {},
   "source": [
    "We could also store our output in a variable in order to use it later."
   ]
  },
  {
   "cell_type": "code",
   "execution_count": 7,
   "metadata": {},
   "outputs": [],
   "source": [
    "zambesi_forest = calc_forest_area(300, 5000)"
   ]
  },
  {
   "cell_type": "markdown",
   "metadata": {},
   "source": [
    "## Doc strings"
   ]
  },
  {
   "attachments": {},
   "cell_type": "markdown",
   "metadata": {},
   "source": [
    "Remember when we made use of built-in functions and could read the documentation using the help() function? We can employ **documentation strings** to perform something similar for user-defined functions.\n",
    "\n",
    "Documentation strings, abbreviated `docstrings`, are used to **describe the functionality** of a function, including the arguments and expected return, if they exist. Docstrings can also be used in other code constructs, such as classes and methods, to provide additional information to the user.\n",
    "\n",
    "The purpose of any docstring is to explain the function's purpose and functionality so that anyone new viewing or using it understands what the function does.\n",
    "\n",
    "A docstring is most commonly defined under the function definition with triple double quotation marks and is divided into three distinct sections:\n",
    "\n",
    "1. Functionality of the function.\n",
    "2. Breakdown of the input(s), if applicable.\n",
    "3. Breakdown of the output, if applicable.\n",
    "\n",
    "Let's add some docstrings to our `calc_forest_area` function."
   ]
  },
  {
   "cell_type": "code",
   "execution_count": 13,
   "metadata": {},
   "outputs": [],
   "source": [
    "#Create the calc_forest_area function with docstrings\n",
    "def calc_forest_area(length, width):\n",
    "    \"\"\"\n",
    "    Calculates the area of a given forest by multiplying its length and width\n",
    "    \n",
    "    Parameters\n",
    "    -------\n",
    "    length: The length of the forest in unit\n",
    "    width: The width of the forest in unit\n",
    "    \n",
    "    Return\n",
    "    -------\n",
    "    An integer that represents the area of the forest in unit squared\n",
    "    \n",
    "    \"\"\"\n",
    "    area = length * width\n",
    "    return area"
   ]
  },
  {
   "attachments": {},
   "cell_type": "markdown",
   "metadata": {},
   "source": [
    "Docstrings are not required for our functions to execute successfully, however, there are some advantages to using them.\n",
    "\n",
    "Docstrings **improve code readability** by allowing anyone viewing it to grasp its intent without having to decipher it, making **collaboration** easier. In our code base, we tend to construct several functions that perform a variety of tasks. Having documentation that explains what the function does and how to use it makes it easier to **keep track of all our functions**. We are also able to access the documentation for all our functions using the __doc__ attribute, as well as the built-in help() function."
   ]
  },
  {
   "cell_type": "code",
   "execution_count": 14,
   "metadata": {},
   "outputs": [
    {
     "data": {
      "text/plain": [
       "'\\n    Calculates the area of a given forest by multiplying its length and width\\n    \\n    Parameters\\n    -------\\n    length: The length of the forest in unit\\n    width: The width of the forest in unit\\n    \\n    Return\\n    -------\\n    An integer that represents the area of the forest in unit squared\\n    \\n    '"
      ]
     },
     "execution_count": 14,
     "metadata": {},
     "output_type": "execute_result"
    }
   ],
   "source": [
    "#print the docstring for the calc_forest_area function using the __doc__ attribute\n",
    "calc_forest_area.__doc__"
   ]
  },
  {
   "cell_type": "code",
   "execution_count": 15,
   "metadata": {},
   "outputs": [
    {
     "name": "stdout",
     "output_type": "stream",
     "text": [
      "Help on function calc_forest_area in module __main__:\n",
      "\n",
      "calc_forest_area(length, width)\n",
      "    Calculates the area of a given forest by multiplying its length and width\n",
      "    \n",
      "    Parameters\n",
      "    -------\n",
      "    length: The length of the forest in unit\n",
      "    width: The width of the forest in unit\n",
      "    \n",
      "    Return\n",
      "    -------\n",
      "    An integer that represents the area of the forest in unit squared\n",
      "\n"
     ]
    }
   ],
   "source": [
    "#print the docstring for the calc_forest_area function using the help() function\n",
    "help(calc_forest_area)"
   ]
  },
  {
   "cell_type": "markdown",
   "metadata": {},
   "source": [
    "It's always considered good practice to include docstrings when creating new functions."
   ]
  },
  {
   "cell_type": "markdown",
   "metadata": {},
   "source": [
    "## Scope\n",
    "\n",
    "Now that we understand how to create a function, we need to understand scope, which refers to the parts of our code where an object or variable is available for use.\n",
    "\n",
    "We can distinguish between a **local variable** and a **global variable**."
   ]
  },
  {
   "cell_type": "markdown",
   "metadata": {},
   "source": [
    "### Local variable\n",
    "\n",
    "When we created our function, within it we created a variable called `area`.\n",
    "This variable is known as a **local variable**.\n",
    "A local variable is defined in or by a function and is only available for use inside that function.\n",
    "\n",
    "For instance, if we attempted to access our `area` variable from outside the function, we would receive an error stating that the variable name has not been defined.\n"
   ]
  },
  {
   "cell_type": "code",
   "execution_count": 16,
   "metadata": {},
   "outputs": [
    {
     "ename": "NameError",
     "evalue": "name 'area' is not defined",
     "output_type": "error",
     "traceback": [
      "\u001b[1;31m---------------------------------------------------------------------------\u001b[0m",
      "\u001b[1;31mNameError\u001b[0m                                 Traceback (most recent call last)",
      "Cell \u001b[1;32mIn[16], line 20\u001b[0m\n\u001b[0;32m     17\u001b[0m     \u001b[38;5;28;01mreturn\u001b[39;00m area\n\u001b[0;32m     19\u001b[0m \u001b[38;5;66;03m#Print the area local variable\u001b[39;00m\n\u001b[1;32m---> 20\u001b[0m \u001b[38;5;28mprint\u001b[39m(\u001b[43marea\u001b[49m)\n",
      "\u001b[1;31mNameError\u001b[0m: name 'area' is not defined"
     ]
    }
   ],
   "source": [
    "#Create the calc_forest_area function\n",
    "def calc_forest_area(length, width):\n",
    "    \"\"\"\n",
    "    Calculates the area of a given forest by multiplying its length and width\n",
    "    \n",
    "    Parameters\n",
    "    -------\n",
    "    length: The length of the forest in unit\n",
    "    width: The width of the forest in unit\n",
    "    \n",
    "    Return\n",
    "    -------\n",
    "    An integer that represents the area of the forest in unit squared\n",
    "    \n",
    "    \"\"\"\n",
    "    area = length * width\n",
    "    return area\n",
    "\n",
    "#Print the area local variable\n",
    "print(area)"
   ]
  },
  {
   "cell_type": "markdown",
   "metadata": {},
   "source": [
    "This is because the variable name is only found within the function and not globally or outside of it."
   ]
  },
  {
   "attachments": {},
   "cell_type": "markdown",
   "metadata": {},
   "source": [
    "However, if we were to print the local variable within the function, it would print without an error when the function is used."
   ]
  },
  {
   "cell_type": "code",
   "execution_count": 17,
   "metadata": {},
   "outputs": [
    {
     "name": "stdout",
     "output_type": "stream",
     "text": [
      "1500000\n"
     ]
    }
   ],
   "source": [
    "#Create the calc_forest_area function\n",
    "def calc_forest_area(length, width):\n",
    "    \"\"\"\n",
    "    Calculates the area of a given forest by multiplying its length and width\n",
    "    \n",
    "    Parameters\n",
    "    -------\n",
    "    length: The length of the forest in unit\n",
    "    width: The width of the forest in unit\n",
    "    \n",
    "    Return\n",
    "    -------\n",
    "    An integer that represents the area of the forest in unit squared\n",
    "    \n",
    "    \"\"\"\n",
    "    area = length * width\n",
    "    print(area) #print the local variable area when the function is used\n",
    "    return area\n",
    "\n",
    "#Use the function\n",
    "zambesi_forest = calc_forest_area(300, 5000)"
   ]
  },
  {
   "cell_type": "markdown",
   "metadata": {},
   "source": [
    "### Global variable\n",
    "\n",
    "In contrast, a global variable is one that is defined outside of any function's construct and can be accessed anywhere in our code. \n",
    "\n",
    "The `zambesi_forest` variable we created earlier, for example, is a global variable that can be used globally in our code, even inside a function."
   ]
  },
  {
   "cell_type": "code",
   "execution_count": 18,
   "metadata": {},
   "outputs": [
    {
     "name": "stdout",
     "output_type": "stream",
     "text": [
      "1500000\n"
     ]
    }
   ],
   "source": [
    "#Create the calc_forest_area function\n",
    "def calc_forest_area(length, width):\n",
    "    \"\"\"\n",
    "    Calculates the area of a given forest by multiplying its length and width\n",
    "    \n",
    "    Parameters\n",
    "    -------\n",
    "    length: The length of the forest in unit\n",
    "    width: The width of the forest in unit\n",
    "    \n",
    "    Return\n",
    "    -------\n",
    "    An integer that represents the area of the forest in unit squared\n",
    "    \n",
    "    \"\"\"\n",
    "    area = length * width\n",
    "    return area\n",
    "\n",
    "zambesi_forest = calc_forest_area(300, 5000)\n",
    "\n",
    "#Print the zambesi_forest global variable\n",
    "print(zambesi_forest)"
   ]
  },
  {
   "cell_type": "markdown",
   "metadata": {},
   "source": [
    "<div align=\"center\" style=\" font-size: 80%; text-align: center; margin: 0 auto\">\n",
    "<img src=\"https://raw.githubusercontent.com/Explore-AI/Pictures/master/ExploreAI_logos/EAI_Blue_Dark.png\"  style=\"width:200px\";/>\n",
    "</div>"
   ]
  }
 ],
 "metadata": {
  "kernelspec": {
   "display_name": "Python 3 (ipykernel)",
   "language": "python",
   "name": "python3"
  },
  "language_info": {
   "codemirror_mode": {
    "name": "ipython",
    "version": 3
   },
   "file_extension": ".py",
   "mimetype": "text/x-python",
   "name": "python",
   "nbconvert_exporter": "python",
   "pygments_lexer": "ipython3",
   "version": "3.11.2"
  }
 },
 "nbformat": 4,
 "nbformat_minor": 4
}
