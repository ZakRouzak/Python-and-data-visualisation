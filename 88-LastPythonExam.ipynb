{
 "cells": [
  {
   "cell_type": "code",
   "execution_count": 25,
   "id": "2338f54b-7e9e-4e26-aed2-37e153c9ae35",
   "metadata": {},
   "outputs": [],
   "source": [
    "import pandas as pd \n",
    "import numpy as np \n",
    "import scipy as stats\n",
    "import matplotlib.pyplot as plt\n",
    "import seaborn as sns "
   ]
  },
  {
   "cell_type": "code",
   "execution_count": 26,
   "id": "a0f177c3-1457-4a3b-8016-179c14b83cf1",
   "metadata": {},
   "outputs": [],
   "source": [
    "field_df = pd.read_csv(\"MD_agric_exam-4313.csv\")"
   ]
  },
  {
   "cell_type": "code",
   "execution_count": 27,
   "id": "005e64dd-02dd-48b3-8194-129518f99da0",
   "metadata": {
    "scrolled": true
   },
   "outputs": [
    {
     "data": {
      "text/html": [
       "<div>\n",
       "<style scoped>\n",
       "    .dataframe tbody tr th:only-of-type {\n",
       "        vertical-align: middle;\n",
       "    }\n",
       "\n",
       "    .dataframe tbody tr th {\n",
       "        vertical-align: top;\n",
       "    }\n",
       "\n",
       "    .dataframe thead th {\n",
       "        text-align: right;\n",
       "    }\n",
       "</style>\n",
       "<table border=\"1\" class=\"dataframe\">\n",
       "  <thead>\n",
       "    <tr style=\"text-align: right;\">\n",
       "      <th></th>\n",
       "      <th>Field_ID</th>\n",
       "      <th>Elevation</th>\n",
       "      <th>Rainfall</th>\n",
       "      <th>Min_temperature_C</th>\n",
       "      <th>Max_temperature_C</th>\n",
       "      <th>pH</th>\n",
       "      <th>Pollution_level</th>\n",
       "      <th>Plot_size</th>\n",
       "      <th>Annual_yield</th>\n",
       "      <th>Crop_type</th>\n",
       "    </tr>\n",
       "  </thead>\n",
       "  <tbody>\n",
       "    <tr>\n",
       "      <th>0</th>\n",
       "      <td>1162</td>\n",
       "      <td>494.95615</td>\n",
       "      <td>1507.6</td>\n",
       "      <td>-5.4</td>\n",
       "      <td>31.0</td>\n",
       "      <td>6.859436</td>\n",
       "      <td>0.007034</td>\n",
       "      <td>3.6</td>\n",
       "      <td>1.617421</td>\n",
       "      <td>coffee</td>\n",
       "    </tr>\n",
       "    <tr>\n",
       "      <th>1</th>\n",
       "      <td>5108</td>\n",
       "      <td>663.73390</td>\n",
       "      <td>581.0</td>\n",
       "      <td>-4.7</td>\n",
       "      <td>30.9</td>\n",
       "      <td>5.603219</td>\n",
       "      <td>0.289643</td>\n",
       "      <td>4.2</td>\n",
       "      <td>2.532497</td>\n",
       "      <td>potato</td>\n",
       "    </tr>\n",
       "    <tr>\n",
       "      <th>2</th>\n",
       "      <td>3504</td>\n",
       "      <td>396.87990</td>\n",
       "      <td>1715.1</td>\n",
       "      <td>-6.1</td>\n",
       "      <td>31.7</td>\n",
       "      <td>5.774116</td>\n",
       "      <td>0.000409</td>\n",
       "      <td>2.6</td>\n",
       "      <td>1.262207</td>\n",
       "      <td>banana</td>\n",
       "    </tr>\n",
       "    <tr>\n",
       "      <th>3</th>\n",
       "      <td>5351</td>\n",
       "      <td>594.80370</td>\n",
       "      <td>1748.0</td>\n",
       "      <td>-4.3</td>\n",
       "      <td>33.6</td>\n",
       "      <td>6.477415</td>\n",
       "      <td>0.088777</td>\n",
       "      <td>7.9</td>\n",
       "      <td>4.351564</td>\n",
       "      <td>wheat</td>\n",
       "    </tr>\n",
       "    <tr>\n",
       "      <th>4</th>\n",
       "      <td>905</td>\n",
       "      <td>609.49800</td>\n",
       "      <td>1395.8</td>\n",
       "      <td>-4.5</td>\n",
       "      <td>31.3</td>\n",
       "      <td>5.419586</td>\n",
       "      <td>0.050023</td>\n",
       "      <td>10.8</td>\n",
       "      <td>5.034791</td>\n",
       "      <td>cassava</td>\n",
       "    </tr>\n",
       "    <tr>\n",
       "      <th>...</th>\n",
       "      <td>...</td>\n",
       "      <td>...</td>\n",
       "      <td>...</td>\n",
       "      <td>...</td>\n",
       "      <td>...</td>\n",
       "      <td>...</td>\n",
       "      <td>...</td>\n",
       "      <td>...</td>\n",
       "      <td>...</td>\n",
       "      <td>...</td>\n",
       "    </tr>\n",
       "    <tr>\n",
       "      <th>995</th>\n",
       "      <td>2202</td>\n",
       "      <td>572.95935</td>\n",
       "      <td>625.6</td>\n",
       "      <td>-5.5</td>\n",
       "      <td>31.0</td>\n",
       "      <td>5.258964</td>\n",
       "      <td>0.086330</td>\n",
       "      <td>1.2</td>\n",
       "      <td>0.750675</td>\n",
       "      <td>wheat</td>\n",
       "    </tr>\n",
       "    <tr>\n",
       "      <th>996</th>\n",
       "      <td>2531</td>\n",
       "      <td>552.80945</td>\n",
       "      <td>398.1</td>\n",
       "      <td>-5.9</td>\n",
       "      <td>33.4</td>\n",
       "      <td>4.607136</td>\n",
       "      <td>0.130178</td>\n",
       "      <td>0.8</td>\n",
       "      <td>0.449790</td>\n",
       "      <td>wheat</td>\n",
       "    </tr>\n",
       "    <tr>\n",
       "      <th>997</th>\n",
       "      <td>1040</td>\n",
       "      <td>678.22504</td>\n",
       "      <td>564.4</td>\n",
       "      <td>-4.6</td>\n",
       "      <td>31.7</td>\n",
       "      <td>5.567556</td>\n",
       "      <td>0.448149</td>\n",
       "      <td>1.2</td>\n",
       "      <td>0.492988</td>\n",
       "      <td>maize</td>\n",
       "    </tr>\n",
       "    <tr>\n",
       "      <th>998</th>\n",
       "      <td>58</td>\n",
       "      <td>792.65370</td>\n",
       "      <td>928.5</td>\n",
       "      <td>-3.3</td>\n",
       "      <td>31.2</td>\n",
       "      <td>5.102048</td>\n",
       "      <td>0.387350</td>\n",
       "      <td>1.1</td>\n",
       "      <td>0.597557</td>\n",
       "      <td>potato</td>\n",
       "    </tr>\n",
       "    <tr>\n",
       "      <th>999</th>\n",
       "      <td>3334</td>\n",
       "      <td>747.69850</td>\n",
       "      <td>981.5</td>\n",
       "      <td>-3.7</td>\n",
       "      <td>31.0</td>\n",
       "      <td>6.715882</td>\n",
       "      <td>0.541706</td>\n",
       "      <td>11.1</td>\n",
       "      <td>2.867815</td>\n",
       "      <td>coffee</td>\n",
       "    </tr>\n",
       "  </tbody>\n",
       "</table>\n",
       "<p>1000 rows × 10 columns</p>\n",
       "</div>"
      ],
      "text/plain": [
       "     Field_ID  Elevation  Rainfall  Min_temperature_C  Max_temperature_C  \\\n",
       "0        1162  494.95615    1507.6               -5.4               31.0   \n",
       "1        5108  663.73390     581.0               -4.7               30.9   \n",
       "2        3504  396.87990    1715.1               -6.1               31.7   \n",
       "3        5351  594.80370    1748.0               -4.3               33.6   \n",
       "4         905  609.49800    1395.8               -4.5               31.3   \n",
       "..        ...        ...       ...                ...                ...   \n",
       "995      2202  572.95935     625.6               -5.5               31.0   \n",
       "996      2531  552.80945     398.1               -5.9               33.4   \n",
       "997      1040  678.22504     564.4               -4.6               31.7   \n",
       "998        58  792.65370     928.5               -3.3               31.2   \n",
       "999      3334  747.69850     981.5               -3.7               31.0   \n",
       "\n",
       "           pH  Pollution_level  Plot_size  Annual_yield Crop_type  \n",
       "0    6.859436         0.007034        3.6      1.617421    coffee  \n",
       "1    5.603219         0.289643        4.2      2.532497    potato  \n",
       "2    5.774116         0.000409        2.6      1.262207    banana  \n",
       "3    6.477415         0.088777        7.9      4.351564     wheat  \n",
       "4    5.419586         0.050023       10.8      5.034791   cassava  \n",
       "..        ...              ...        ...           ...       ...  \n",
       "995  5.258964         0.086330        1.2      0.750675     wheat  \n",
       "996  4.607136         0.130178        0.8      0.449790     wheat  \n",
       "997  5.567556         0.448149        1.2      0.492988     maize  \n",
       "998  5.102048         0.387350        1.1      0.597557    potato  \n",
       "999  6.715882         0.541706       11.1      2.867815    coffee  \n",
       "\n",
       "[1000 rows x 10 columns]"
      ]
     },
     "execution_count": 27,
     "metadata": {},
     "output_type": "execute_result"
    }
   ],
   "source": [
    "field_df"
   ]
  },
  {
   "cell_type": "code",
   "execution_count": 28,
   "id": "1abdc6ed-4af6-43cd-9914-1f415fa98d4d",
   "metadata": {},
   "outputs": [
    {
     "data": {
      "text/plain": [
       "8"
      ]
     },
     "execution_count": 28,
     "metadata": {},
     "output_type": "execute_result"
    }
   ],
   "source": [
    "# 1\n",
    "len(field_df[\"Crop_type\"].unique())"
   ]
  },
  {
   "cell_type": "code",
   "execution_count": 29,
   "id": "d611a8d3-4b36-4871-b2c0-ca873a5fe3a1",
   "metadata": {},
   "outputs": [
    {
     "data": {
      "text/plain": [
       "8.99"
      ]
     },
     "execution_count": 29,
     "metadata": {},
     "output_type": "execute_result"
    }
   ],
   "source": [
    "# 2\n",
    "round_field = round(field_df[field_df[\"Crop_type\"]==\"wheat\"][\"Annual_yield\"], 2)\n",
    "round_field.max()"
   ]
  },
  {
   "cell_type": "code",
   "execution_count": 63,
   "id": "1fc6f67e-1bbc-47b5-bca2-a62ef5c86b4a",
   "metadata": {},
   "outputs": [
    {
     "data": {
      "text/html": [
       "<div>\n",
       "<style scoped>\n",
       "    .dataframe tbody tr th:only-of-type {\n",
       "        vertical-align: middle;\n",
       "    }\n",
       "\n",
       "    .dataframe tbody tr th {\n",
       "        vertical-align: top;\n",
       "    }\n",
       "\n",
       "    .dataframe thead th {\n",
       "        text-align: right;\n",
       "    }\n",
       "</style>\n",
       "<table border=\"1\" class=\"dataframe\">\n",
       "  <thead>\n",
       "    <tr style=\"text-align: right;\">\n",
       "      <th></th>\n",
       "      <th>Pollution_level</th>\n",
       "    </tr>\n",
       "    <tr>\n",
       "      <th>Crop_type</th>\n",
       "      <th></th>\n",
       "    </tr>\n",
       "  </thead>\n",
       "  <tbody>\n",
       "    <tr>\n",
       "      <th>cassava</th>\n",
       "      <td>0.327714</td>\n",
       "    </tr>\n",
       "    <tr>\n",
       "      <th>coffee</th>\n",
       "      <td>0.220615</td>\n",
       "    </tr>\n",
       "    <tr>\n",
       "      <th>maize</th>\n",
       "      <td>0.265101</td>\n",
       "    </tr>\n",
       "    <tr>\n",
       "      <th>potato</th>\n",
       "      <td>0.252135</td>\n",
       "    </tr>\n",
       "    <tr>\n",
       "      <th>tea</th>\n",
       "      <td>0.214799</td>\n",
       "    </tr>\n",
       "    <tr>\n",
       "      <th>wheat</th>\n",
       "      <td>0.223527</td>\n",
       "    </tr>\n",
       "  </tbody>\n",
       "</table>\n",
       "</div>"
      ],
      "text/plain": [
       "           Pollution_level\n",
       "Crop_type                 \n",
       "cassava           0.327714\n",
       "coffee            0.220615\n",
       "maize             0.265101\n",
       "potato            0.252135\n",
       "tea               0.214799\n",
       "wheat             0.223527"
      ]
     },
     "execution_count": 63,
     "metadata": {},
     "output_type": "execute_result"
    }
   ],
   "source": [
    "# 3\n",
    "m = pd.DataFrame(field_df.groupby(\"Crop_type\")[\"Pollution_level\"].mean())\n",
    "t = m[m[\"Pollution_level\"]>0.2]\n",
    "t"
   ]
  },
  {
   "cell_type": "code",
   "execution_count": 66,
   "id": "b846868a-971f-43f7-8eca-32e7e3d02b10",
   "metadata": {},
   "outputs": [
    {
     "data": {
      "text/plain": [
       "941959.7"
      ]
     },
     "execution_count": 66,
     "metadata": {},
     "output_type": "execute_result"
    }
   ],
   "source": [
    "ñ = field_df[field_df[\"Crop_type\"].isin([\"cassava\", \"coffee\", \"maize\", \"potato\", \"tea\", \"wheat\"])][\"Rainfall\"].sum()\n",
    "ñ"
   ]
  },
  {
   "cell_type": "code",
   "execution_count": 58,
   "id": "852cd1f5-87df-47e1-8337-e1bc6d4c4524",
   "metadata": {},
   "outputs": [],
   "source": [
    "# 4\n",
    "def temperature_range(field_df, id_1, id_2, id_3):\n",
    "    \"\"\"\n",
    "    this function take three Field_ID and annd calculating there temperature range \n",
    "\n",
    "    Args:\n",
    "        id_1, id_2, id_3 (int) : the Field_ID of the data \n",
    "    Return:\n",
    "        calculate the diffrence between Max_temperature_C and Min_temperature_C \n",
    "        for each Field \n",
    "    \"\"\"\n",
    "    x = field_df[field_df[\"Field_ID\"]==id_1][\"Max_temperature_C\"] - field_df[field_df[\"Field_ID\"]==id_1][\"Min_temperature_C\"]\n",
    "    y = field_df[field_df[\"Field_ID\"]==id_2][\"Max_temperature_C\"] - field_df[field_df[\"Field_ID\"]==id_2][\"Min_temperature_C\"]\n",
    "    z = field_df[field_df[\"Field_ID\"]==id_3][\"Max_temperature_C\"] - field_df[field_df[\"Field_ID\"]==id_3][\"Min_temperature_C\"]\n",
    "\n",
    "    return x, y, z\n",
    "\n"
   ]
  },
  {
   "cell_type": "code",
   "execution_count": 8,
   "id": "faceca64-179b-455d-b91c-b64f0db5afd5",
   "metadata": {},
   "outputs": [
    {
     "name": "stdout",
     "output_type": "stream",
     "text": [
      "rice\n"
     ]
    }
   ],
   "source": [
    "# 5\n",
    "# What does the following code achieve?\n",
    "a = field_df['Crop_type'].unique()\n",
    "\n",
    "b = float('inf')\n",
    "\n",
    "c = ''\n",
    "\n",
    "for crop in a:\n",
    "\n",
    "    d = field_df[field_df['Crop_type'] == crop]['Min_temperature_C'].mean()\n",
    "\n",
    "    if d < b:\n",
    "\n",
    "        b = d\n",
    "\n",
    "        c = crop\n",
    "\n",
    "print(c)\n",
    "## prints the crop type (c) that corresponds to the minimum mean temperature observed across all crop types."
   ]
  },
  {
   "cell_type": "code",
   "execution_count": 9,
   "id": "236f0db5-73da-4042-b928-80497ad6703d",
   "metadata": {},
   "outputs": [
    {
     "data": {
      "text/plain": [
       "1731.8999999999999"
      ]
     },
     "execution_count": 9,
     "metadata": {},
     "output_type": "execute_result"
    }
   ],
   "source": [
    "# 6\n",
    "total_plot_size = field_df[field_df[\"pH\"] < 5.5][\"Plot_size\"].sum()\n",
    "total_plot_size"
   ]
  },
  {
   "cell_type": "code",
   "execution_count": 10,
   "id": "76e97379-d28e-4f37-bb0f-f188561be8bc",
   "metadata": {},
   "outputs": [
    {
     "data": {
      "text/plain": [
       "319"
      ]
     },
     "execution_count": 10,
     "metadata": {},
     "output_type": "execute_result"
    }
   ],
   "source": [
    "# 7\n",
    "df = field_df[(field_df['Min_temperature_C']< -5) & ( field_df['Max_temperature_C'] > 30)]\n",
    "df = pd.DataFrame(df)\n",
    "len(df)"
   ]
  },
  {
   "cell_type": "code",
   "execution_count": 11,
   "id": "2a6fe95e-83b4-4ee4-ba99-709427fc1141",
   "metadata": {},
   "outputs": [
    {
     "data": {
      "text/plain": [
       "470.09"
      ]
     },
     "execution_count": 11,
     "metadata": {},
     "output_type": "execute_result"
    }
   ],
   "source": [
    "# 8\n",
    "w = round(field_df[field_df[\"Plot_size\"] > (field_df[\"Plot_size\"].median())][\"Rainfall\"].std(), 2)\n",
    "w"
   ]
  },
  {
   "cell_type": "code",
   "execution_count": 12,
   "id": "319c448d-05d9-4524-b179-9a3613d288e7",
   "metadata": {},
   "outputs": [
    {
     "name": "stdout",
     "output_type": "stream",
     "text": [
      "30.ice\n"
     ]
    }
   ],
   "source": [
    "# 9\n",
    "import pandas as pd\n",
    "\n",
    "# Assuming data is your DataFrame containing 'Max_temperature_C' and 'Crop_type' columns\n",
    "\n",
    "# Find the most common Max_temperature_C\n",
    "most_common_temp = field_df['Max_temperature_C'].mode()[0]\n",
    "\n",
    "# Find the least common Crop_type\n",
    "least_common_crop = field_df['Crop_type'].value_counts().idxmin()\n",
    "\n",
    "# Extract the first three digits of the most common Max_temperature_C\n",
    "first_three_digits = str(most_common_temp)[:3]\n",
    "\n",
    "# Extract the last three letters of the least common Crop_type\n",
    "last_three_letters = least_common_crop[-3:]\n",
    "\n",
    "# Concatenate the first three digits of the most common Max_temperature_C with the last three letters of the least common Crop_type\n",
    "result = first_three_digits + last_three_letters\n",
    "\n",
    "print(result)\n"
   ]
  },
  {
   "cell_type": "code",
   "execution_count": 13,
   "id": "8feac7d1-9f28-4014-94f1-f98186857ba5",
   "metadata": {},
   "outputs": [
    {
     "name": "stderr",
     "output_type": "stream",
     "text": [
      "C:\\Users\\zakar\\AppData\\Local\\Temp\\ipykernel_3632\\3367970846.py:19: FutureWarning: \n",
      "\n",
      "Passing `palette` without assigning `hue` is deprecated and will be removed in v0.14.0. Assign the `x` variable to `hue` and set `legend=False` for the same effect.\n",
      "\n",
      "  sns.violinplot(x='Elevation_Category', y='Annual_yield', data=field_df, palette='viridis')\n"
     ]
    },
    {
     "data": {
      "image/png": "[encoded data removed]",
      "text/plain": [
       "<Figure size 1000x600 with 1 Axes>"
      ]
     },
     "metadata": {},
     "output_type": "display_data"
    }
   ],
   "source": [
    "# 10 \n",
    "import matplotlib.pyplot as plt\n",
    "import seaborn as sns\n",
    "\n",
    "# Categorize 'Elevation' into ranges: Low, Medium, High\n",
    "def categorize_elevation(elevation):\n",
    "    if elevation < 300:\n",
    "        return 'Low'\n",
    "    elif 300 <= elevation <= 600:\n",
    "        return 'Medium'\n",
    "    else:\n",
    "        return 'High'\n",
    "\n",
    "# Apply categorization to create a new column 'Elevation_Category'\n",
    "field_df['Elevation_Category'] = field_df['Elevation'].apply(categorize_elevation)\n",
    "\n",
    "# Create violin plot\n",
    "plt.figure(figsize=(10, 6))\n",
    "sns.violinplot(x='Elevation_Category', y='Annual_yield', data=field_df, palette='viridis')\n",
    "plt.title('Distribution of Annual Yield Across Elevation Ranges')\n",
    "plt.xlabel('Elevation Range')\n",
    "plt.ylabel('Annual Yield')\n",
    "plt.show()\n"
   ]
  },
  {
   "cell_type": "code",
   "execution_count": 14,
   "id": "36bd883e-468d-4f7c-8bb3-c9d9a8cf072c",
   "metadata": {},
   "outputs": [
    {
     "data": {
      "text/plain": [
       "42"
      ]
     },
     "execution_count": 14,
     "metadata": {},
     "output_type": "execute_result"
    }
   ],
   "source": [
    "# 11\n",
    "unique = field_df[\"Crop_type\"].unique()\n",
    "unique\n",
    "sum = 0\n",
    "for x in unique:\n",
    "    sum += len(x)\n",
    "sum"
   ]
  },
  {
   "cell_type": "code",
   "execution_count": 15,
   "id": "746a27b0-13a6-4ad6-bb6b-13076e413e2d",
   "metadata": {},
   "outputs": [
    {
     "name": "stdout",
     "output_type": "stream",
     "text": [
      "0.598\n"
     ]
    }
   ],
   "source": [
    "# 12 \n",
    "from scipy.stats import ttest_ind\n",
    "import pandas as pd\n",
    "\n",
    "# Assuming data is your DataFrame containing 'Annual_yield' and 'Crop_type' columns\n",
    "\n",
    "# Filter data for 'coffee' and 'banana' crop types\n",
    "coffee_yield = field_df[field_df['Crop_type'] == 'coffee']['Annual_yield']\n",
    "banana_yield = field_df[field_df['Crop_type'] == 'banana']['Annual_yield']\n",
    "\n",
    "# Perform t-test\n",
    "t_stat, p_val = ttest_ind(coffee_yield, banana_yield, equal_var=False)\n",
    "\n",
    "# Print p-value rounded to three decimal places\n",
    "print(round(p_val, 3))"
   ]
  },
  {
   "cell_type": "code",
   "execution_count": null,
   "id": "10d9d159-0d55-4cb9-abcf-9c730bba6b3e",
   "metadata": {},
   "outputs": [],
   "source": []
  }
 ],
 "metadata": {
  "kernelspec": {
   "display_name": "Python 3 (ipykernel)",
   "language": "python",
   "name": "python3"
  },
  "language_info": {
   "codemirror_mode": {
    "name": "ipython",
    "version": 3
   },
   "file_extension": ".py",
   "mimetype": "text/x-python",
   "name": "python",
   "nbconvert_exporter": "python",
   "pygments_lexer": "ipython3",
   "version": "3.12.1"
  }
 },
 "nbformat": 4,
 "nbformat_minor": 5
}
