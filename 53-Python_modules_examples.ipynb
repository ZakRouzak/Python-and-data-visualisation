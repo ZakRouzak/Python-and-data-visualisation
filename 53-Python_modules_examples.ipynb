{
 "cells": [
  {
   "cell_type": "markdown",
   "id": "1e8c3b42",
   "metadata": {},
   "source": [
    "<div align=\"center\" style=\" font-size: 80%; text-align: center; margin: 0 auto\">\n",
    "<img src=\"https://raw.githubusercontent.com/Explore-AI/Pictures/master/Python-Notebook-Banners/Examples.png\"  style=\"display: block; margin-left: auto; margin-right: auto;\";/>\n",
    "</div>"
   ]
  },
  {
   "cell_type": "markdown",
   "id": "f662d169",
   "metadata": {},
   "source": [
    "# Examples: Python modules\n",
    "© ExploreAI Academy"
   ]
  },
  {
   "cell_type": "markdown",
   "id": "26af890c",
   "metadata": {},
   "source": [
    "This notebook accompanies the walk-through video on Python modules and packages, and also contains a few additional examples on how we can use modules. \n",
    "\n"
   ]
  },
  {
   "cell_type": "markdown",
   "id": "0e7ee70a",
   "metadata": {},
   "source": [
    "## Learning Objectives\n",
    "In this train we will learn how to:\n",
    "- Write a module and import all or specific objects from a module. \n",
    "- Import modules using an alias name and explore the use of built-in modules.\n",
    "\n",
    "\n",
    "## Outline\n",
    "To do this, we will:\n",
    "- Define the importance of modules and packages in programming.\n",
    "- Review the syntax and conventions for importing modules. \n",
    "- Consider the use of built-in Python modules."
   ]
  },
  {
   "cell_type": "markdown",
   "id": "3562c909",
   "metadata": {},
   "source": [
    "## Introduction\n",
    "Modular programming is a style of programming that promotes code reusability; allowing us to generate single pieces of code which can be used in multiple parts of a project - thus saving time and resources. The resulting code can be simpler to understand and maintain since components can be considered in isolation. In Python, **modularisation** is implemented using functions, modules and packages.\n",
    "\n",
    "A **module** is a file consisting of Python code. A module can define functions, classes, variables and runnable code. These modules can be imported and referenced from other Python code. A **Python package** (also referred to as a library) is a collection of hierarchically structured directories of Python code consisting of sub-packages and modules.\n",
    "\n",
    "Modules and packages are two mechanisms that facilitate modular programming. \n",
    "\n",
    "## Why modularisation? \n",
    "\n",
    "* **Reusability**: Eliminates the need to write new code, as functionality defined in a single module can be easily reused.\n",
    "\n",
    "\n",
    "* **Simplicity**: Modules generally tend to focus on a selected area of the problem which is usually small, rather than focusing on the entire problem at hand. Integrating the use of selected modules will result in systematically dealing with each small problem in the code, making development easier and less error-prone.\n",
    "\n",
    "\n",
    "* **Maintainability**: Modules in Python are often designed to be self-supporting. In this sense, one module does not depend entirely upon other modules to work. Therefore it is unlikely that modifying a single module of a program will affect other parts of the program. This allows a team of many programmers or data scientists to work collaboratively on a large application."
   ]
  },
  {
   "cell_type": "markdown",
   "id": "e7c61c07",
   "metadata": {},
   "source": [
    "## Working with modules  \n",
    "\n",
    "### Creating modules\n",
    "Creating a module is as simply as saving a Python script with functions, classes, variables and running code. The file name is the module name with the suffix `.py` appended.\n",
    "\n",
    "### Importing modules \n",
    "We can access this module and its elements from a different Python file by using the `import` statement. \n",
    "* We can import a single module/package:\n",
    "\n",
    "    ```python\n",
    "    import <module_name>\n",
    "    ```\n",
    "\n",
    "* import multiple modules using individual import statements:\n",
    "\n",
    "    ```python\n",
    "    import <module_1_name>\n",
    "    import <module_2_name>\n",
    "    import <module_3_name>\n",
    "    ...```\n",
    "    \n",
    "    \n",
    "                      \n",
    "The same rules apply when dealing with packages. We can import specific modules within a package by using dot notation. For this to work, we have to structure packages and modules in a way that reflects the hierarchy in the package directory.\n",
    "\n",
    "   ```python\n",
    "    import <package_name>.<sub_package_name>.<module_name>.<...>\n",
    "   ```\n",
    "\n",
    "Let's go ahead and create our own module, with the following 3 types of elements:\n",
    "\n",
    "*   A variable `s`\n",
    "*   A function `say_hi()`\n",
    "*   A class `Greet`"
   ]
  },
  {
   "cell_type": "code",
   "execution_count": 1,
   "id": "e87285b8",
   "metadata": {},
   "outputs": [],
   "source": [
    "# Contents of the module we are creating \n",
    "content = \"\"\"\n",
    "s = 'Hello ' \n",
    "\n",
    "def say_hi(name):\n",
    "    print(s + name)\n",
    "\n",
    "class Greet:\n",
    "    pass\n",
    "\"\"\"\n",
    "\n",
    "# Write the above text to a file called my_module.py\n",
    "# within our current working directory. \n",
    "with open('./my_module.py', 'w') as fp:\n",
    "    fp.write(content)"
   ]
  },
  {
   "cell_type": "markdown",
   "id": "ede20263",
   "metadata": {},
   "source": [
    "This command writes (or saves) our module into our working directory, so that we can use it again."
   ]
  },
  {
   "cell_type": "code",
   "execution_count": 2,
   "id": "b34febe7",
   "metadata": {},
   "outputs": [],
   "source": [
    "#Import the module we've just made! \n",
    "import my_module "
   ]
  },
  {
   "cell_type": "markdown",
   "id": "d623b036",
   "metadata": {},
   "source": [
    "Even though we've imported our module, note that its contents (the variables and functions we've defined within the module) are not directly accessible to us. As such, attempting to access these elements will result in (namespace) errors being thrown. We can safely see such errors using a `try-except` block:"
   ]
  },
  {
   "cell_type": "code",
   "execution_count": 3,
   "id": "86288085",
   "metadata": {},
   "outputs": [
    {
     "name": "stdout",
     "output_type": "stream",
     "text": [
      "Variable 's' does not exist!\n"
     ]
    }
   ],
   "source": [
    "try:\n",
    "    # Try to print the variable s\n",
    "    print(s)\n",
    "except NameError:\n",
    "    # We've caught a NameError exception (error!)\n",
    "    # We inform the programmer (you) that the variable does not exist\n",
    "    print(\"Variable 's' does not exist!\")"
   ]
  },
  {
   "cell_type": "markdown",
   "id": "9b8b6b2e",
   "metadata": {},
   "source": [
    "Learning from this experience, it is important to know that objects in a module are only accessible when prefixed with via dot notation, as illustrated below. "
   ]
  },
  {
   "cell_type": "code",
   "execution_count": 4,
   "id": "e920ba1d",
   "metadata": {},
   "outputs": [
    {
     "data": {
      "text/plain": [
       "'Hello '"
      ]
     },
     "execution_count": 4,
     "metadata": {},
     "output_type": "execute_result"
    }
   ],
   "source": [
    "# Accessing the variable s in my_module\n",
    "my_module.s "
   ]
  },
  {
   "cell_type": "code",
   "execution_count": 5,
   "id": "af5bf12c",
   "metadata": {},
   "outputs": [
    {
     "name": "stdout",
     "output_type": "stream",
     "text": [
      "Hello Nelson\n"
     ]
    }
   ],
   "source": [
    "# Accessing the say_hi function in my_module\n",
    "my_module.say_hi('Nelson')"
   ]
  },
  {
   "cell_type": "markdown",
   "id": "32b5b877",
   "metadata": {},
   "source": [
    "### Example: Importing modules using an alias\n",
    "The `import` statement in Python also allows for the use of aliases when referencing a module. Using the `as` keyword, we can save ourselves from having to type otherwise long package names each time we need to access an object from a given module/ package. This usually follows the following syntax:\n",
    "\n",
    "```python\n",
    "import <module_name> as <new_model_name>\n",
    "```\n",
    "or \n",
    "\n",
    "```python \n",
    "from <package_name> import <module_name> as <new_model_name>\n",
    "```\n",
    "\n",
    "for example:"
   ]
  },
  {
   "cell_type": "code",
   "execution_count": 6,
   "id": "a2253207",
   "metadata": {},
   "outputs": [],
   "source": [
    "# Alias for my_module\n",
    "import my_module as md"
   ]
  },
  {
   "cell_type": "markdown",
   "id": "94a12604",
   "metadata": {},
   "source": [
    "We can thus treat the alias as the new name for the module. "
   ]
  },
  {
   "cell_type": "code",
   "execution_count": 7,
   "id": "01824c3d",
   "metadata": {},
   "outputs": [
    {
     "data": {
      "text/plain": [
       "'Hello '"
      ]
     },
     "execution_count": 7,
     "metadata": {},
     "output_type": "execute_result"
    }
   ],
   "source": [
    "# Accessing the variable s using an alias\n",
    "md.s\n"
   ]
  },
  {
   "cell_type": "code",
   "execution_count": 8,
   "id": "34b57906",
   "metadata": {},
   "outputs": [
    {
     "name": "stdout",
     "output_type": "stream",
     "text": [
      "Hello Jabulani\n"
     ]
    }
   ],
   "source": [
    "# Accessing the say_hi function using an alias for my_module\n",
    "md.say_hi('Jabulani')"
   ]
  },
  {
   "cell_type": "code",
   "execution_count": 9,
   "id": "b5535f78",
   "metadata": {},
   "outputs": [
    {
     "data": {
      "text/plain": [
       "my_module.Greet"
      ]
     },
     "execution_count": 9,
     "metadata": {},
     "output_type": "execute_result"
    }
   ],
   "source": [
    "# Accessing the empty class, Greet\n",
    "md.Greet"
   ]
  },
  {
   "cell_type": "markdown",
   "id": "0c700f86",
   "metadata": {},
   "source": [
    "### Example: Importing modules directly\n",
    "Another way to access specific objects in a module is to use the `from` keyword and import them directly:\n",
    "\n",
    "```python \n",
    "from <module_name> import <x, y, z>\n",
    "``` "
   ]
  },
  {
   "cell_type": "code",
   "execution_count": 10,
   "id": "fe38039e",
   "metadata": {},
   "outputs": [],
   "source": [
    "from my_module import s, say_hi, Greet"
   ]
  },
  {
   "cell_type": "code",
   "execution_count": 11,
   "id": "52f51d01",
   "metadata": {},
   "outputs": [
    {
     "data": {
      "text/plain": [
       "'Hello '"
      ]
     },
     "execution_count": 11,
     "metadata": {},
     "output_type": "execute_result"
    }
   ],
   "source": [
    "s"
   ]
  },
  {
   "cell_type": "code",
   "execution_count": 12,
   "id": "d45550ec",
   "metadata": {},
   "outputs": [
    {
     "name": "stdout",
     "output_type": "stream",
     "text": [
      "Hello Jabulani\n"
     ]
    }
   ],
   "source": [
    "say_hi('Jabulani')"
   ]
  },
  {
   "cell_type": "code",
   "execution_count": 13,
   "id": "6f53499c",
   "metadata": {},
   "outputs": [
    {
     "data": {
      "text/plain": [
       "my_module.Greet"
      ]
     },
     "execution_count": 13,
     "metadata": {},
     "output_type": "execute_result"
    }
   ],
   "source": [
    "Greet"
   ]
  },
  {
   "cell_type": "markdown",
   "id": "e5472586",
   "metadata": {},
   "source": [
    "We can see that using the `from xx import yy` structure provides access to the individual elements in the module without having to use dot notation. However, using aliases is the recommended way of importing modules and packages, as this prevents potential confusion when different modules contain functions or classes with the same name.\n",
    "\n",
    "To select all objects from a module we can use the following command, where the asterisk **( * )** *signifies all* :\n",
    "\n",
    "```python\n",
    "from <module_name> import*\n",
    "```\n",
    "Let's see this in practice one more time: "
   ]
  },
  {
   "cell_type": "code",
   "execution_count": 14,
   "id": "d4083840",
   "metadata": {},
   "outputs": [],
   "source": [
    "from my_module import * "
   ]
  },
  {
   "cell_type": "markdown",
   "id": "c3b09505",
   "metadata": {},
   "source": [
    "Now we have access to all our module contents"
   ]
  },
  {
   "cell_type": "code",
   "execution_count": 15,
   "id": "bb7c4281",
   "metadata": {},
   "outputs": [
    {
     "name": "stdout",
     "output_type": "stream",
     "text": [
      "Hello Joanne\n"
     ]
    }
   ],
   "source": [
    "say_hi('Joanne')"
   ]
  },
  {
   "cell_type": "code",
   "execution_count": 16,
   "id": "712a1bb4",
   "metadata": {},
   "outputs": [
    {
     "data": {
      "text/plain": [
       "my_module.Greet"
      ]
     },
     "execution_count": 16,
     "metadata": {},
     "output_type": "execute_result"
    }
   ],
   "source": [
    "Greet"
   ]
  },
  {
   "cell_type": "markdown",
   "id": "650b646a",
   "metadata": {},
   "source": [
    "## Built-in modules \n",
    "Python contains a large number of what are known as 'built-in' modules. These modules can be accessed in Python programs by simply importing them using their name preceded by the keyword `import`. \n",
    "\n",
    "Each built-in module contains resources for certain system-specific functionalities such as Operating System management, disk Input-Output, etc. Python scripts(with the **.py** extension) containing useful utilities are embedded within the standard library. \n",
    "\n",
    "To **display a list of all available modules**, use the following command:\n",
    "\n",
    "`help('modules')`"
   ]
  },
  {
   "cell_type": "code",
   "execution_count": 17,
   "id": "82f12084",
   "metadata": {},
   "outputs": [
    {
     "name": "stdout",
     "output_type": "stream",
     "text": [
      "\n",
      "Please wait a moment while I gather a list of all available modules...\n",
      "\n",
      "test_sqlite3: testing with version '2.6.0', sqlite_version '3.39.4'\n",
      "[False, 1, 1, 2, 1, 3, 'a', 0, 0]\n",
      "2\n",
      "4\n",
      "[1, 2, -3, 4, 5, -7, 23]\n",
      "25\n",
      "Maximum Obtainable Value is 22\n"
     ]
    },
    {
     "name": "stderr",
     "output_type": "stream",
     "text": [
      "C:\\Program Files\\Python311\\Lib\\pkgutil.py:92: UserWarning: The numpy.array_api submodule is still experimental. See NEP 47.\n",
      "  __import__(info.name)\n",
      "C:\\Program Files\\Python311\\Lib\\site-packages\\_distutils_hack\\__init__.py:33: UserWarning: Setuptools is replacing distutils.\n",
      "  warnings.warn(\"Setuptools is replacing distutils.\")\n"
     ]
    },
    {
     "name": "stdout",
     "output_type": "stream",
     "text": [
      "pygame 2.5.2 (SDL 2.28.3, Python 3.11.2)\n",
      "Hello from the pygame community. https://www.pygame.org/contribute.html\n",
      "IPython             binascii            markupsafe          start_pythonwin\n",
      "__future__          bisect              marshal             stat\n",
      "__hello__           bleach              math                statistics\n",
      "__phello__          bs4                 matplotlib_inline   string\n",
      "_abc                builtins            mimetypes           stringprep\n",
      "_aix_support        bz2                 mistune             struct\n",
      "_argon2_cffi_bindings cProfile            mmap                subprocess\n",
      "_ast                calendar            mmapfile            sunau\n",
      "_asyncio            certifi             mmsystem            symtable\n",
      "_bisect             cffi                modulefinder        sys\n",
      "_blake2             cgi                 msilib              sysconfig\n",
      "_bootsubprocess     cgitb               msvcrt              tabnanny\n",
      "_bz2                charset_normalizer  multiprocessing     tarfile\n",
      "_cffi_backend       chunk               my_module           telnetlib\n",
      "_codecs             cmath               nbclient            tempfile\n",
      "_codecs_cn          cmd                 nbconvert           terminado\n",
      "_codecs_hk          code                nbformat            test\n",
      "_codecs_iso2022     codecs              nest_asyncio        textwrap\n",
      "_codecs_jp          codeop              netbios             this\n",
      "_codecs_kr          collections         netrc               threading\n",
      "_codecs_tw          colorama            nntplib             time\n",
      "_collections        colorsys            notebook            timeit\n",
      "_collections_abc    comm                notebook_shim       timer\n",
      "_compat_pickle      commctrl            nt                  tinycss2\n",
      "_compression        compileall          ntpath              tkinter\n",
      "_contextvars        concurrent          ntsecuritycon       token\n",
      "_csv                configparser        nturl2path          tokenize\n",
      "_ctypes             contextlib          numbers             tomllib\n",
      "_ctypes_test        contextvars         numpy               tornado\n",
      "_datetime           copy                odbc                tqdm\n",
      "_decimal            copyreg             opcode              trace\n",
      "_distutils_hack     crypt               operator            traceback\n",
      "_elementtree        csv                 optparse            tracemalloc\n",
      "_functools          ctypes              os                  traitlets\n",
      "_hashlib            curses              overrides           tty\n",
      "_heapq              dataclasses         packaging           turtle\n",
      "_imp                datetime            pandocfilters       turtledemo\n",
      "_io                 dateutil            parso               types\n",
      "_json               dbi                 pathlib             typing\n",
      "_locale             dbm                 pdb                 unicodedata\n",
      "_lsprof             dde                 perfmon             unittest\n",
      "_lzma               debugpy             pickle              uri_template\n",
      "_markupbase         decimal             pickleshare         urllib\n",
      "_md5                decorator           pickletools         urllib3\n",
      "_msi                defusedxml          pip                 uu\n",
      "_multibytecodec     difflib             pipes               uuid\n",
      "_multiprocessing    dis                 pkg_resources       venv\n",
      "_opcode             distutils           pkgutil             warnings\n",
      "_operator           doctest             platform            wave\n",
      "_osx_support        email               platformdirs        wcwidth\n",
      "_overlapped         encodings           plistlib            weakref\n",
      "_pickle             ensurepip           poplib              webbrowser\n",
      "_py_abc             enum                posixpath           webcolors\n",
      "_pydecimal          errno               pprint              webencodings\n",
      "_pyio               executing           profile             websocket\n",
      "_queue              fastjsonschema      prometheus_client   widgetsnbextension\n",
      "_random             faulthandler        prompt_toolkit      win2kras\n",
      "_sha1               filecmp             pstats              win32api\n",
      "_sha256             fileinput           psutil              win32clipboard\n",
      "_sha3               fnmatch             pty                 win32com\n",
      "_sha512             fqdn                pure_eval           win32con\n",
      "_signal             fractions           py_compile          win32console\n",
      "_sitebuiltins       ftplib              pyclbr              win32cred\n",
      "_socket             functools           pycparser           win32crypt\n",
      "_sqlite3            gc                  pydoc               win32cryptcon\n",
      "_sre                genericpath         pydoc_data          win32event\n",
      "_ssl                getopt              pyexpat             win32evtlog\n",
      "_stat               getpass             pygame              win32evtlogutil\n",
      "_statistics         gettext             pygments            win32file\n",
      "_string             glob                pythoncom           win32gui\n",
      "_strptime           graphlib            pythonjsonlogger    win32gui_struct\n",
      "_struct             gzip                pywin               win32help\n",
      "_symtable           hashlib             pywin32_bootstrap   win32inet\n",
      "_testbuffer         heapq               pywin32_testutil    win32inetcon\n",
      "_testcapi           hmac                pywintypes          win32job\n",
      "_testconsole        html                qtconsole           win32lz\n",
      "_testimportmultiple http                qtpy                win32net\n",
      "_testinternalcapi   idlelib             queue               win32netcon\n",
      "_testmultiphase     idna                quopri              win32pdh\n",
      "_thread             imaplib             random              win32pdhquery\n",
      "_threading_local    imghdr              rasutil             win32pdhutil\n",
      "_tkinter            imp                 re                  win32pipe\n",
      "_tokenize           importlib           referencing         win32print\n",
      "_tracemalloc        inspect             regcheck            win32process\n",
      "_typing             io                  regutil             win32profile\n",
      "_uuid               ipaddress           reprlib             win32ras\n",
      "_warnings           ipykernel           requests            win32rcparser\n",
      "_weakref            ipykernel_launcher  rfc3339_validator   win32security\n",
      "_weakrefset         ipython_genutils    rfc3986_validator   win32service\n",
      "_win32sysloader     ipywidgets          rlcompleter         win32serviceutil\n",
      "_winapi             isapi               rpds                win32timezone\n",
      "_winxptheme         isoduration         runpy               win32trace\n",
      "_xxsubinterpreters  itertools           sched               win32traceutil\n",
      "_yaml               jedi                secrets             win32transaction\n",
      "_zoneinfo           jinja2              select              win32ts\n",
      "abc                 json                selectors           win32ui\n",
      "adodbapi            json5               send2trash          win32uiole\n",
      "afxres              jsonpointer         servicemanager      win32verstamp\n",
      "aifc                jsonschema          setuptools          win32wnet\n",
      "algorithms          jsonschema_specifications shelve              winerror\n",
      "antigravity         jupyter             shlex               winioctlcon\n",
      "anyio               jupyter_client      shutil              winnt\n",
      "argon2              jupyter_console     signal              winperf\n",
      "argparse            jupyter_core        site                winpty\n",
      "array               jupyter_events      six                 winreg\n",
      "arrow               jupyter_lsp         smtpd               winsound\n",
      "ast                 jupyter_server      smtplib             winxpgui\n",
      "asttokens           jupyter_server_terminals sndhdr              winxptheme\n",
      "async_lru           jupyterlab          sniffio             wsgiref\n",
      "asynchat            jupyterlab_pygments socket              xdrlib\n",
      "asyncio             jupyterlab_server   socketserver        xml\n",
      "asyncore            jupyterlab_widgets  soupsieve           xmlrpc\n",
      "atexit              keyword             sqlite3             xxsubtype\n",
      "attr                lib2to3             sre_compile         yaml\n",
      "attrs               linecache           sre_constants       zipapp\n",
      "audioop             locale              sre_parse           zipfile\n",
      "babel               logging             ssl                 zipimport\n",
      "backcall            lzma                sspi                zlib\n",
      "base64              mailbox             sspicon             zmq\n",
      "bdb                 mailcap             stack_data          zoneinfo\n",
      "\n",
      "Enter any module name to get more help.  Or, type \"modules spam\" to search\n",
      "for modules whose name or summary contain the string \"spam\".\n",
      "\n"
     ]
    }
   ],
   "source": [
    "help('modules') # this might take a while"
   ]
  },
  {
   "cell_type": "markdown",
   "id": "7e7ff785",
   "metadata": {},
   "source": [
    "Alternatively, the `dir()` function is a built-in function that can be used to **list all the function names (or variable names) in a module**:\n",
    "\n",
    "`dir(module_name)`"
   ]
  },
  {
   "cell_type": "code",
   "execution_count": 18,
   "id": "1d2326d0",
   "metadata": {},
   "outputs": [
    {
     "name": "stdout",
     "output_type": "stream",
     "text": [
      "The square root of 81 is equal to 9.0\n",
      "Functions in the math module: ['__doc__', '__loader__', '__name__', '__package__', '__spec__', 'acos', 'acosh', 'asin', 'asinh', 'atan', 'atan2', 'atanh', 'cbrt', 'ceil', 'comb', 'copysign', 'cos', 'cosh', 'degrees', 'dist', 'e', 'erf', 'erfc', 'exp', 'exp2', 'expm1', 'fabs', 'factorial', 'floor', 'fmod', 'frexp', 'fsum', 'gamma', 'gcd', 'hypot', 'inf', 'isclose', 'isfinite', 'isinf', 'isnan', 'isqrt', 'lcm', 'ldexp', 'lgamma', 'log', 'log10', 'log1p', 'log2', 'modf', 'nan', 'nextafter', 'perm', 'pi', 'pow', 'prod', 'radians', 'remainder', 'sin', 'sinh', 'sqrt', 'tan', 'tanh', 'tau', 'trunc', 'ulp']\n"
     ]
    }
   ],
   "source": [
    "# Import math module \n",
    "import math \n",
    "\n",
    "# Use the sqrt function in the math module\n",
    "x = math.sqrt(81)\n",
    "print('The square root of 81 is equal to {}'.format(x))\n",
    "\n",
    "# List all functions in math module \n",
    "list_all= dir(math)\n",
    "print('Functions in the math module: {}'.format(list_all))"
   ]
  },
  {
   "cell_type": "markdown",
   "id": "e9956efe",
   "metadata": {
    "tags": []
   },
   "source": [
    "## Summary\n",
    "\n",
    "In this train, we learned how to create, import and use modules. We also explored the use of built-in modules in Python and how to determine what functions are present within modules. "
   ]
  },
  {
   "cell_type": "markdown",
   "id": "26fd094b-0fee-46f1-a4b8-73766813c42b",
   "metadata": {
    "tags": []
   },
   "source": [
    "#  \n",
    "\n",
    "<div align=\"center\" style=\" font-size: 80%; text-align: center; margin: 0 auto\">\n",
    "<img src=\"https://raw.githubusercontent.com/Explore-AI/Pictures/master/ExploreAI_logos/EAI_Blue_Dark.png\"  style=\"width:200px\";/>\n",
    "</div>"
   ]
  }
 ],
 "metadata": {
  "kernelspec": {
   "display_name": "Python 3 (ipykernel)",
   "language": "python",
   "name": "python3"
  },
  "language_info": {
   "codemirror_mode": {
    "name": "ipython",
    "version": 3
   },
   "file_extension": ".py",
   "mimetype": "text/x-python",
   "name": "python",
   "nbconvert_exporter": "python",
   "pygments_lexer": "ipython3",
   "version": "3.11.2"
  }
 },
 "nbformat": 4,
 "nbformat_minor": 5
}
