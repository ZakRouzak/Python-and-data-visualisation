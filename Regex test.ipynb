{
 "cells": [
  {
   "cell_type": "code",
   "execution_count": 1,
   "id": "5673e505-fa85-4bbc-8c17-2677ce611948",
   "metadata": {},
   "outputs": [
    {
     "name": "stdout",
     "output_type": "stream",
     "text": [
      "['quick', 'brown', 'jumps', 'over', 'lazy', 'dogs']\n",
      "['og']\n"
     ]
    }
   ],
   "source": [
    "# test 1\n",
    "import re\n",
    "\n",
    "text = \"The quick brown fox jumps over 12 lazy dogs.\"\n",
    "\n",
    "# Find any word of at least 4 characters\n",
    "# {4,} is a greedy match\n",
    "print(re.findall(r\"\\b\\w{4,}\\b\", text))\n",
    "\n",
    "# Find 'o' followed by one or more 'g's\n",
    "print(re.findall(r\"og+\", text))\n"
   ]
  },
  {
   "cell_type": "code",
   "execution_count": 3,
   "id": "1c81e4a2-b2f1-400e-b484-255e5fc77938",
   "metadata": {},
   "outputs": [
    {
     "name": "stdout",
     "output_type": "stream",
     "text": [
      "Captured Group: 123\n"
     ]
    }
   ],
   "source": [
    "# test 2\n",
    "import re \n",
    "\n",
    "# The string to be searched\n",
    "text = \"abc123\"\n",
    "\n",
    "# Regex pattern with a capturing group for one or more digits\n",
    "pattern = r\"(\\d+)\"\n",
    "\n",
    "# Searching the text for the pattern\n",
    "match = re.search(pattern, text)\n",
    "\n",
    "# Checking if a match is found\n",
    "if match:\n",
    "    # Retrieving the first captured group\n",
    "    captured_group = match.group(1)\n",
    "    print(\"Captured Group:\", captured_group)\n",
    "else:\n",
    "    print(\"No match found.\")"
   ]
  },
  {
   "cell_type": "code",
   "execution_count": 7,
   "id": "cd542259-cec3-4978-ac0a-4861c6d34f78",
   "metadata": {},
   "outputs": [
    {
     "name": "stdout",
     "output_type": "stream",
     "text": [
      "Match found: amazing\n",
      "Match starts at position: 13\n"
     ]
    }
   ],
   "source": [
    "# test 3\n",
    "import re\n",
    "\n",
    "text = \"Python is an amazing programming language.\"\n",
    "pattern = \"amazing\"\n",
    "\n",
    "match = re.search(pattern, text)\n",
    "\n",
    "if match:\n",
    "    print(\"Match found:\", match.group())\n",
    "    print(\"Match starts at position:\", match.start())\n",
    "else:\n",
    "    print(\"No match found.\")"
   ]
  },
  {
   "cell_type": "code",
   "execution_count": 10,
   "id": "30c69f94-a0cc-49c0-86b5-f9be11ad6875",
   "metadata": {},
   "outputs": [
    {
     "name": "stdout",
     "output_type": "stream",
     "text": [
      "Match found: Hello\n"
     ]
    }
   ],
   "source": [
    "# test 4 \n",
    "import re\n",
    "\n",
    "pattern = \"Hello\"\n",
    "text = \"Hello, world!\"\n",
    "\n",
    "# Using re.match to find pattern at the start of the text\n",
    "match = re.match(pattern, text)\n",
    "\n",
    "if match:\n",
    "    print(\"Match found:\", match.group())\n",
    "else:\n",
    "    print(\"No match found.\")"
   ]
  },
  {
   "cell_type": "code",
   "execution_count": 11,
   "id": "55e54572-5c0b-4761-b23e-ce86492820f4",
   "metadata": {},
   "outputs": [
    {
     "name": "stdout",
     "output_type": "stream",
     "text": [
      "['2023-01-01', '2024-02-02']\n",
      "[('2023', '01', '01'), ('2024', '02', '02')]\n"
     ]
    }
   ],
   "source": [
    "# test 5 \n",
    "import re\n",
    "\n",
    "text = \"The dates are 2023-01-01, 2024-02-02\"\n",
    "# Single capturing group\n",
    "pattern = r\"(\\d{4}-\\d{2}-\\d{2})\"\n",
    "# Multiple capturing groups\n",
    "pattern_multiple = r\"(\\d{4})-(\\d{2})-(\\d{2})\"\n",
    "\n",
    "dates = re.findall(pattern, text)\n",
    "date_parts = re.findall(pattern_multiple, text)\n",
    "\n",
    "print(dates)  # Output: ['2023-01-01', '2024-02-02']\n",
    "print(date_parts)"
   ]
  },
  {
   "cell_type": "code",
   "execution_count": 12,
   "id": "fc030676-753a-4126-b23a-24d152c92bc8",
   "metadata": {},
   "outputs": [
    {
     "name": "stdout",
     "output_type": "stream",
     "text": [
      "Match: Spain at Position: (12, 17)\n"
     ]
    }
   ],
   "source": [
    "# test 6\n",
    "import re\n",
    "\n",
    "text = \"The rain in Spain stays mainly in the plain.\"\n",
    "pattern = r\"\\bS\\w+\"\n",
    "\n",
    "matches = re.finditer(pattern, text)\n",
    "\n",
    "for match in matches:\n",
    "    print(f\"Match: {match.group()} at Position: {match.span()}\")"
   ]
  },
  {
   "cell_type": "code",
   "execution_count": 13,
   "id": "4fa07ebc-c5b4-42ad-b9f3-ffffe93d3347",
   "metadata": {},
   "outputs": [
    {
     "name": "stdout",
     "output_type": "stream",
     "text": [
      "I love Java. Java is great for scripting. Java can be used for data analysis.\n"
     ]
    }
   ],
   "source": [
    "# test 7 \n",
    "import re\n",
    "\n",
    "text = \"I love Python. Python is great for scripting. Python can be used for data analysis.\"\n",
    "pattern = \"Python\"\n",
    "replacement = \"Java\"\n",
    "\n",
    "# Replace all occurrences of 'Python' with 'Java'\n",
    "result = re.sub(pattern, replacement, text)\n",
    "\n",
    "print(result)"
   ]
  },
  {
   "cell_type": "code",
   "execution_count": 15,
   "id": "07328f9a-43f3-4e88-9a82-6c5611a009a0",
   "metadata": {},
   "outputs": [
    {
     "name": "stdout",
     "output_type": "stream",
     "text": [
      "['Words', 'separated', 'by', 'commas (and some spaces)']\n"
     ]
    }
   ],
   "source": [
    "# test 8\n",
    "import re\n",
    "\n",
    "text = \"Words, separated, by, commas (and some spaces)\"\n",
    "pattern = \",\\s*\"  # Comma followed by zero or more spaces\n",
    "\n",
    "result = re.split(pattern, text)\n",
    "\n",
    "print(result)"
   ]
  },
  {
   "cell_type": "code",
   "execution_count": 18,
   "id": "03010587-679d-41d8-a7b0-1f10f4ec6fb9",
   "metadata": {},
   "outputs": [
    {
     "name": "stdout",
     "output_type": "stream",
     "text": [
      "No match found\n"
     ]
    }
   ],
   "source": [
    "# test 9\n",
    "import re\n",
    "\n",
    "# Compile the regex pattern for a simple word match\n",
    "pattern = re.compile(r'hello')\n",
    "\n",
    "# Sample text\n",
    "text = \"Hello, world!\"\n",
    "\n",
    "# Using the compiled pattern to search in the text\n",
    "match = pattern.search(text)\n",
    "if match:\n",
    "    print(\"Match found\")\n",
    "else:\n",
    "    print(\"No match found\")"
   ]
  },
  {
   "cell_type": "code",
   "execution_count": null,
   "id": "f693785f-da6e-4430-87ef-d49d3c769ed1",
   "metadata": {},
   "outputs": [],
   "source": []
  }
 ],
 "metadata": {
  "kernelspec": {
   "display_name": "Python 3 (ipykernel)",
   "language": "python",
   "name": "python3"
  },
  "language_info": {
   "codemirror_mode": {
    "name": "ipython",
    "version": 3
   },
   "file_extension": ".py",
   "mimetype": "text/x-python",
   "name": "python",
   "nbconvert_exporter": "python",
   "pygments_lexer": "ipython3",
   "version": "3.11.2"
  }
 },
 "nbformat": 4,
 "nbformat_minor": 5
}
